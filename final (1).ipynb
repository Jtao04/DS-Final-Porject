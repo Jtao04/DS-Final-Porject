{
 "cells": [
  {
   "cell_type": "markdown",
   "metadata": {},
   "source": [
    "In this project, we will design an algorithm to most efficiently predict which team in the National Basketball Association (NBA) will win the championship. Along with this, our algorithm will be able to identify and select specific players who are upcoming free agents (players with no contract with any team), and match them to a team who needs their skillset the most. In other words, our algorithm will select available players to join a team to maximize that team's chance to win a championship, based on its belief of what makes a team most likely to win a championship. To determine what teams have the best chance of winning a championship, we will use specific team data that historically correlates to championships. Specifically, we will use data like ORTG (Offensive Rating), where the higher the rating, the better the team's offense, and DRTG (Defensive Rating), where the lower the rating, the better the team’s defense. For example, last year, the Boston Celtics won the NBA championship. The Celtics ranked 1st in ORTG (123.2) and 3rd in DRTG (111.6) of all thirty NBA teams. In fact, the Celtics were the only NBA team to be top 3 in both. Other data that may be helpful to determine the NBA team most likely to win a championship is TS% (True shooting percentage [A players averaged shooting percentage between 2 point shots, 3 point shots, and 1 point shots]), which the Celtics also ranked 1st in. Average team age may be helpful as well, as only one team in NBA history has won a championship with an average age of 26.5 or below (age calculated by [sum of age * minutes] / [ sum of minutes]). Similarly, for determining what player (that is a free agent) best optimizes a team to win a championship, we will use the same data, but at an individual level. (ORTG, DRTG, TS%, Age) all exist as individual stats for players as well. Thus, if a team has a top DRTG, but lacks in ORTG, our algorithm will likely assign a player with a high ORTG to join that team, to maximize their chance of winning a championship. "
   ]
  },
  {
   "cell_type": "code",
   "execution_count": 1,
   "metadata": {},
   "outputs": [],
   "source": [
    "import pandas as pd\n",
    "import numpy as np\n",
    "import plotly.express as px\n",
    "from sklearn.metrics import r2_score\n",
    "import matplotlib.pyplot as plt\n",
    "import plotly.express as px\n",
    "import seaborn as sns\n",
    "from sklearn.model_selection import train_test_split\n",
    "from sklearn.ensemble import RandomForestClassifier\n",
    "from sklearn.metrics import accuracy_score"
   ]
  },
  {
   "cell_type": "code",
   "execution_count": 2,
   "metadata": {},
   "outputs": [
    {
     "data": {
      "text/html": [
       "<div>\n",
       "<style scoped>\n",
       "    .dataframe tbody tr th:only-of-type {\n",
       "        vertical-align: middle;\n",
       "    }\n",
       "\n",
       "    .dataframe tbody tr th {\n",
       "        vertical-align: top;\n",
       "    }\n",
       "\n",
       "    .dataframe thead th {\n",
       "        text-align: right;\n",
       "    }\n",
       "</style>\n",
       "<table border=\"1\" class=\"dataframe\">\n",
       "  <thead>\n",
       "    <tr style=\"text-align: right;\">\n",
       "      <th></th>\n",
       "      <th>Player</th>\n",
       "      <th>Age</th>\n",
       "      <th>Team</th>\n",
       "      <th>Pos</th>\n",
       "      <th>G</th>\n",
       "      <th>GS</th>\n",
       "      <th>MP</th>\n",
       "      <th>FG</th>\n",
       "      <th>FGA</th>\n",
       "      <th>FG%</th>\n",
       "      <th>...</th>\n",
       "      <th>ORB</th>\n",
       "      <th>DRB</th>\n",
       "      <th>TRB</th>\n",
       "      <th>AST</th>\n",
       "      <th>STL</th>\n",
       "      <th>BLK</th>\n",
       "      <th>TOV</th>\n",
       "      <th>PF</th>\n",
       "      <th>PTS</th>\n",
       "      <th>Awards</th>\n",
       "    </tr>\n",
       "  </thead>\n",
       "  <tbody>\n",
       "    <tr>\n",
       "      <th>0</th>\n",
       "      <td>Joel Embiid</td>\n",
       "      <td>29.0</td>\n",
       "      <td>PHI</td>\n",
       "      <td>C</td>\n",
       "      <td>39.0</td>\n",
       "      <td>39.0</td>\n",
       "      <td>33.6</td>\n",
       "      <td>11.5</td>\n",
       "      <td>21.8</td>\n",
       "      <td>0.529</td>\n",
       "      <td>...</td>\n",
       "      <td>2.4</td>\n",
       "      <td>8.6</td>\n",
       "      <td>11.0</td>\n",
       "      <td>5.6</td>\n",
       "      <td>1.2</td>\n",
       "      <td>1.7</td>\n",
       "      <td>3.8</td>\n",
       "      <td>2.9</td>\n",
       "      <td>34.7</td>\n",
       "      <td>AS</td>\n",
       "    </tr>\n",
       "    <tr>\n",
       "      <th>1</th>\n",
       "      <td>Luka Dončić</td>\n",
       "      <td>24.0</td>\n",
       "      <td>DAL</td>\n",
       "      <td>PG</td>\n",
       "      <td>70.0</td>\n",
       "      <td>70.0</td>\n",
       "      <td>37.5</td>\n",
       "      <td>11.5</td>\n",
       "      <td>23.6</td>\n",
       "      <td>0.487</td>\n",
       "      <td>...</td>\n",
       "      <td>0.8</td>\n",
       "      <td>8.4</td>\n",
       "      <td>9.2</td>\n",
       "      <td>9.8</td>\n",
       "      <td>1.4</td>\n",
       "      <td>0.5</td>\n",
       "      <td>4.0</td>\n",
       "      <td>2.1</td>\n",
       "      <td>33.9</td>\n",
       "      <td>MVP-3,CPOY-6,AS,NBA1</td>\n",
       "    </tr>\n",
       "    <tr>\n",
       "      <th>2</th>\n",
       "      <td>Giannis Antetokounmpo</td>\n",
       "      <td>29.0</td>\n",
       "      <td>MIL</td>\n",
       "      <td>PF</td>\n",
       "      <td>73.0</td>\n",
       "      <td>73.0</td>\n",
       "      <td>35.2</td>\n",
       "      <td>11.5</td>\n",
       "      <td>18.8</td>\n",
       "      <td>0.611</td>\n",
       "      <td>...</td>\n",
       "      <td>2.7</td>\n",
       "      <td>8.8</td>\n",
       "      <td>11.5</td>\n",
       "      <td>6.5</td>\n",
       "      <td>1.2</td>\n",
       "      <td>1.1</td>\n",
       "      <td>3.4</td>\n",
       "      <td>2.9</td>\n",
       "      <td>30.4</td>\n",
       "      <td>MVP-4,DPOY-9,CPOY-12,AS,NBA1</td>\n",
       "    </tr>\n",
       "    <tr>\n",
       "      <th>3</th>\n",
       "      <td>Shai Gilgeous-Alexander</td>\n",
       "      <td>25.0</td>\n",
       "      <td>OKC</td>\n",
       "      <td>PG</td>\n",
       "      <td>75.0</td>\n",
       "      <td>75.0</td>\n",
       "      <td>34.0</td>\n",
       "      <td>10.6</td>\n",
       "      <td>19.8</td>\n",
       "      <td>0.535</td>\n",
       "      <td>...</td>\n",
       "      <td>0.9</td>\n",
       "      <td>4.7</td>\n",
       "      <td>5.5</td>\n",
       "      <td>6.2</td>\n",
       "      <td>2.0</td>\n",
       "      <td>0.9</td>\n",
       "      <td>2.2</td>\n",
       "      <td>2.5</td>\n",
       "      <td>30.1</td>\n",
       "      <td>MVP-2,DPOY-7,CPOY-3,AS,NBA1</td>\n",
       "    </tr>\n",
       "    <tr>\n",
       "      <th>4</th>\n",
       "      <td>Jalen Brunson</td>\n",
       "      <td>27.0</td>\n",
       "      <td>NYK</td>\n",
       "      <td>PG</td>\n",
       "      <td>77.0</td>\n",
       "      <td>77.0</td>\n",
       "      <td>35.4</td>\n",
       "      <td>10.3</td>\n",
       "      <td>21.4</td>\n",
       "      <td>0.479</td>\n",
       "      <td>...</td>\n",
       "      <td>0.6</td>\n",
       "      <td>3.1</td>\n",
       "      <td>3.6</td>\n",
       "      <td>6.7</td>\n",
       "      <td>0.9</td>\n",
       "      <td>0.2</td>\n",
       "      <td>2.4</td>\n",
       "      <td>1.9</td>\n",
       "      <td>28.7</td>\n",
       "      <td>MVP-5,CPOY-5,AS,NBA2</td>\n",
       "    </tr>\n",
       "    <tr>\n",
       "      <th>...</th>\n",
       "      <td>...</td>\n",
       "      <td>...</td>\n",
       "      <td>...</td>\n",
       "      <td>...</td>\n",
       "      <td>...</td>\n",
       "      <td>...</td>\n",
       "      <td>...</td>\n",
       "      <td>...</td>\n",
       "      <td>...</td>\n",
       "      <td>...</td>\n",
       "      <td>...</td>\n",
       "      <td>...</td>\n",
       "      <td>...</td>\n",
       "      <td>...</td>\n",
       "      <td>...</td>\n",
       "      <td>...</td>\n",
       "      <td>...</td>\n",
       "      <td>...</td>\n",
       "      <td>...</td>\n",
       "      <td>...</td>\n",
       "      <td>...</td>\n",
       "    </tr>\n",
       "    <tr>\n",
       "      <th>730</th>\n",
       "      <td>Danny Green</td>\n",
       "      <td>36.0</td>\n",
       "      <td>PHI</td>\n",
       "      <td>SG</td>\n",
       "      <td>2.0</td>\n",
       "      <td>0.0</td>\n",
       "      <td>9.0</td>\n",
       "      <td>0.0</td>\n",
       "      <td>1.0</td>\n",
       "      <td>0.000</td>\n",
       "      <td>...</td>\n",
       "      <td>0.0</td>\n",
       "      <td>1.0</td>\n",
       "      <td>1.0</td>\n",
       "      <td>0.5</td>\n",
       "      <td>0.5</td>\n",
       "      <td>0.0</td>\n",
       "      <td>0.0</td>\n",
       "      <td>0.5</td>\n",
       "      <td>0.0</td>\n",
       "      <td>NaN</td>\n",
       "    </tr>\n",
       "    <tr>\n",
       "      <th>731</th>\n",
       "      <td>Ron Harper Jr.</td>\n",
       "      <td>23.0</td>\n",
       "      <td>TOR</td>\n",
       "      <td>PF</td>\n",
       "      <td>1.0</td>\n",
       "      <td>0.0</td>\n",
       "      <td>4.0</td>\n",
       "      <td>0.0</td>\n",
       "      <td>0.0</td>\n",
       "      <td>NaN</td>\n",
       "      <td>...</td>\n",
       "      <td>0.0</td>\n",
       "      <td>0.0</td>\n",
       "      <td>0.0</td>\n",
       "      <td>1.0</td>\n",
       "      <td>0.0</td>\n",
       "      <td>0.0</td>\n",
       "      <td>0.0</td>\n",
       "      <td>2.0</td>\n",
       "      <td>0.0</td>\n",
       "      <td>NaN</td>\n",
       "    </tr>\n",
       "    <tr>\n",
       "      <th>732</th>\n",
       "      <td>Justin Jackson</td>\n",
       "      <td>28.0</td>\n",
       "      <td>MIN</td>\n",
       "      <td>SF</td>\n",
       "      <td>2.0</td>\n",
       "      <td>0.0</td>\n",
       "      <td>0.5</td>\n",
       "      <td>0.0</td>\n",
       "      <td>0.0</td>\n",
       "      <td>NaN</td>\n",
       "      <td>...</td>\n",
       "      <td>0.0</td>\n",
       "      <td>0.0</td>\n",
       "      <td>0.0</td>\n",
       "      <td>0.0</td>\n",
       "      <td>0.0</td>\n",
       "      <td>0.0</td>\n",
       "      <td>0.0</td>\n",
       "      <td>0.0</td>\n",
       "      <td>0.0</td>\n",
       "      <td>NaN</td>\n",
       "    </tr>\n",
       "    <tr>\n",
       "      <th>733</th>\n",
       "      <td>Dmytro Skapintsev</td>\n",
       "      <td>25.0</td>\n",
       "      <td>NYK</td>\n",
       "      <td>C</td>\n",
       "      <td>2.0</td>\n",
       "      <td>0.0</td>\n",
       "      <td>1.0</td>\n",
       "      <td>0.0</td>\n",
       "      <td>0.5</td>\n",
       "      <td>0.000</td>\n",
       "      <td>...</td>\n",
       "      <td>0.0</td>\n",
       "      <td>0.0</td>\n",
       "      <td>0.0</td>\n",
       "      <td>0.0</td>\n",
       "      <td>0.0</td>\n",
       "      <td>0.0</td>\n",
       "      <td>0.0</td>\n",
       "      <td>0.0</td>\n",
       "      <td>0.0</td>\n",
       "      <td>NaN</td>\n",
       "    </tr>\n",
       "    <tr>\n",
       "      <th>734</th>\n",
       "      <td>Javonte Smart</td>\n",
       "      <td>24.0</td>\n",
       "      <td>PHI</td>\n",
       "      <td>PG</td>\n",
       "      <td>1.0</td>\n",
       "      <td>0.0</td>\n",
       "      <td>1.0</td>\n",
       "      <td>0.0</td>\n",
       "      <td>0.0</td>\n",
       "      <td>NaN</td>\n",
       "      <td>...</td>\n",
       "      <td>0.0</td>\n",
       "      <td>0.0</td>\n",
       "      <td>0.0</td>\n",
       "      <td>0.0</td>\n",
       "      <td>0.0</td>\n",
       "      <td>0.0</td>\n",
       "      <td>0.0</td>\n",
       "      <td>0.0</td>\n",
       "      <td>0.0</td>\n",
       "      <td>NaN</td>\n",
       "    </tr>\n",
       "  </tbody>\n",
       "</table>\n",
       "<p>735 rows × 30 columns</p>\n",
       "</div>"
      ],
      "text/plain": [
       "                      Player   Age Team Pos     G    GS    MP    FG   FGA  \\\n",
       "0                Joel Embiid  29.0  PHI   C  39.0  39.0  33.6  11.5  21.8   \n",
       "1                Luka Dončić  24.0  DAL  PG  70.0  70.0  37.5  11.5  23.6   \n",
       "2      Giannis Antetokounmpo  29.0  MIL  PF  73.0  73.0  35.2  11.5  18.8   \n",
       "3    Shai Gilgeous-Alexander  25.0  OKC  PG  75.0  75.0  34.0  10.6  19.8   \n",
       "4              Jalen Brunson  27.0  NYK  PG  77.0  77.0  35.4  10.3  21.4   \n",
       "..                       ...   ...  ...  ..   ...   ...   ...   ...   ...   \n",
       "730              Danny Green  36.0  PHI  SG   2.0   0.0   9.0   0.0   1.0   \n",
       "731           Ron Harper Jr.  23.0  TOR  PF   1.0   0.0   4.0   0.0   0.0   \n",
       "732           Justin Jackson  28.0  MIN  SF   2.0   0.0   0.5   0.0   0.0   \n",
       "733        Dmytro Skapintsev  25.0  NYK   C   2.0   0.0   1.0   0.0   0.5   \n",
       "734            Javonte Smart  24.0  PHI  PG   1.0   0.0   1.0   0.0   0.0   \n",
       "\n",
       "       FG%  ...  ORB  DRB   TRB  AST  STL  BLK  TOV   PF   PTS  \\\n",
       "0    0.529  ...  2.4  8.6  11.0  5.6  1.2  1.7  3.8  2.9  34.7   \n",
       "1    0.487  ...  0.8  8.4   9.2  9.8  1.4  0.5  4.0  2.1  33.9   \n",
       "2    0.611  ...  2.7  8.8  11.5  6.5  1.2  1.1  3.4  2.9  30.4   \n",
       "3    0.535  ...  0.9  4.7   5.5  6.2  2.0  0.9  2.2  2.5  30.1   \n",
       "4    0.479  ...  0.6  3.1   3.6  6.7  0.9  0.2  2.4  1.9  28.7   \n",
       "..     ...  ...  ...  ...   ...  ...  ...  ...  ...  ...   ...   \n",
       "730  0.000  ...  0.0  1.0   1.0  0.5  0.5  0.0  0.0  0.5   0.0   \n",
       "731    NaN  ...  0.0  0.0   0.0  1.0  0.0  0.0  0.0  2.0   0.0   \n",
       "732    NaN  ...  0.0  0.0   0.0  0.0  0.0  0.0  0.0  0.0   0.0   \n",
       "733  0.000  ...  0.0  0.0   0.0  0.0  0.0  0.0  0.0  0.0   0.0   \n",
       "734    NaN  ...  0.0  0.0   0.0  0.0  0.0  0.0  0.0  0.0   0.0   \n",
       "\n",
       "                           Awards  \n",
       "0                              AS  \n",
       "1            MVP-3,CPOY-6,AS,NBA1  \n",
       "2    MVP-4,DPOY-9,CPOY-12,AS,NBA1  \n",
       "3     MVP-2,DPOY-7,CPOY-3,AS,NBA1  \n",
       "4            MVP-5,CPOY-5,AS,NBA2  \n",
       "..                            ...  \n",
       "730                           NaN  \n",
       "731                           NaN  \n",
       "732                           NaN  \n",
       "733                           NaN  \n",
       "734                           NaN  \n",
       "\n",
       "[735 rows x 30 columns]"
      ]
     },
     "execution_count": 2,
     "metadata": {},
     "output_type": "execute_result"
    }
   ],
   "source": [
    "#The data for the players for one season\n",
    "def player_Seasonal_Data(yr):\n",
    "    \"\"\" Gets the seasonal data for all players for a specific season\n",
    "\n",
    "    Args:\n",
    "        yr (int): The year in which we want the table\n",
    "\n",
    "    Returns:\n",
    "        players_df (df): the dataframe containing all the player data for that year  \n",
    "    \"\"\"\n",
    "    url = f\"https://www.basketball-reference.com/leagues/NBA_{yr}_per_game.html\"\n",
    "    players_df = pd.read_html(url)[0].iloc[:-1,1:]\n",
    "    return players_df\n",
    "\n",
    "p_df = player_Seasonal_Data(2024)\n",
    "p_df"
   ]
  },
  {
   "cell_type": "code",
   "execution_count": 3,
   "metadata": {},
   "outputs": [
    {
     "data": {
      "text/html": [
       "<div>\n",
       "<style scoped>\n",
       "    .dataframe tbody tr th:only-of-type {\n",
       "        vertical-align: middle;\n",
       "    }\n",
       "\n",
       "    .dataframe tbody tr th {\n",
       "        vertical-align: top;\n",
       "    }\n",
       "\n",
       "    .dataframe thead th {\n",
       "        text-align: right;\n",
       "    }\n",
       "</style>\n",
       "<table border=\"1\" class=\"dataframe\">\n",
       "  <thead>\n",
       "    <tr style=\"text-align: right;\">\n",
       "      <th></th>\n",
       "      <th>Player</th>\n",
       "      <th>Age</th>\n",
       "      <th>Team</th>\n",
       "      <th>Pos</th>\n",
       "      <th>G</th>\n",
       "      <th>GS</th>\n",
       "      <th>MP</th>\n",
       "      <th>FG</th>\n",
       "      <th>FGA</th>\n",
       "      <th>FG%</th>\n",
       "      <th>...</th>\n",
       "      <th>PF</th>\n",
       "      <th>PTS</th>\n",
       "      <th>AS</th>\n",
       "      <th>6MOY</th>\n",
       "      <th>NBA</th>\n",
       "      <th>CPOY</th>\n",
       "      <th>DPOY</th>\n",
       "      <th>MVP</th>\n",
       "      <th>MIP</th>\n",
       "      <th>ROY</th>\n",
       "    </tr>\n",
       "  </thead>\n",
       "  <tbody>\n",
       "    <tr>\n",
       "      <th>0</th>\n",
       "      <td>Joel Embiid</td>\n",
       "      <td>29.0</td>\n",
       "      <td>PHI</td>\n",
       "      <td>C</td>\n",
       "      <td>39.0</td>\n",
       "      <td>39.0</td>\n",
       "      <td>33.6</td>\n",
       "      <td>11.5</td>\n",
       "      <td>21.8</td>\n",
       "      <td>0.529</td>\n",
       "      <td>...</td>\n",
       "      <td>2.9</td>\n",
       "      <td>34.7</td>\n",
       "      <td>1</td>\n",
       "      <td>0</td>\n",
       "      <td>0</td>\n",
       "      <td>0</td>\n",
       "      <td>0</td>\n",
       "      <td>0</td>\n",
       "      <td>0</td>\n",
       "      <td>0</td>\n",
       "    </tr>\n",
       "    <tr>\n",
       "      <th>1</th>\n",
       "      <td>Luka Dončić</td>\n",
       "      <td>24.0</td>\n",
       "      <td>DAL</td>\n",
       "      <td>PG</td>\n",
       "      <td>70.0</td>\n",
       "      <td>70.0</td>\n",
       "      <td>37.5</td>\n",
       "      <td>11.5</td>\n",
       "      <td>23.6</td>\n",
       "      <td>0.487</td>\n",
       "      <td>...</td>\n",
       "      <td>2.1</td>\n",
       "      <td>33.9</td>\n",
       "      <td>1</td>\n",
       "      <td>0</td>\n",
       "      <td>1</td>\n",
       "      <td>6</td>\n",
       "      <td>0</td>\n",
       "      <td>3</td>\n",
       "      <td>0</td>\n",
       "      <td>0</td>\n",
       "    </tr>\n",
       "    <tr>\n",
       "      <th>2</th>\n",
       "      <td>Giannis Antetokounmpo</td>\n",
       "      <td>29.0</td>\n",
       "      <td>MIL</td>\n",
       "      <td>PF</td>\n",
       "      <td>73.0</td>\n",
       "      <td>73.0</td>\n",
       "      <td>35.2</td>\n",
       "      <td>11.5</td>\n",
       "      <td>18.8</td>\n",
       "      <td>0.611</td>\n",
       "      <td>...</td>\n",
       "      <td>2.9</td>\n",
       "      <td>30.4</td>\n",
       "      <td>1</td>\n",
       "      <td>0</td>\n",
       "      <td>1</td>\n",
       "      <td>12</td>\n",
       "      <td>9</td>\n",
       "      <td>4</td>\n",
       "      <td>0</td>\n",
       "      <td>0</td>\n",
       "    </tr>\n",
       "    <tr>\n",
       "      <th>3</th>\n",
       "      <td>Shai Gilgeous-Alexander</td>\n",
       "      <td>25.0</td>\n",
       "      <td>OKC</td>\n",
       "      <td>PG</td>\n",
       "      <td>75.0</td>\n",
       "      <td>75.0</td>\n",
       "      <td>34.0</td>\n",
       "      <td>10.6</td>\n",
       "      <td>19.8</td>\n",
       "      <td>0.535</td>\n",
       "      <td>...</td>\n",
       "      <td>2.5</td>\n",
       "      <td>30.1</td>\n",
       "      <td>1</td>\n",
       "      <td>0</td>\n",
       "      <td>1</td>\n",
       "      <td>3</td>\n",
       "      <td>7</td>\n",
       "      <td>2</td>\n",
       "      <td>0</td>\n",
       "      <td>0</td>\n",
       "    </tr>\n",
       "    <tr>\n",
       "      <th>4</th>\n",
       "      <td>Jalen Brunson</td>\n",
       "      <td>27.0</td>\n",
       "      <td>NYK</td>\n",
       "      <td>PG</td>\n",
       "      <td>77.0</td>\n",
       "      <td>77.0</td>\n",
       "      <td>35.4</td>\n",
       "      <td>10.3</td>\n",
       "      <td>21.4</td>\n",
       "      <td>0.479</td>\n",
       "      <td>...</td>\n",
       "      <td>1.9</td>\n",
       "      <td>28.7</td>\n",
       "      <td>1</td>\n",
       "      <td>0</td>\n",
       "      <td>2</td>\n",
       "      <td>5</td>\n",
       "      <td>0</td>\n",
       "      <td>5</td>\n",
       "      <td>0</td>\n",
       "      <td>0</td>\n",
       "    </tr>\n",
       "    <tr>\n",
       "      <th>...</th>\n",
       "      <td>...</td>\n",
       "      <td>...</td>\n",
       "      <td>...</td>\n",
       "      <td>...</td>\n",
       "      <td>...</td>\n",
       "      <td>...</td>\n",
       "      <td>...</td>\n",
       "      <td>...</td>\n",
       "      <td>...</td>\n",
       "      <td>...</td>\n",
       "      <td>...</td>\n",
       "      <td>...</td>\n",
       "      <td>...</td>\n",
       "      <td>...</td>\n",
       "      <td>...</td>\n",
       "      <td>...</td>\n",
       "      <td>...</td>\n",
       "      <td>...</td>\n",
       "      <td>...</td>\n",
       "      <td>...</td>\n",
       "      <td>...</td>\n",
       "    </tr>\n",
       "    <tr>\n",
       "      <th>730</th>\n",
       "      <td>Danny Green</td>\n",
       "      <td>36.0</td>\n",
       "      <td>PHI</td>\n",
       "      <td>SG</td>\n",
       "      <td>2.0</td>\n",
       "      <td>0.0</td>\n",
       "      <td>9.0</td>\n",
       "      <td>0.0</td>\n",
       "      <td>1.0</td>\n",
       "      <td>0.000</td>\n",
       "      <td>...</td>\n",
       "      <td>0.5</td>\n",
       "      <td>0.0</td>\n",
       "      <td>0</td>\n",
       "      <td>0</td>\n",
       "      <td>0</td>\n",
       "      <td>0</td>\n",
       "      <td>0</td>\n",
       "      <td>0</td>\n",
       "      <td>0</td>\n",
       "      <td>0</td>\n",
       "    </tr>\n",
       "    <tr>\n",
       "      <th>731</th>\n",
       "      <td>Ron Harper Jr.</td>\n",
       "      <td>23.0</td>\n",
       "      <td>TOR</td>\n",
       "      <td>PF</td>\n",
       "      <td>1.0</td>\n",
       "      <td>0.0</td>\n",
       "      <td>4.0</td>\n",
       "      <td>0.0</td>\n",
       "      <td>0.0</td>\n",
       "      <td>NaN</td>\n",
       "      <td>...</td>\n",
       "      <td>2.0</td>\n",
       "      <td>0.0</td>\n",
       "      <td>0</td>\n",
       "      <td>0</td>\n",
       "      <td>0</td>\n",
       "      <td>0</td>\n",
       "      <td>0</td>\n",
       "      <td>0</td>\n",
       "      <td>0</td>\n",
       "      <td>0</td>\n",
       "    </tr>\n",
       "    <tr>\n",
       "      <th>732</th>\n",
       "      <td>Justin Jackson</td>\n",
       "      <td>28.0</td>\n",
       "      <td>MIN</td>\n",
       "      <td>SF</td>\n",
       "      <td>2.0</td>\n",
       "      <td>0.0</td>\n",
       "      <td>0.5</td>\n",
       "      <td>0.0</td>\n",
       "      <td>0.0</td>\n",
       "      <td>NaN</td>\n",
       "      <td>...</td>\n",
       "      <td>0.0</td>\n",
       "      <td>0.0</td>\n",
       "      <td>0</td>\n",
       "      <td>0</td>\n",
       "      <td>0</td>\n",
       "      <td>0</td>\n",
       "      <td>0</td>\n",
       "      <td>0</td>\n",
       "      <td>0</td>\n",
       "      <td>0</td>\n",
       "    </tr>\n",
       "    <tr>\n",
       "      <th>733</th>\n",
       "      <td>Dmytro Skapintsev</td>\n",
       "      <td>25.0</td>\n",
       "      <td>NYK</td>\n",
       "      <td>C</td>\n",
       "      <td>2.0</td>\n",
       "      <td>0.0</td>\n",
       "      <td>1.0</td>\n",
       "      <td>0.0</td>\n",
       "      <td>0.5</td>\n",
       "      <td>0.000</td>\n",
       "      <td>...</td>\n",
       "      <td>0.0</td>\n",
       "      <td>0.0</td>\n",
       "      <td>0</td>\n",
       "      <td>0</td>\n",
       "      <td>0</td>\n",
       "      <td>0</td>\n",
       "      <td>0</td>\n",
       "      <td>0</td>\n",
       "      <td>0</td>\n",
       "      <td>0</td>\n",
       "    </tr>\n",
       "    <tr>\n",
       "      <th>734</th>\n",
       "      <td>Javonte Smart</td>\n",
       "      <td>24.0</td>\n",
       "      <td>PHI</td>\n",
       "      <td>PG</td>\n",
       "      <td>1.0</td>\n",
       "      <td>0.0</td>\n",
       "      <td>1.0</td>\n",
       "      <td>0.0</td>\n",
       "      <td>0.0</td>\n",
       "      <td>NaN</td>\n",
       "      <td>...</td>\n",
       "      <td>0.0</td>\n",
       "      <td>0.0</td>\n",
       "      <td>0</td>\n",
       "      <td>0</td>\n",
       "      <td>0</td>\n",
       "      <td>0</td>\n",
       "      <td>0</td>\n",
       "      <td>0</td>\n",
       "      <td>0</td>\n",
       "      <td>0</td>\n",
       "    </tr>\n",
       "  </tbody>\n",
       "</table>\n",
       "<p>735 rows × 37 columns</p>\n",
       "</div>"
      ],
      "text/plain": [
       "                      Player   Age Team Pos     G    GS    MP    FG   FGA  \\\n",
       "0                Joel Embiid  29.0  PHI   C  39.0  39.0  33.6  11.5  21.8   \n",
       "1                Luka Dončić  24.0  DAL  PG  70.0  70.0  37.5  11.5  23.6   \n",
       "2      Giannis Antetokounmpo  29.0  MIL  PF  73.0  73.0  35.2  11.5  18.8   \n",
       "3    Shai Gilgeous-Alexander  25.0  OKC  PG  75.0  75.0  34.0  10.6  19.8   \n",
       "4              Jalen Brunson  27.0  NYK  PG  77.0  77.0  35.4  10.3  21.4   \n",
       "..                       ...   ...  ...  ..   ...   ...   ...   ...   ...   \n",
       "730              Danny Green  36.0  PHI  SG   2.0   0.0   9.0   0.0   1.0   \n",
       "731           Ron Harper Jr.  23.0  TOR  PF   1.0   0.0   4.0   0.0   0.0   \n",
       "732           Justin Jackson  28.0  MIN  SF   2.0   0.0   0.5   0.0   0.0   \n",
       "733        Dmytro Skapintsev  25.0  NYK   C   2.0   0.0   1.0   0.0   0.5   \n",
       "734            Javonte Smart  24.0  PHI  PG   1.0   0.0   1.0   0.0   0.0   \n",
       "\n",
       "       FG%  ...   PF   PTS  AS  6MOY  NBA  CPOY  DPOY  MVP  MIP  ROY  \n",
       "0    0.529  ...  2.9  34.7   1     0    0     0     0    0    0    0  \n",
       "1    0.487  ...  2.1  33.9   1     0    1     6     0    3    0    0  \n",
       "2    0.611  ...  2.9  30.4   1     0    1    12     9    4    0    0  \n",
       "3    0.535  ...  2.5  30.1   1     0    1     3     7    2    0    0  \n",
       "4    0.479  ...  1.9  28.7   1     0    2     5     0    5    0    0  \n",
       "..     ...  ...  ...   ...  ..   ...  ...   ...   ...  ...  ...  ...  \n",
       "730  0.000  ...  0.5   0.0   0     0    0     0     0    0    0    0  \n",
       "731    NaN  ...  2.0   0.0   0     0    0     0     0    0    0    0  \n",
       "732    NaN  ...  0.0   0.0   0     0    0     0     0    0    0    0  \n",
       "733  0.000  ...  0.0   0.0   0     0    0     0     0    0    0    0  \n",
       "734    NaN  ...  0.0   0.0   0     0    0     0     0    0    0    0  \n",
       "\n",
       "[735 rows x 37 columns]"
      ]
     },
     "execution_count": 3,
     "metadata": {},
     "output_type": "execute_result"
    }
   ],
   "source": [
    "#Cleans the player data\n",
    "def clean_Player_Data(players_df):\n",
    "    \"\"\" Cleans the data for a players for a specific season (seperates awards)\n",
    "\n",
    "    Args:\n",
    "        players_df (df): the dirty player dataframe\n",
    "\n",
    "    Returns:\n",
    "        clean_df (df): the cleaned player dataframe\n",
    "    \"\"\"\n",
    "\n",
    "\n",
    "    award_list = ['AS','6MOY','NBA','CPOY','DPOY','MVP','MIP','ROY'] \n",
    "    awards_df = pd.DataFrame(columns=award_list)\n",
    "\n",
    "    #Loop through award column\n",
    "    for awards in players_df['Awards']:\n",
    "        a_row = [0,0,0,0,0,0,0,0]\n",
    "\n",
    "        #if there is no value fill in with 0s\n",
    "        if(type(awards) == float):\n",
    "            awards_df.loc[len(awards_df)] = a_row\n",
    "        else:\n",
    "            a = awards.split(',')\n",
    "            #loop through individual awards\n",
    "            for award in a:\n",
    "                if 'AS' in award:\n",
    "                    a_row[0] = 1\n",
    "                elif '6MOY' in award:\n",
    "                    a_row[1] = award.split('-')[1]\n",
    "                elif 'NBA' in award:\n",
    "                    a_row[2] = award[-1:]\n",
    "                elif 'CPOY' in award:\n",
    "                    a_row[3] = award.split('-')[1]\n",
    "                elif 'DPOY' in award:\n",
    "                    a_row[4] = award.split('-')[1]\n",
    "                elif 'MVP' in award:\n",
    "                    a_row[5] = award.split('-')[1]\n",
    "                elif 'MIP' in award:\n",
    "                    a_row[6] = award.split('-')[1]\n",
    "                elif 'ROY' in award:\n",
    "                    a_row[7] = award.split('-')[1]\n",
    "        \n",
    "            awards_df.loc[len(awards_df)] = a_row\n",
    "        \n",
    "    clean_df =  pd.concat([players_df.iloc[:,:-1], awards_df], axis=1)   \n",
    "    return clean_df\n",
    "\n",
    "clean_player_df = clean_Player_Data(p_df)\n",
    "clean_player_df"
   ]
  },
  {
   "cell_type": "code",
   "execution_count": 4,
   "metadata": {},
   "outputs": [
    {
     "data": {
      "text/html": [
       "<div>\n",
       "<style scoped>\n",
       "    .dataframe tbody tr th:only-of-type {\n",
       "        vertical-align: middle;\n",
       "    }\n",
       "\n",
       "    .dataframe tbody tr th {\n",
       "        vertical-align: top;\n",
       "    }\n",
       "\n",
       "    .dataframe thead th {\n",
       "        text-align: right;\n",
       "    }\n",
       "</style>\n",
       "<table border=\"1\" class=\"dataframe\">\n",
       "  <thead>\n",
       "    <tr style=\"text-align: right;\">\n",
       "      <th></th>\n",
       "      <th>Year</th>\n",
       "      <th>Team</th>\n",
       "      <th>Age</th>\n",
       "      <th>W</th>\n",
       "      <th>L</th>\n",
       "      <th>PW</th>\n",
       "      <th>PL</th>\n",
       "      <th>MOV</th>\n",
       "      <th>SOS</th>\n",
       "      <th>SRS</th>\n",
       "      <th>...</th>\n",
       "      <th>FT/FGA</th>\n",
       "      <th>Unnamed: 22</th>\n",
       "      <th>eFG%.1</th>\n",
       "      <th>TOV%.1</th>\n",
       "      <th>DRB%</th>\n",
       "      <th>FT/FGA.1</th>\n",
       "      <th>Unnamed: 27</th>\n",
       "      <th>Arena</th>\n",
       "      <th>Attend.</th>\n",
       "      <th>Attend./G</th>\n",
       "    </tr>\n",
       "  </thead>\n",
       "  <tbody>\n",
       "    <tr>\n",
       "      <th>0</th>\n",
       "      <td>2024</td>\n",
       "      <td>Boston Celtics*</td>\n",
       "      <td>28.2</td>\n",
       "      <td>64.0</td>\n",
       "      <td>18.0</td>\n",
       "      <td>66</td>\n",
       "      <td>16</td>\n",
       "      <td>11.34</td>\n",
       "      <td>-0.60</td>\n",
       "      <td>10.75</td>\n",
       "      <td>...</td>\n",
       "      <td>0.180</td>\n",
       "      <td>NaN</td>\n",
       "      <td>0.523</td>\n",
       "      <td>10.8</td>\n",
       "      <td>76.3</td>\n",
       "      <td>0.145</td>\n",
       "      <td>NaN</td>\n",
       "      <td>TD Garden</td>\n",
       "      <td>785396</td>\n",
       "      <td>19156</td>\n",
       "    </tr>\n",
       "    <tr>\n",
       "      <th>1</th>\n",
       "      <td>2024</td>\n",
       "      <td>Oklahoma City Thunder*</td>\n",
       "      <td>23.4</td>\n",
       "      <td>57.0</td>\n",
       "      <td>25.0</td>\n",
       "      <td>58</td>\n",
       "      <td>24</td>\n",
       "      <td>7.41</td>\n",
       "      <td>-0.05</td>\n",
       "      <td>7.36</td>\n",
       "      <td>...</td>\n",
       "      <td>0.198</td>\n",
       "      <td>NaN</td>\n",
       "      <td>0.530</td>\n",
       "      <td>13.6</td>\n",
       "      <td>73.8</td>\n",
       "      <td>0.202</td>\n",
       "      <td>NaN</td>\n",
       "      <td>Paycom Center</td>\n",
       "      <td>715509</td>\n",
       "      <td>17451</td>\n",
       "    </tr>\n",
       "    <tr>\n",
       "      <th>2</th>\n",
       "      <td>2024</td>\n",
       "      <td>Minnesota Timberwolves*</td>\n",
       "      <td>27.2</td>\n",
       "      <td>56.0</td>\n",
       "      <td>26.0</td>\n",
       "      <td>57</td>\n",
       "      <td>25</td>\n",
       "      <td>6.45</td>\n",
       "      <td>-0.07</td>\n",
       "      <td>6.39</td>\n",
       "      <td>...</td>\n",
       "      <td>0.209</td>\n",
       "      <td>NaN</td>\n",
       "      <td>0.515</td>\n",
       "      <td>12.9</td>\n",
       "      <td>76.9</td>\n",
       "      <td>0.197</td>\n",
       "      <td>NaN</td>\n",
       "      <td>Target Center</td>\n",
       "      <td>720960</td>\n",
       "      <td>17584</td>\n",
       "    </tr>\n",
       "    <tr>\n",
       "      <th>3</th>\n",
       "      <td>2024</td>\n",
       "      <td>Denver Nuggets*</td>\n",
       "      <td>27.1</td>\n",
       "      <td>57.0</td>\n",
       "      <td>25.0</td>\n",
       "      <td>54</td>\n",
       "      <td>28</td>\n",
       "      <td>5.26</td>\n",
       "      <td>-0.03</td>\n",
       "      <td>5.23</td>\n",
       "      <td>...</td>\n",
       "      <td>0.170</td>\n",
       "      <td>NaN</td>\n",
       "      <td>0.526</td>\n",
       "      <td>11.2</td>\n",
       "      <td>75.6</td>\n",
       "      <td>0.195</td>\n",
       "      <td>NaN</td>\n",
       "      <td>Ball Arena</td>\n",
       "      <td>807062</td>\n",
       "      <td>19684</td>\n",
       "    </tr>\n",
       "    <tr>\n",
       "      <th>4</th>\n",
       "      <td>2024</td>\n",
       "      <td>New York Knicks*</td>\n",
       "      <td>26.4</td>\n",
       "      <td>50.0</td>\n",
       "      <td>32.0</td>\n",
       "      <td>53</td>\n",
       "      <td>29</td>\n",
       "      <td>4.59</td>\n",
       "      <td>-0.23</td>\n",
       "      <td>4.36</td>\n",
       "      <td>...</td>\n",
       "      <td>0.192</td>\n",
       "      <td>NaN</td>\n",
       "      <td>0.543</td>\n",
       "      <td>12.3</td>\n",
       "      <td>76.1</td>\n",
       "      <td>0.176</td>\n",
       "      <td>NaN</td>\n",
       "      <td>Madison Square Garden (IV)</td>\n",
       "      <td>808885</td>\n",
       "      <td>19729</td>\n",
       "    </tr>\n",
       "    <tr>\n",
       "      <th>5</th>\n",
       "      <td>2024</td>\n",
       "      <td>New Orleans Pelicans*</td>\n",
       "      <td>26.0</td>\n",
       "      <td>49.0</td>\n",
       "      <td>33.0</td>\n",
       "      <td>52</td>\n",
       "      <td>30</td>\n",
       "      <td>4.41</td>\n",
       "      <td>0.05</td>\n",
       "      <td>4.46</td>\n",
       "      <td>...</td>\n",
       "      <td>0.202</td>\n",
       "      <td>NaN</td>\n",
       "      <td>0.541</td>\n",
       "      <td>12.9</td>\n",
       "      <td>76.9</td>\n",
       "      <td>0.186</td>\n",
       "      <td>NaN</td>\n",
       "      <td>Smoothie King Center</td>\n",
       "      <td>692054</td>\n",
       "      <td>17301</td>\n",
       "    </tr>\n",
       "    <tr>\n",
       "      <th>6</th>\n",
       "      <td>2024</td>\n",
       "      <td>Los Angeles Clippers*</td>\n",
       "      <td>30.4</td>\n",
       "      <td>51.0</td>\n",
       "      <td>31.0</td>\n",
       "      <td>49</td>\n",
       "      <td>33</td>\n",
       "      <td>3.28</td>\n",
       "      <td>0.13</td>\n",
       "      <td>3.41</td>\n",
       "      <td>...</td>\n",
       "      <td>0.211</td>\n",
       "      <td>NaN</td>\n",
       "      <td>0.541</td>\n",
       "      <td>11.7</td>\n",
       "      <td>74.8</td>\n",
       "      <td>0.183</td>\n",
       "      <td>NaN</td>\n",
       "      <td>Crypto.com Arena</td>\n",
       "      <td>776782</td>\n",
       "      <td>18946</td>\n",
       "    </tr>\n",
       "    <tr>\n",
       "      <th>7</th>\n",
       "      <td>2024</td>\n",
       "      <td>Philadelphia 76ers*</td>\n",
       "      <td>28.4</td>\n",
       "      <td>47.0</td>\n",
       "      <td>35.0</td>\n",
       "      <td>49</td>\n",
       "      <td>33</td>\n",
       "      <td>3.05</td>\n",
       "      <td>-0.54</td>\n",
       "      <td>2.51</td>\n",
       "      <td>...</td>\n",
       "      <td>0.218</td>\n",
       "      <td>NaN</td>\n",
       "      <td>0.537</td>\n",
       "      <td>13.1</td>\n",
       "      <td>74.3</td>\n",
       "      <td>0.215</td>\n",
       "      <td>NaN</td>\n",
       "      <td>Wells Fargo Center</td>\n",
       "      <td>821714</td>\n",
       "      <td>20042</td>\n",
       "    </tr>\n",
       "    <tr>\n",
       "      <th>8</th>\n",
       "      <td>2024</td>\n",
       "      <td>Phoenix Suns*</td>\n",
       "      <td>29.3</td>\n",
       "      <td>49.0</td>\n",
       "      <td>33.0</td>\n",
       "      <td>49</td>\n",
       "      <td>33</td>\n",
       "      <td>3.06</td>\n",
       "      <td>0.02</td>\n",
       "      <td>3.08</td>\n",
       "      <td>...</td>\n",
       "      <td>0.219</td>\n",
       "      <td>NaN</td>\n",
       "      <td>0.536</td>\n",
       "      <td>11.3</td>\n",
       "      <td>75.6</td>\n",
       "      <td>0.178</td>\n",
       "      <td>NaN</td>\n",
       "      <td>Footprint Center</td>\n",
       "      <td>699911</td>\n",
       "      <td>17071</td>\n",
       "    </tr>\n",
       "    <tr>\n",
       "      <th>9</th>\n",
       "      <td>2024</td>\n",
       "      <td>Indiana Pacers*</td>\n",
       "      <td>25.3</td>\n",
       "      <td>47.0</td>\n",
       "      <td>35.0</td>\n",
       "      <td>48</td>\n",
       "      <td>34</td>\n",
       "      <td>3.05</td>\n",
       "      <td>-0.30</td>\n",
       "      <td>2.75</td>\n",
       "      <td>...</td>\n",
       "      <td>0.173</td>\n",
       "      <td>NaN</td>\n",
       "      <td>0.556</td>\n",
       "      <td>12.1</td>\n",
       "      <td>74.1</td>\n",
       "      <td>0.228</td>\n",
       "      <td>NaN</td>\n",
       "      <td>Gainbridge Fieldhouse</td>\n",
       "      <td>677554</td>\n",
       "      <td>16526</td>\n",
       "    </tr>\n",
       "    <tr>\n",
       "      <th>10</th>\n",
       "      <td>2024</td>\n",
       "      <td>Golden State Warriors</td>\n",
       "      <td>28.4</td>\n",
       "      <td>46.0</td>\n",
       "      <td>36.0</td>\n",
       "      <td>47</td>\n",
       "      <td>35</td>\n",
       "      <td>2.61</td>\n",
       "      <td>0.16</td>\n",
       "      <td>2.77</td>\n",
       "      <td>...</td>\n",
       "      <td>0.171</td>\n",
       "      <td>NaN</td>\n",
       "      <td>0.539</td>\n",
       "      <td>11.5</td>\n",
       "      <td>76.1</td>\n",
       "      <td>0.195</td>\n",
       "      <td>NaN</td>\n",
       "      <td>Chase Center</td>\n",
       "      <td>740624</td>\n",
       "      <td>18064</td>\n",
       "    </tr>\n",
       "    <tr>\n",
       "      <th>11</th>\n",
       "      <td>2024</td>\n",
       "      <td>Milwaukee Bucks*</td>\n",
       "      <td>30.2</td>\n",
       "      <td>49.0</td>\n",
       "      <td>33.0</td>\n",
       "      <td>47</td>\n",
       "      <td>35</td>\n",
       "      <td>2.62</td>\n",
       "      <td>-0.18</td>\n",
       "      <td>2.44</td>\n",
       "      <td>...</td>\n",
       "      <td>0.209</td>\n",
       "      <td>NaN</td>\n",
       "      <td>0.539</td>\n",
       "      <td>10.6</td>\n",
       "      <td>77.2</td>\n",
       "      <td>0.189</td>\n",
       "      <td>NaN</td>\n",
       "      <td>Fiserv Forum</td>\n",
       "      <td>740850</td>\n",
       "      <td>17659</td>\n",
       "    </tr>\n",
       "    <tr>\n",
       "      <th>12</th>\n",
       "      <td>2024</td>\n",
       "      <td>Cleveland Cavaliers*</td>\n",
       "      <td>26.2</td>\n",
       "      <td>48.0</td>\n",
       "      <td>34.0</td>\n",
       "      <td>47</td>\n",
       "      <td>35</td>\n",
       "      <td>2.41</td>\n",
       "      <td>-0.44</td>\n",
       "      <td>1.98</td>\n",
       "      <td>...</td>\n",
       "      <td>0.179</td>\n",
       "      <td>NaN</td>\n",
       "      <td>0.535</td>\n",
       "      <td>12.3</td>\n",
       "      <td>76.9</td>\n",
       "      <td>0.190</td>\n",
       "      <td>NaN</td>\n",
       "      <td>Rocket Mortgage Fieldhouse</td>\n",
       "      <td>793167</td>\n",
       "      <td>19432</td>\n",
       "    </tr>\n",
       "    <tr>\n",
       "      <th>13</th>\n",
       "      <td>2024</td>\n",
       "      <td>Dallas Mavericks*</td>\n",
       "      <td>26.5</td>\n",
       "      <td>50.0</td>\n",
       "      <td>32.0</td>\n",
       "      <td>46</td>\n",
       "      <td>36</td>\n",
       "      <td>2.21</td>\n",
       "      <td>0.09</td>\n",
       "      <td>2.30</td>\n",
       "      <td>...</td>\n",
       "      <td>0.190</td>\n",
       "      <td>NaN</td>\n",
       "      <td>0.548</td>\n",
       "      <td>12.1</td>\n",
       "      <td>75.2</td>\n",
       "      <td>0.184</td>\n",
       "      <td>NaN</td>\n",
       "      <td>American Airlines Center</td>\n",
       "      <td>828897</td>\n",
       "      <td>20217</td>\n",
       "    </tr>\n",
       "    <tr>\n",
       "      <th>14</th>\n",
       "      <td>2024</td>\n",
       "      <td>Orlando Magic*</td>\n",
       "      <td>24.0</td>\n",
       "      <td>47.0</td>\n",
       "      <td>35.0</td>\n",
       "      <td>46</td>\n",
       "      <td>36</td>\n",
       "      <td>2.02</td>\n",
       "      <td>-0.55</td>\n",
       "      <td>1.48</td>\n",
       "      <td>...</td>\n",
       "      <td>0.218</td>\n",
       "      <td>NaN</td>\n",
       "      <td>0.543</td>\n",
       "      <td>13.8</td>\n",
       "      <td>78.1</td>\n",
       "      <td>0.206</td>\n",
       "      <td>NaN</td>\n",
       "      <td>Kia Center</td>\n",
       "      <td>773939</td>\n",
       "      <td>18849</td>\n",
       "    </tr>\n",
       "    <tr>\n",
       "      <th>15</th>\n",
       "      <td>2024</td>\n",
       "      <td>Miami Heat*</td>\n",
       "      <td>28.0</td>\n",
       "      <td>46.0</td>\n",
       "      <td>36.0</td>\n",
       "      <td>46</td>\n",
       "      <td>36</td>\n",
       "      <td>1.76</td>\n",
       "      <td>-0.66</td>\n",
       "      <td>1.10</td>\n",
       "      <td>...</td>\n",
       "      <td>0.210</td>\n",
       "      <td>NaN</td>\n",
       "      <td>0.543</td>\n",
       "      <td>12.7</td>\n",
       "      <td>78.1</td>\n",
       "      <td>0.174</td>\n",
       "      <td>NaN</td>\n",
       "      <td>Kaseya Center</td>\n",
       "      <td>809743</td>\n",
       "      <td>19750</td>\n",
       "    </tr>\n",
       "    <tr>\n",
       "      <th>16</th>\n",
       "      <td>2024</td>\n",
       "      <td>Sacramento Kings</td>\n",
       "      <td>26.4</td>\n",
       "      <td>46.0</td>\n",
       "      <td>36.0</td>\n",
       "      <td>45</td>\n",
       "      <td>37</td>\n",
       "      <td>1.74</td>\n",
       "      <td>0.55</td>\n",
       "      <td>2.29</td>\n",
       "      <td>...</td>\n",
       "      <td>0.171</td>\n",
       "      <td>NaN</td>\n",
       "      <td>0.555</td>\n",
       "      <td>12.5</td>\n",
       "      <td>78.4</td>\n",
       "      <td>0.213</td>\n",
       "      <td>NaN</td>\n",
       "      <td>Golden 1 Center</td>\n",
       "      <td>735015</td>\n",
       "      <td>17927</td>\n",
       "    </tr>\n",
       "    <tr>\n",
       "      <th>17</th>\n",
       "      <td>2024</td>\n",
       "      <td>Houston Rockets</td>\n",
       "      <td>25.1</td>\n",
       "      <td>41.0</td>\n",
       "      <td>41.0</td>\n",
       "      <td>44</td>\n",
       "      <td>38</td>\n",
       "      <td>1.12</td>\n",
       "      <td>0.12</td>\n",
       "      <td>1.24</td>\n",
       "      <td>...</td>\n",
       "      <td>0.199</td>\n",
       "      <td>NaN</td>\n",
       "      <td>0.533</td>\n",
       "      <td>12.2</td>\n",
       "      <td>76.0</td>\n",
       "      <td>0.219</td>\n",
       "      <td>NaN</td>\n",
       "      <td>Toyota Center</td>\n",
       "      <td>720045</td>\n",
       "      <td>17562</td>\n",
       "    </tr>\n",
       "    <tr>\n",
       "      <th>18</th>\n",
       "      <td>2024</td>\n",
       "      <td>Los Angeles Lakers*</td>\n",
       "      <td>28.0</td>\n",
       "      <td>47.0</td>\n",
       "      <td>35.0</td>\n",
       "      <td>42</td>\n",
       "      <td>40</td>\n",
       "      <td>0.60</td>\n",
       "      <td>0.48</td>\n",
       "      <td>1.07</td>\n",
       "      <td>...</td>\n",
       "      <td>0.216</td>\n",
       "      <td>NaN</td>\n",
       "      <td>0.550</td>\n",
       "      <td>11.7</td>\n",
       "      <td>76.2</td>\n",
       "      <td>0.153</td>\n",
       "      <td>NaN</td>\n",
       "      <td>Crypto.com Arena</td>\n",
       "      <td>793945</td>\n",
       "      <td>18925</td>\n",
       "    </tr>\n",
       "    <tr>\n",
       "      <th>19</th>\n",
       "      <td>2024</td>\n",
       "      <td>Chicago Bulls</td>\n",
       "      <td>28.1</td>\n",
       "      <td>39.0</td>\n",
       "      <td>43.0</td>\n",
       "      <td>37</td>\n",
       "      <td>45</td>\n",
       "      <td>-1.44</td>\n",
       "      <td>-0.33</td>\n",
       "      <td>-1.77</td>\n",
       "      <td>...</td>\n",
       "      <td>0.187</td>\n",
       "      <td>NaN</td>\n",
       "      <td>0.556</td>\n",
       "      <td>12.7</td>\n",
       "      <td>76.4</td>\n",
       "      <td>0.195</td>\n",
       "      <td>NaN</td>\n",
       "      <td>United Center</td>\n",
       "      <td>845620</td>\n",
       "      <td>20625</td>\n",
       "    </tr>\n",
       "    <tr>\n",
       "      <th>20</th>\n",
       "      <td>2024</td>\n",
       "      <td>Atlanta Hawks</td>\n",
       "      <td>26.2</td>\n",
       "      <td>36.0</td>\n",
       "      <td>46.0</td>\n",
       "      <td>36</td>\n",
       "      <td>46</td>\n",
       "      <td>-2.18</td>\n",
       "      <td>-0.19</td>\n",
       "      <td>-2.38</td>\n",
       "      <td>...</td>\n",
       "      <td>0.200</td>\n",
       "      <td>NaN</td>\n",
       "      <td>0.572</td>\n",
       "      <td>12.4</td>\n",
       "      <td>75.2</td>\n",
       "      <td>0.192</td>\n",
       "      <td>NaN</td>\n",
       "      <td>State Farm Arena</td>\n",
       "      <td>696418</td>\n",
       "      <td>16986</td>\n",
       "    </tr>\n",
       "    <tr>\n",
       "      <th>21</th>\n",
       "      <td>2024</td>\n",
       "      <td>Brooklyn Nets</td>\n",
       "      <td>26.1</td>\n",
       "      <td>32.0</td>\n",
       "      <td>50.0</td>\n",
       "      <td>34</td>\n",
       "      <td>48</td>\n",
       "      <td>-2.89</td>\n",
       "      <td>-0.13</td>\n",
       "      <td>-3.02</td>\n",
       "      <td>...</td>\n",
       "      <td>0.177</td>\n",
       "      <td>NaN</td>\n",
       "      <td>0.543</td>\n",
       "      <td>11.4</td>\n",
       "      <td>76.0</td>\n",
       "      <td>0.193</td>\n",
       "      <td>NaN</td>\n",
       "      <td>Barclays Center</td>\n",
       "      <td>720291</td>\n",
       "      <td>17568</td>\n",
       "    </tr>\n",
       "    <tr>\n",
       "      <th>22</th>\n",
       "      <td>2024</td>\n",
       "      <td>Utah Jazz</td>\n",
       "      <td>25.1</td>\n",
       "      <td>31.0</td>\n",
       "      <td>51.0</td>\n",
       "      <td>29</td>\n",
       "      <td>53</td>\n",
       "      <td>-4.89</td>\n",
       "      <td>0.68</td>\n",
       "      <td>-4.22</td>\n",
       "      <td>...</td>\n",
       "      <td>0.209</td>\n",
       "      <td>NaN</td>\n",
       "      <td>0.567</td>\n",
       "      <td>10.9</td>\n",
       "      <td>75.2</td>\n",
       "      <td>0.182</td>\n",
       "      <td>NaN</td>\n",
       "      <td>Delta Center</td>\n",
       "      <td>746446</td>\n",
       "      <td>18206</td>\n",
       "    </tr>\n",
       "    <tr>\n",
       "      <th>23</th>\n",
       "      <td>2024</td>\n",
       "      <td>San Antonio Spurs</td>\n",
       "      <td>23.0</td>\n",
       "      <td>22.0</td>\n",
       "      <td>60.0</td>\n",
       "      <td>26</td>\n",
       "      <td>56</td>\n",
       "      <td>-6.49</td>\n",
       "      <td>0.69</td>\n",
       "      <td>-5.80</td>\n",
       "      <td>...</td>\n",
       "      <td>0.172</td>\n",
       "      <td>NaN</td>\n",
       "      <td>0.555</td>\n",
       "      <td>11.7</td>\n",
       "      <td>76.4</td>\n",
       "      <td>0.174</td>\n",
       "      <td>NaN</td>\n",
       "      <td>Frost Bank Center</td>\n",
       "      <td>742522</td>\n",
       "      <td>18211</td>\n",
       "    </tr>\n",
       "    <tr>\n",
       "      <th>24</th>\n",
       "      <td>2024</td>\n",
       "      <td>Toronto Raptors</td>\n",
       "      <td>25.9</td>\n",
       "      <td>25.0</td>\n",
       "      <td>57.0</td>\n",
       "      <td>26</td>\n",
       "      <td>56</td>\n",
       "      <td>-6.44</td>\n",
       "      <td>-0.01</td>\n",
       "      <td>-6.45</td>\n",
       "      <td>...</td>\n",
       "      <td>0.182</td>\n",
       "      <td>NaN</td>\n",
       "      <td>0.566</td>\n",
       "      <td>12.2</td>\n",
       "      <td>73.9</td>\n",
       "      <td>0.172</td>\n",
       "      <td>NaN</td>\n",
       "      <td>Scotiabank Arena</td>\n",
       "      <td>800129</td>\n",
       "      <td>19515</td>\n",
       "    </tr>\n",
       "    <tr>\n",
       "      <th>25</th>\n",
       "      <td>2024</td>\n",
       "      <td>Memphis Grizzlies</td>\n",
       "      <td>24.4</td>\n",
       "      <td>27.0</td>\n",
       "      <td>55.0</td>\n",
       "      <td>24</td>\n",
       "      <td>58</td>\n",
       "      <td>-7.00</td>\n",
       "      <td>0.43</td>\n",
       "      <td>-6.57</td>\n",
       "      <td>...</td>\n",
       "      <td>0.182</td>\n",
       "      <td>NaN</td>\n",
       "      <td>0.551</td>\n",
       "      <td>13.5</td>\n",
       "      <td>74.8</td>\n",
       "      <td>0.195</td>\n",
       "      <td>NaN</td>\n",
       "      <td>FedEx Forum</td>\n",
       "      <td>681875</td>\n",
       "      <td>16631</td>\n",
       "    </tr>\n",
       "    <tr>\n",
       "      <th>26</th>\n",
       "      <td>2024</td>\n",
       "      <td>Detroit Pistons</td>\n",
       "      <td>23.8</td>\n",
       "      <td>14.0</td>\n",
       "      <td>68.0</td>\n",
       "      <td>20</td>\n",
       "      <td>62</td>\n",
       "      <td>-9.11</td>\n",
       "      <td>0.05</td>\n",
       "      <td>-9.06</td>\n",
       "      <td>...</td>\n",
       "      <td>0.193</td>\n",
       "      <td>NaN</td>\n",
       "      <td>0.558</td>\n",
       "      <td>11.1</td>\n",
       "      <td>77.3</td>\n",
       "      <td>0.221</td>\n",
       "      <td>NaN</td>\n",
       "      <td>Little Caesars Arena</td>\n",
       "      <td>726378</td>\n",
       "      <td>18159</td>\n",
       "    </tr>\n",
       "    <tr>\n",
       "      <th>27</th>\n",
       "      <td>2024</td>\n",
       "      <td>Washington Wizards</td>\n",
       "      <td>24.9</td>\n",
       "      <td>15.0</td>\n",
       "      <td>67.0</td>\n",
       "      <td>20</td>\n",
       "      <td>62</td>\n",
       "      <td>-9.29</td>\n",
       "      <td>0.00</td>\n",
       "      <td>-9.29</td>\n",
       "      <td>...</td>\n",
       "      <td>0.169</td>\n",
       "      <td>NaN</td>\n",
       "      <td>0.562</td>\n",
       "      <td>12.0</td>\n",
       "      <td>72.5</td>\n",
       "      <td>0.201</td>\n",
       "      <td>NaN</td>\n",
       "      <td>Capital One Arena</td>\n",
       "      <td>692851</td>\n",
       "      <td>16899</td>\n",
       "    </tr>\n",
       "    <tr>\n",
       "      <th>28</th>\n",
       "      <td>2024</td>\n",
       "      <td>Portland Trail Blazers</td>\n",
       "      <td>24.1</td>\n",
       "      <td>21.0</td>\n",
       "      <td>61.0</td>\n",
       "      <td>20</td>\n",
       "      <td>62</td>\n",
       "      <td>-9.02</td>\n",
       "      <td>0.74</td>\n",
       "      <td>-8.29</td>\n",
       "      <td>...</td>\n",
       "      <td>0.181</td>\n",
       "      <td>NaN</td>\n",
       "      <td>0.558</td>\n",
       "      <td>12.8</td>\n",
       "      <td>74.0</td>\n",
       "      <td>0.216</td>\n",
       "      <td>NaN</td>\n",
       "      <td>Moda Center</td>\n",
       "      <td>751395</td>\n",
       "      <td>18327</td>\n",
       "    </tr>\n",
       "    <tr>\n",
       "      <th>29</th>\n",
       "      <td>2024</td>\n",
       "      <td>Charlotte Hornets</td>\n",
       "      <td>25.1</td>\n",
       "      <td>21.0</td>\n",
       "      <td>61.0</td>\n",
       "      <td>18</td>\n",
       "      <td>64</td>\n",
       "      <td>-10.24</td>\n",
       "      <td>0.13</td>\n",
       "      <td>-10.12</td>\n",
       "      <td>...</td>\n",
       "      <td>0.167</td>\n",
       "      <td>NaN</td>\n",
       "      <td>0.572</td>\n",
       "      <td>12.3</td>\n",
       "      <td>74.5</td>\n",
       "      <td>0.188</td>\n",
       "      <td>NaN</td>\n",
       "      <td>Spectrum Center</td>\n",
       "      <td>674400</td>\n",
       "      <td>16449</td>\n",
       "    </tr>\n",
       "    <tr>\n",
       "      <th>30</th>\n",
       "      <td>2024</td>\n",
       "      <td>League Average</td>\n",
       "      <td>26.6</td>\n",
       "      <td>NaN</td>\n",
       "      <td>NaN</td>\n",
       "      <td>41</td>\n",
       "      <td>41</td>\n",
       "      <td>0.00</td>\n",
       "      <td>0.00</td>\n",
       "      <td>0.00</td>\n",
       "      <td>...</td>\n",
       "      <td>0.192</td>\n",
       "      <td>NaN</td>\n",
       "      <td>0.547</td>\n",
       "      <td>12.1</td>\n",
       "      <td>75.8</td>\n",
       "      <td>0.192</td>\n",
       "      <td>NaN</td>\n",
       "      <td>NaN</td>\n",
       "      <td>750679</td>\n",
       "      <td>18315</td>\n",
       "    </tr>\n",
       "  </tbody>\n",
       "</table>\n",
       "<p>31 rows × 31 columns</p>\n",
       "</div>"
      ],
      "text/plain": [
       "    Year                     Team   Age     W     L  PW  PL    MOV   SOS  \\\n",
       "0   2024          Boston Celtics*  28.2  64.0  18.0  66  16  11.34 -0.60   \n",
       "1   2024   Oklahoma City Thunder*  23.4  57.0  25.0  58  24   7.41 -0.05   \n",
       "2   2024  Minnesota Timberwolves*  27.2  56.0  26.0  57  25   6.45 -0.07   \n",
       "3   2024          Denver Nuggets*  27.1  57.0  25.0  54  28   5.26 -0.03   \n",
       "4   2024         New York Knicks*  26.4  50.0  32.0  53  29   4.59 -0.23   \n",
       "5   2024    New Orleans Pelicans*  26.0  49.0  33.0  52  30   4.41  0.05   \n",
       "6   2024    Los Angeles Clippers*  30.4  51.0  31.0  49  33   3.28  0.13   \n",
       "7   2024      Philadelphia 76ers*  28.4  47.0  35.0  49  33   3.05 -0.54   \n",
       "8   2024            Phoenix Suns*  29.3  49.0  33.0  49  33   3.06  0.02   \n",
       "9   2024          Indiana Pacers*  25.3  47.0  35.0  48  34   3.05 -0.30   \n",
       "10  2024    Golden State Warriors  28.4  46.0  36.0  47  35   2.61  0.16   \n",
       "11  2024         Milwaukee Bucks*  30.2  49.0  33.0  47  35   2.62 -0.18   \n",
       "12  2024     Cleveland Cavaliers*  26.2  48.0  34.0  47  35   2.41 -0.44   \n",
       "13  2024        Dallas Mavericks*  26.5  50.0  32.0  46  36   2.21  0.09   \n",
       "14  2024           Orlando Magic*  24.0  47.0  35.0  46  36   2.02 -0.55   \n",
       "15  2024              Miami Heat*  28.0  46.0  36.0  46  36   1.76 -0.66   \n",
       "16  2024         Sacramento Kings  26.4  46.0  36.0  45  37   1.74  0.55   \n",
       "17  2024          Houston Rockets  25.1  41.0  41.0  44  38   1.12  0.12   \n",
       "18  2024      Los Angeles Lakers*  28.0  47.0  35.0  42  40   0.60  0.48   \n",
       "19  2024            Chicago Bulls  28.1  39.0  43.0  37  45  -1.44 -0.33   \n",
       "20  2024            Atlanta Hawks  26.2  36.0  46.0  36  46  -2.18 -0.19   \n",
       "21  2024            Brooklyn Nets  26.1  32.0  50.0  34  48  -2.89 -0.13   \n",
       "22  2024                Utah Jazz  25.1  31.0  51.0  29  53  -4.89  0.68   \n",
       "23  2024        San Antonio Spurs  23.0  22.0  60.0  26  56  -6.49  0.69   \n",
       "24  2024          Toronto Raptors  25.9  25.0  57.0  26  56  -6.44 -0.01   \n",
       "25  2024        Memphis Grizzlies  24.4  27.0  55.0  24  58  -7.00  0.43   \n",
       "26  2024          Detroit Pistons  23.8  14.0  68.0  20  62  -9.11  0.05   \n",
       "27  2024       Washington Wizards  24.9  15.0  67.0  20  62  -9.29  0.00   \n",
       "28  2024   Portland Trail Blazers  24.1  21.0  61.0  20  62  -9.02  0.74   \n",
       "29  2024        Charlotte Hornets  25.1  21.0  61.0  18  64 -10.24  0.13   \n",
       "30  2024           League Average  26.6   NaN   NaN  41  41   0.00  0.00   \n",
       "\n",
       "      SRS  ...  FT/FGA  Unnamed: 22  eFG%.1  TOV%.1  DRB%  FT/FGA.1  \\\n",
       "0   10.75  ...   0.180          NaN   0.523    10.8  76.3     0.145   \n",
       "1    7.36  ...   0.198          NaN   0.530    13.6  73.8     0.202   \n",
       "2    6.39  ...   0.209          NaN   0.515    12.9  76.9     0.197   \n",
       "3    5.23  ...   0.170          NaN   0.526    11.2  75.6     0.195   \n",
       "4    4.36  ...   0.192          NaN   0.543    12.3  76.1     0.176   \n",
       "5    4.46  ...   0.202          NaN   0.541    12.9  76.9     0.186   \n",
       "6    3.41  ...   0.211          NaN   0.541    11.7  74.8     0.183   \n",
       "7    2.51  ...   0.218          NaN   0.537    13.1  74.3     0.215   \n",
       "8    3.08  ...   0.219          NaN   0.536    11.3  75.6     0.178   \n",
       "9    2.75  ...   0.173          NaN   0.556    12.1  74.1     0.228   \n",
       "10   2.77  ...   0.171          NaN   0.539    11.5  76.1     0.195   \n",
       "11   2.44  ...   0.209          NaN   0.539    10.6  77.2     0.189   \n",
       "12   1.98  ...   0.179          NaN   0.535    12.3  76.9     0.190   \n",
       "13   2.30  ...   0.190          NaN   0.548    12.1  75.2     0.184   \n",
       "14   1.48  ...   0.218          NaN   0.543    13.8  78.1     0.206   \n",
       "15   1.10  ...   0.210          NaN   0.543    12.7  78.1     0.174   \n",
       "16   2.29  ...   0.171          NaN   0.555    12.5  78.4     0.213   \n",
       "17   1.24  ...   0.199          NaN   0.533    12.2  76.0     0.219   \n",
       "18   1.07  ...   0.216          NaN   0.550    11.7  76.2     0.153   \n",
       "19  -1.77  ...   0.187          NaN   0.556    12.7  76.4     0.195   \n",
       "20  -2.38  ...   0.200          NaN   0.572    12.4  75.2     0.192   \n",
       "21  -3.02  ...   0.177          NaN   0.543    11.4  76.0     0.193   \n",
       "22  -4.22  ...   0.209          NaN   0.567    10.9  75.2     0.182   \n",
       "23  -5.80  ...   0.172          NaN   0.555    11.7  76.4     0.174   \n",
       "24  -6.45  ...   0.182          NaN   0.566    12.2  73.9     0.172   \n",
       "25  -6.57  ...   0.182          NaN   0.551    13.5  74.8     0.195   \n",
       "26  -9.06  ...   0.193          NaN   0.558    11.1  77.3     0.221   \n",
       "27  -9.29  ...   0.169          NaN   0.562    12.0  72.5     0.201   \n",
       "28  -8.29  ...   0.181          NaN   0.558    12.8  74.0     0.216   \n",
       "29 -10.12  ...   0.167          NaN   0.572    12.3  74.5     0.188   \n",
       "30   0.00  ...   0.192          NaN   0.547    12.1  75.8     0.192   \n",
       "\n",
       "    Unnamed: 27                       Arena  Attend.  Attend./G  \n",
       "0           NaN                   TD Garden   785396      19156  \n",
       "1           NaN               Paycom Center   715509      17451  \n",
       "2           NaN               Target Center   720960      17584  \n",
       "3           NaN                  Ball Arena   807062      19684  \n",
       "4           NaN  Madison Square Garden (IV)   808885      19729  \n",
       "5           NaN        Smoothie King Center   692054      17301  \n",
       "6           NaN            Crypto.com Arena   776782      18946  \n",
       "7           NaN          Wells Fargo Center   821714      20042  \n",
       "8           NaN            Footprint Center   699911      17071  \n",
       "9           NaN       Gainbridge Fieldhouse   677554      16526  \n",
       "10          NaN                Chase Center   740624      18064  \n",
       "11          NaN                Fiserv Forum   740850      17659  \n",
       "12          NaN  Rocket Mortgage Fieldhouse   793167      19432  \n",
       "13          NaN    American Airlines Center   828897      20217  \n",
       "14          NaN                  Kia Center   773939      18849  \n",
       "15          NaN               Kaseya Center   809743      19750  \n",
       "16          NaN             Golden 1 Center   735015      17927  \n",
       "17          NaN               Toyota Center   720045      17562  \n",
       "18          NaN            Crypto.com Arena   793945      18925  \n",
       "19          NaN               United Center   845620      20625  \n",
       "20          NaN            State Farm Arena   696418      16986  \n",
       "21          NaN             Barclays Center   720291      17568  \n",
       "22          NaN                Delta Center   746446      18206  \n",
       "23          NaN           Frost Bank Center   742522      18211  \n",
       "24          NaN            Scotiabank Arena   800129      19515  \n",
       "25          NaN                 FedEx Forum   681875      16631  \n",
       "26          NaN        Little Caesars Arena   726378      18159  \n",
       "27          NaN           Capital One Arena   692851      16899  \n",
       "28          NaN                 Moda Center   751395      18327  \n",
       "29          NaN             Spectrum Center   674400      16449  \n",
       "30          NaN                         NaN   750679      18315  \n",
       "\n",
       "[31 rows x 31 columns]"
      ]
     },
     "execution_count": 4,
     "metadata": {},
     "output_type": "execute_result"
    }
   ],
   "source": [
    "#The data for the teams\n",
    "def get_seasonal_team_data(yr):\n",
    "    \"\"\" Gets the team data for all teams for a specific season\n",
    "    \n",
    "    Args:\n",
    "        yr (int): THe year in which we will be collecting data\n",
    "\n",
    "    Returns:\n",
    "        team_df (df): the team data for that season\n",
    "    \"\"\"\n",
    "    url = f'https://www.basketball-reference.com/leagues/NBA_{yr}.html'\n",
    "    team_df = pd.read_html(url, header=1, index_col=False)[10].iloc[:,1:]\n",
    "    #add year to data\n",
    "    year = [yr] * 31\n",
    "    team_df.insert(0,'Year', year)\n",
    "    return team_df\n",
    "    \n",
    "team_df = get_seasonal_team_data(2024)\n",
    "team_df"
   ]
  },
  {
   "cell_type": "code",
   "execution_count": 5,
   "metadata": {},
   "outputs": [
    {
     "data": {
      "text/html": [
       "<div>\n",
       "<style scoped>\n",
       "    .dataframe tbody tr th:only-of-type {\n",
       "        vertical-align: middle;\n",
       "    }\n",
       "\n",
       "    .dataframe tbody tr th {\n",
       "        vertical-align: top;\n",
       "    }\n",
       "\n",
       "    .dataframe thead th {\n",
       "        text-align: right;\n",
       "    }\n",
       "</style>\n",
       "<table border=\"1\" class=\"dataframe\">\n",
       "  <thead>\n",
       "    <tr style=\"text-align: right;\">\n",
       "      <th></th>\n",
       "      <th>Year</th>\n",
       "      <th>Team</th>\n",
       "      <th>Age</th>\n",
       "      <th>W</th>\n",
       "      <th>L</th>\n",
       "      <th>PW</th>\n",
       "      <th>PL</th>\n",
       "      <th>MOV</th>\n",
       "      <th>SOS</th>\n",
       "      <th>SRS</th>\n",
       "      <th>...</th>\n",
       "      <th>3PAr</th>\n",
       "      <th>TS%</th>\n",
       "      <th>eFG%</th>\n",
       "      <th>TOV%</th>\n",
       "      <th>ORB%</th>\n",
       "      <th>FT/FGA</th>\n",
       "      <th>eFG%.1</th>\n",
       "      <th>TOV%.1</th>\n",
       "      <th>DRB%</th>\n",
       "      <th>FT/FGA.1</th>\n",
       "    </tr>\n",
       "  </thead>\n",
       "  <tbody>\n",
       "    <tr>\n",
       "      <th>0</th>\n",
       "      <td>2024</td>\n",
       "      <td>BOS</td>\n",
       "      <td>28.2</td>\n",
       "      <td>64.0</td>\n",
       "      <td>18.0</td>\n",
       "      <td>66</td>\n",
       "      <td>16</td>\n",
       "      <td>11.34</td>\n",
       "      <td>-0.60</td>\n",
       "      <td>10.75</td>\n",
       "      <td>...</td>\n",
       "      <td>0.471</td>\n",
       "      <td>0.609</td>\n",
       "      <td>0.578</td>\n",
       "      <td>10.8</td>\n",
       "      <td>24.9</td>\n",
       "      <td>0.180</td>\n",
       "      <td>0.523</td>\n",
       "      <td>10.8</td>\n",
       "      <td>76.3</td>\n",
       "      <td>0.145</td>\n",
       "    </tr>\n",
       "    <tr>\n",
       "      <th>1</th>\n",
       "      <td>2024</td>\n",
       "      <td>OKC</td>\n",
       "      <td>23.4</td>\n",
       "      <td>57.0</td>\n",
       "      <td>25.0</td>\n",
       "      <td>58</td>\n",
       "      <td>24</td>\n",
       "      <td>7.41</td>\n",
       "      <td>-0.05</td>\n",
       "      <td>7.36</td>\n",
       "      <td>...</td>\n",
       "      <td>0.383</td>\n",
       "      <td>0.608</td>\n",
       "      <td>0.573</td>\n",
       "      <td>11.4</td>\n",
       "      <td>21.1</td>\n",
       "      <td>0.198</td>\n",
       "      <td>0.530</td>\n",
       "      <td>13.6</td>\n",
       "      <td>73.8</td>\n",
       "      <td>0.202</td>\n",
       "    </tr>\n",
       "    <tr>\n",
       "      <th>2</th>\n",
       "      <td>2024</td>\n",
       "      <td>MIN</td>\n",
       "      <td>27.2</td>\n",
       "      <td>56.0</td>\n",
       "      <td>26.0</td>\n",
       "      <td>57</td>\n",
       "      <td>25</td>\n",
       "      <td>6.45</td>\n",
       "      <td>-0.07</td>\n",
       "      <td>6.39</td>\n",
       "      <td>...</td>\n",
       "      <td>0.384</td>\n",
       "      <td>0.594</td>\n",
       "      <td>0.559</td>\n",
       "      <td>13.0</td>\n",
       "      <td>23.2</td>\n",
       "      <td>0.209</td>\n",
       "      <td>0.515</td>\n",
       "      <td>12.9</td>\n",
       "      <td>76.9</td>\n",
       "      <td>0.197</td>\n",
       "    </tr>\n",
       "    <tr>\n",
       "      <th>3</th>\n",
       "      <td>2024</td>\n",
       "      <td>DEN</td>\n",
       "      <td>27.1</td>\n",
       "      <td>57.0</td>\n",
       "      <td>25.0</td>\n",
       "      <td>54</td>\n",
       "      <td>28</td>\n",
       "      <td>5.26</td>\n",
       "      <td>-0.03</td>\n",
       "      <td>5.23</td>\n",
       "      <td>...</td>\n",
       "      <td>0.352</td>\n",
       "      <td>0.589</td>\n",
       "      <td>0.562</td>\n",
       "      <td>11.5</td>\n",
       "      <td>25.5</td>\n",
       "      <td>0.170</td>\n",
       "      <td>0.526</td>\n",
       "      <td>11.2</td>\n",
       "      <td>75.6</td>\n",
       "      <td>0.195</td>\n",
       "    </tr>\n",
       "    <tr>\n",
       "      <th>4</th>\n",
       "      <td>2024</td>\n",
       "      <td>NYK</td>\n",
       "      <td>26.4</td>\n",
       "      <td>50.0</td>\n",
       "      <td>32.0</td>\n",
       "      <td>53</td>\n",
       "      <td>29</td>\n",
       "      <td>4.59</td>\n",
       "      <td>-0.23</td>\n",
       "      <td>4.36</td>\n",
       "      <td>...</td>\n",
       "      <td>0.404</td>\n",
       "      <td>0.574</td>\n",
       "      <td>0.540</td>\n",
       "      <td>11.9</td>\n",
       "      <td>29.4</td>\n",
       "      <td>0.192</td>\n",
       "      <td>0.543</td>\n",
       "      <td>12.3</td>\n",
       "      <td>76.1</td>\n",
       "      <td>0.176</td>\n",
       "    </tr>\n",
       "    <tr>\n",
       "      <th>5</th>\n",
       "      <td>2024</td>\n",
       "      <td>NOP</td>\n",
       "      <td>26.0</td>\n",
       "      <td>49.0</td>\n",
       "      <td>33.0</td>\n",
       "      <td>52</td>\n",
       "      <td>30</td>\n",
       "      <td>4.41</td>\n",
       "      <td>0.05</td>\n",
       "      <td>4.46</td>\n",
       "      <td>...</td>\n",
       "      <td>0.373</td>\n",
       "      <td>0.591</td>\n",
       "      <td>0.558</td>\n",
       "      <td>11.8</td>\n",
       "      <td>24.4</td>\n",
       "      <td>0.202</td>\n",
       "      <td>0.541</td>\n",
       "      <td>12.9</td>\n",
       "      <td>76.9</td>\n",
       "      <td>0.186</td>\n",
       "    </tr>\n",
       "    <tr>\n",
       "      <th>6</th>\n",
       "      <td>2024</td>\n",
       "      <td>LAC</td>\n",
       "      <td>30.4</td>\n",
       "      <td>51.0</td>\n",
       "      <td>31.0</td>\n",
       "      <td>49</td>\n",
       "      <td>33</td>\n",
       "      <td>3.28</td>\n",
       "      <td>0.13</td>\n",
       "      <td>3.41</td>\n",
       "      <td>...</td>\n",
       "      <td>0.383</td>\n",
       "      <td>0.599</td>\n",
       "      <td>0.561</td>\n",
       "      <td>12.0</td>\n",
       "      <td>24.4</td>\n",
       "      <td>0.211</td>\n",
       "      <td>0.541</td>\n",
       "      <td>11.7</td>\n",
       "      <td>74.8</td>\n",
       "      <td>0.183</td>\n",
       "    </tr>\n",
       "    <tr>\n",
       "      <th>7</th>\n",
       "      <td>2024</td>\n",
       "      <td>PHI</td>\n",
       "      <td>28.4</td>\n",
       "      <td>47.0</td>\n",
       "      <td>35.0</td>\n",
       "      <td>49</td>\n",
       "      <td>33</td>\n",
       "      <td>3.05</td>\n",
       "      <td>-0.54</td>\n",
       "      <td>2.51</td>\n",
       "      <td>...</td>\n",
       "      <td>0.373</td>\n",
       "      <td>0.574</td>\n",
       "      <td>0.532</td>\n",
       "      <td>10.7</td>\n",
       "      <td>24.8</td>\n",
       "      <td>0.218</td>\n",
       "      <td>0.537</td>\n",
       "      <td>13.1</td>\n",
       "      <td>74.3</td>\n",
       "      <td>0.215</td>\n",
       "    </tr>\n",
       "    <tr>\n",
       "      <th>8</th>\n",
       "      <td>2024</td>\n",
       "      <td>PHX</td>\n",
       "      <td>29.3</td>\n",
       "      <td>49.0</td>\n",
       "      <td>33.0</td>\n",
       "      <td>49</td>\n",
       "      <td>33</td>\n",
       "      <td>3.06</td>\n",
       "      <td>0.02</td>\n",
       "      <td>3.08</td>\n",
       "      <td>...</td>\n",
       "      <td>0.378</td>\n",
       "      <td>0.603</td>\n",
       "      <td>0.565</td>\n",
       "      <td>13.4</td>\n",
       "      <td>25.0</td>\n",
       "      <td>0.219</td>\n",
       "      <td>0.536</td>\n",
       "      <td>11.3</td>\n",
       "      <td>75.6</td>\n",
       "      <td>0.178</td>\n",
       "    </tr>\n",
       "    <tr>\n",
       "      <th>9</th>\n",
       "      <td>2024</td>\n",
       "      <td>IND</td>\n",
       "      <td>25.3</td>\n",
       "      <td>47.0</td>\n",
       "      <td>35.0</td>\n",
       "      <td>48</td>\n",
       "      <td>34</td>\n",
       "      <td>3.05</td>\n",
       "      <td>-0.30</td>\n",
       "      <td>2.75</td>\n",
       "      <td>...</td>\n",
       "      <td>0.380</td>\n",
       "      <td>0.606</td>\n",
       "      <td>0.578</td>\n",
       "      <td>11.3</td>\n",
       "      <td>23.8</td>\n",
       "      <td>0.173</td>\n",
       "      <td>0.556</td>\n",
       "      <td>12.1</td>\n",
       "      <td>74.1</td>\n",
       "      <td>0.228</td>\n",
       "    </tr>\n",
       "    <tr>\n",
       "      <th>10</th>\n",
       "      <td>2024</td>\n",
       "      <td>GSW</td>\n",
       "      <td>28.4</td>\n",
       "      <td>46.0</td>\n",
       "      <td>36.0</td>\n",
       "      <td>47</td>\n",
       "      <td>35</td>\n",
       "      <td>2.61</td>\n",
       "      <td>0.16</td>\n",
       "      <td>2.77</td>\n",
       "      <td>...</td>\n",
       "      <td>0.425</td>\n",
       "      <td>0.586</td>\n",
       "      <td>0.557</td>\n",
       "      <td>12.5</td>\n",
       "      <td>27.5</td>\n",
       "      <td>0.171</td>\n",
       "      <td>0.539</td>\n",
       "      <td>11.5</td>\n",
       "      <td>76.1</td>\n",
       "      <td>0.195</td>\n",
       "    </tr>\n",
       "    <tr>\n",
       "      <th>11</th>\n",
       "      <td>2024</td>\n",
       "      <td>MIL</td>\n",
       "      <td>30.2</td>\n",
       "      <td>49.0</td>\n",
       "      <td>33.0</td>\n",
       "      <td>47</td>\n",
       "      <td>35</td>\n",
       "      <td>2.62</td>\n",
       "      <td>-0.18</td>\n",
       "      <td>2.44</td>\n",
       "      <td>...</td>\n",
       "      <td>0.430</td>\n",
       "      <td>0.601</td>\n",
       "      <td>0.568</td>\n",
       "      <td>11.5</td>\n",
       "      <td>21.8</td>\n",
       "      <td>0.209</td>\n",
       "      <td>0.539</td>\n",
       "      <td>10.6</td>\n",
       "      <td>77.2</td>\n",
       "      <td>0.189</td>\n",
       "    </tr>\n",
       "    <tr>\n",
       "      <th>12</th>\n",
       "      <td>2024</td>\n",
       "      <td>CLE</td>\n",
       "      <td>26.2</td>\n",
       "      <td>48.0</td>\n",
       "      <td>34.0</td>\n",
       "      <td>47</td>\n",
       "      <td>35</td>\n",
       "      <td>2.41</td>\n",
       "      <td>-0.44</td>\n",
       "      <td>1.98</td>\n",
       "      <td>...</td>\n",
       "      <td>0.422</td>\n",
       "      <td>0.586</td>\n",
       "      <td>0.557</td>\n",
       "      <td>12.4</td>\n",
       "      <td>23.2</td>\n",
       "      <td>0.179</td>\n",
       "      <td>0.535</td>\n",
       "      <td>12.3</td>\n",
       "      <td>76.9</td>\n",
       "      <td>0.190</td>\n",
       "    </tr>\n",
       "    <tr>\n",
       "      <th>13</th>\n",
       "      <td>2024</td>\n",
       "      <td>DAL</td>\n",
       "      <td>26.5</td>\n",
       "      <td>50.0</td>\n",
       "      <td>32.0</td>\n",
       "      <td>46</td>\n",
       "      <td>36</td>\n",
       "      <td>2.21</td>\n",
       "      <td>0.09</td>\n",
       "      <td>2.30</td>\n",
       "      <td>...</td>\n",
       "      <td>0.441</td>\n",
       "      <td>0.592</td>\n",
       "      <td>0.562</td>\n",
       "      <td>11.2</td>\n",
       "      <td>22.2</td>\n",
       "      <td>0.190</td>\n",
       "      <td>0.548</td>\n",
       "      <td>12.1</td>\n",
       "      <td>75.2</td>\n",
       "      <td>0.184</td>\n",
       "    </tr>\n",
       "    <tr>\n",
       "      <th>14</th>\n",
       "      <td>2024</td>\n",
       "      <td>ORL</td>\n",
       "      <td>24.0</td>\n",
       "      <td>47.0</td>\n",
       "      <td>35.0</td>\n",
       "      <td>46</td>\n",
       "      <td>36</td>\n",
       "      <td>2.02</td>\n",
       "      <td>-0.55</td>\n",
       "      <td>1.48</td>\n",
       "      <td>...</td>\n",
       "      <td>0.369</td>\n",
       "      <td>0.577</td>\n",
       "      <td>0.541</td>\n",
       "      <td>13.3</td>\n",
       "      <td>25.3</td>\n",
       "      <td>0.218</td>\n",
       "      <td>0.543</td>\n",
       "      <td>13.8</td>\n",
       "      <td>78.1</td>\n",
       "      <td>0.206</td>\n",
       "    </tr>\n",
       "    <tr>\n",
       "      <th>15</th>\n",
       "      <td>2024</td>\n",
       "      <td>MIA</td>\n",
       "      <td>28.0</td>\n",
       "      <td>46.0</td>\n",
       "      <td>36.0</td>\n",
       "      <td>46</td>\n",
       "      <td>36</td>\n",
       "      <td>1.76</td>\n",
       "      <td>-0.66</td>\n",
       "      <td>1.10</td>\n",
       "      <td>...</td>\n",
       "      <td>0.394</td>\n",
       "      <td>0.578</td>\n",
       "      <td>0.538</td>\n",
       "      <td>11.7</td>\n",
       "      <td>21.8</td>\n",
       "      <td>0.210</td>\n",
       "      <td>0.543</td>\n",
       "      <td>12.7</td>\n",
       "      <td>78.1</td>\n",
       "      <td>0.174</td>\n",
       "    </tr>\n",
       "    <tr>\n",
       "      <th>16</th>\n",
       "      <td>2024</td>\n",
       "      <td>SAC</td>\n",
       "      <td>26.4</td>\n",
       "      <td>46.0</td>\n",
       "      <td>36.0</td>\n",
       "      <td>45</td>\n",
       "      <td>37</td>\n",
       "      <td>1.74</td>\n",
       "      <td>0.55</td>\n",
       "      <td>2.29</td>\n",
       "      <td>...</td>\n",
       "      <td>0.432</td>\n",
       "      <td>0.582</td>\n",
       "      <td>0.556</td>\n",
       "      <td>11.6</td>\n",
       "      <td>24.5</td>\n",
       "      <td>0.171</td>\n",
       "      <td>0.555</td>\n",
       "      <td>12.5</td>\n",
       "      <td>78.4</td>\n",
       "      <td>0.213</td>\n",
       "    </tr>\n",
       "    <tr>\n",
       "      <th>17</th>\n",
       "      <td>2024</td>\n",
       "      <td>HOU</td>\n",
       "      <td>25.1</td>\n",
       "      <td>41.0</td>\n",
       "      <td>41.0</td>\n",
       "      <td>44</td>\n",
       "      <td>38</td>\n",
       "      <td>1.12</td>\n",
       "      <td>0.12</td>\n",
       "      <td>1.24</td>\n",
       "      <td>...</td>\n",
       "      <td>0.397</td>\n",
       "      <td>0.565</td>\n",
       "      <td>0.529</td>\n",
       "      <td>11.2</td>\n",
       "      <td>25.1</td>\n",
       "      <td>0.199</td>\n",
       "      <td>0.533</td>\n",
       "      <td>12.2</td>\n",
       "      <td>76.0</td>\n",
       "      <td>0.219</td>\n",
       "    </tr>\n",
       "    <tr>\n",
       "      <th>18</th>\n",
       "      <td>2024</td>\n",
       "      <td>LAL</td>\n",
       "      <td>28.0</td>\n",
       "      <td>47.0</td>\n",
       "      <td>35.0</td>\n",
       "      <td>42</td>\n",
       "      <td>40</td>\n",
       "      <td>0.60</td>\n",
       "      <td>0.48</td>\n",
       "      <td>1.07</td>\n",
       "      <td>...</td>\n",
       "      <td>0.358</td>\n",
       "      <td>0.601</td>\n",
       "      <td>0.566</td>\n",
       "      <td>12.5</td>\n",
       "      <td>19.9</td>\n",
       "      <td>0.216</td>\n",
       "      <td>0.550</td>\n",
       "      <td>11.7</td>\n",
       "      <td>76.2</td>\n",
       "      <td>0.153</td>\n",
       "    </tr>\n",
       "    <tr>\n",
       "      <th>19</th>\n",
       "      <td>2024</td>\n",
       "      <td>CHI</td>\n",
       "      <td>28.1</td>\n",
       "      <td>39.0</td>\n",
       "      <td>43.0</td>\n",
       "      <td>37</td>\n",
       "      <td>45</td>\n",
       "      <td>-1.44</td>\n",
       "      <td>-0.33</td>\n",
       "      <td>-1.77</td>\n",
       "      <td>...</td>\n",
       "      <td>0.358</td>\n",
       "      <td>0.568</td>\n",
       "      <td>0.534</td>\n",
       "      <td>11.0</td>\n",
       "      <td>25.1</td>\n",
       "      <td>0.187</td>\n",
       "      <td>0.556</td>\n",
       "      <td>12.7</td>\n",
       "      <td>76.4</td>\n",
       "      <td>0.195</td>\n",
       "    </tr>\n",
       "    <tr>\n",
       "      <th>20</th>\n",
       "      <td>2024</td>\n",
       "      <td>ATL</td>\n",
       "      <td>26.2</td>\n",
       "      <td>36.0</td>\n",
       "      <td>46.0</td>\n",
       "      <td>36</td>\n",
       "      <td>46</td>\n",
       "      <td>-2.18</td>\n",
       "      <td>-0.19</td>\n",
       "      <td>-2.38</td>\n",
       "      <td>...</td>\n",
       "      <td>0.408</td>\n",
       "      <td>0.576</td>\n",
       "      <td>0.539</td>\n",
       "      <td>11.6</td>\n",
       "      <td>27.1</td>\n",
       "      <td>0.200</td>\n",
       "      <td>0.572</td>\n",
       "      <td>12.4</td>\n",
       "      <td>75.2</td>\n",
       "      <td>0.192</td>\n",
       "    </tr>\n",
       "    <tr>\n",
       "      <th>21</th>\n",
       "      <td>2024</td>\n",
       "      <td>BKN</td>\n",
       "      <td>26.1</td>\n",
       "      <td>32.0</td>\n",
       "      <td>50.0</td>\n",
       "      <td>34</td>\n",
       "      <td>48</td>\n",
       "      <td>-2.89</td>\n",
       "      <td>-0.13</td>\n",
       "      <td>-3.02</td>\n",
       "      <td>...</td>\n",
       "      <td>0.412</td>\n",
       "      <td>0.561</td>\n",
       "      <td>0.531</td>\n",
       "      <td>11.8</td>\n",
       "      <td>25.2</td>\n",
       "      <td>0.177</td>\n",
       "      <td>0.543</td>\n",
       "      <td>11.4</td>\n",
       "      <td>76.0</td>\n",
       "      <td>0.193</td>\n",
       "    </tr>\n",
       "    <tr>\n",
       "      <th>22</th>\n",
       "      <td>2024</td>\n",
       "      <td>UTA</td>\n",
       "      <td>25.1</td>\n",
       "      <td>31.0</td>\n",
       "      <td>51.0</td>\n",
       "      <td>29</td>\n",
       "      <td>53</td>\n",
       "      <td>-4.89</td>\n",
       "      <td>0.68</td>\n",
       "      <td>-4.22</td>\n",
       "      <td>...</td>\n",
       "      <td>0.406</td>\n",
       "      <td>0.579</td>\n",
       "      <td>0.539</td>\n",
       "      <td>13.6</td>\n",
       "      <td>28.1</td>\n",
       "      <td>0.209</td>\n",
       "      <td>0.567</td>\n",
       "      <td>10.9</td>\n",
       "      <td>75.2</td>\n",
       "      <td>0.182</td>\n",
       "    </tr>\n",
       "    <tr>\n",
       "      <th>23</th>\n",
       "      <td>2024</td>\n",
       "      <td>SAS</td>\n",
       "      <td>23.0</td>\n",
       "      <td>22.0</td>\n",
       "      <td>60.0</td>\n",
       "      <td>26</td>\n",
       "      <td>56</td>\n",
       "      <td>-6.49</td>\n",
       "      <td>0.69</td>\n",
       "      <td>-5.80</td>\n",
       "      <td>...</td>\n",
       "      <td>0.401</td>\n",
       "      <td>0.563</td>\n",
       "      <td>0.532</td>\n",
       "      <td>13.2</td>\n",
       "      <td>22.9</td>\n",
       "      <td>0.172</td>\n",
       "      <td>0.555</td>\n",
       "      <td>11.7</td>\n",
       "      <td>76.4</td>\n",
       "      <td>0.174</td>\n",
       "    </tr>\n",
       "    <tr>\n",
       "      <th>24</th>\n",
       "      <td>2024</td>\n",
       "      <td>TOR</td>\n",
       "      <td>25.9</td>\n",
       "      <td>25.0</td>\n",
       "      <td>57.0</td>\n",
       "      <td>26</td>\n",
       "      <td>56</td>\n",
       "      <td>-6.44</td>\n",
       "      <td>-0.01</td>\n",
       "      <td>-6.45</td>\n",
       "      <td>...</td>\n",
       "      <td>0.369</td>\n",
       "      <td>0.566</td>\n",
       "      <td>0.535</td>\n",
       "      <td>12.4</td>\n",
       "      <td>24.2</td>\n",
       "      <td>0.182</td>\n",
       "      <td>0.566</td>\n",
       "      <td>12.2</td>\n",
       "      <td>73.9</td>\n",
       "      <td>0.172</td>\n",
       "    </tr>\n",
       "    <tr>\n",
       "      <th>25</th>\n",
       "      <td>2024</td>\n",
       "      <td>MEM</td>\n",
       "      <td>24.4</td>\n",
       "      <td>27.0</td>\n",
       "      <td>55.0</td>\n",
       "      <td>24</td>\n",
       "      <td>58</td>\n",
       "      <td>-7.00</td>\n",
       "      <td>0.43</td>\n",
       "      <td>-6.57</td>\n",
       "      <td>...</td>\n",
       "      <td>0.428</td>\n",
       "      <td>0.543</td>\n",
       "      <td>0.509</td>\n",
       "      <td>13.4</td>\n",
       "      <td>23.8</td>\n",
       "      <td>0.182</td>\n",
       "      <td>0.551</td>\n",
       "      <td>13.5</td>\n",
       "      <td>74.8</td>\n",
       "      <td>0.195</td>\n",
       "    </tr>\n",
       "    <tr>\n",
       "      <th>26</th>\n",
       "      <td>2024</td>\n",
       "      <td>DET</td>\n",
       "      <td>23.8</td>\n",
       "      <td>14.0</td>\n",
       "      <td>68.0</td>\n",
       "      <td>20</td>\n",
       "      <td>62</td>\n",
       "      <td>-9.11</td>\n",
       "      <td>0.05</td>\n",
       "      <td>-9.06</td>\n",
       "      <td>...</td>\n",
       "      <td>0.360</td>\n",
       "      <td>0.562</td>\n",
       "      <td>0.526</td>\n",
       "      <td>13.5</td>\n",
       "      <td>23.9</td>\n",
       "      <td>0.193</td>\n",
       "      <td>0.558</td>\n",
       "      <td>11.1</td>\n",
       "      <td>77.3</td>\n",
       "      <td>0.221</td>\n",
       "    </tr>\n",
       "    <tr>\n",
       "      <th>27</th>\n",
       "      <td>2024</td>\n",
       "      <td>WAS</td>\n",
       "      <td>24.9</td>\n",
       "      <td>15.0</td>\n",
       "      <td>67.0</td>\n",
       "      <td>20</td>\n",
       "      <td>62</td>\n",
       "      <td>-9.29</td>\n",
       "      <td>0.00</td>\n",
       "      <td>-9.29</td>\n",
       "      <td>...</td>\n",
       "      <td>0.389</td>\n",
       "      <td>0.567</td>\n",
       "      <td>0.538</td>\n",
       "      <td>12.2</td>\n",
       "      <td>20.0</td>\n",
       "      <td>0.169</td>\n",
       "      <td>0.562</td>\n",
       "      <td>12.0</td>\n",
       "      <td>72.5</td>\n",
       "      <td>0.201</td>\n",
       "    </tr>\n",
       "    <tr>\n",
       "      <th>28</th>\n",
       "      <td>2024</td>\n",
       "      <td>POR</td>\n",
       "      <td>24.1</td>\n",
       "      <td>21.0</td>\n",
       "      <td>61.0</td>\n",
       "      <td>20</td>\n",
       "      <td>62</td>\n",
       "      <td>-9.02</td>\n",
       "      <td>0.74</td>\n",
       "      <td>-8.29</td>\n",
       "      <td>...</td>\n",
       "      <td>0.370</td>\n",
       "      <td>0.539</td>\n",
       "      <td>0.503</td>\n",
       "      <td>13.4</td>\n",
       "      <td>27.5</td>\n",
       "      <td>0.181</td>\n",
       "      <td>0.558</td>\n",
       "      <td>12.8</td>\n",
       "      <td>74.0</td>\n",
       "      <td>0.216</td>\n",
       "    </tr>\n",
       "    <tr>\n",
       "      <th>29</th>\n",
       "      <td>2024</td>\n",
       "      <td>CHA</td>\n",
       "      <td>25.1</td>\n",
       "      <td>21.0</td>\n",
       "      <td>61.0</td>\n",
       "      <td>18</td>\n",
       "      <td>64</td>\n",
       "      <td>-10.24</td>\n",
       "      <td>0.13</td>\n",
       "      <td>-10.12</td>\n",
       "      <td>...</td>\n",
       "      <td>0.391</td>\n",
       "      <td>0.560</td>\n",
       "      <td>0.529</td>\n",
       "      <td>12.6</td>\n",
       "      <td>21.1</td>\n",
       "      <td>0.167</td>\n",
       "      <td>0.572</td>\n",
       "      <td>12.3</td>\n",
       "      <td>74.5</td>\n",
       "      <td>0.188</td>\n",
       "    </tr>\n",
       "  </tbody>\n",
       "</table>\n",
       "<p>30 rows × 25 columns</p>\n",
       "</div>"
      ],
      "text/plain": [
       "    Year Team   Age     W     L  PW  PL    MOV   SOS    SRS  ...   3PAr  \\\n",
       "0   2024  BOS  28.2  64.0  18.0  66  16  11.34 -0.60  10.75  ...  0.471   \n",
       "1   2024  OKC  23.4  57.0  25.0  58  24   7.41 -0.05   7.36  ...  0.383   \n",
       "2   2024  MIN  27.2  56.0  26.0  57  25   6.45 -0.07   6.39  ...  0.384   \n",
       "3   2024  DEN  27.1  57.0  25.0  54  28   5.26 -0.03   5.23  ...  0.352   \n",
       "4   2024  NYK  26.4  50.0  32.0  53  29   4.59 -0.23   4.36  ...  0.404   \n",
       "5   2024  NOP  26.0  49.0  33.0  52  30   4.41  0.05   4.46  ...  0.373   \n",
       "6   2024  LAC  30.4  51.0  31.0  49  33   3.28  0.13   3.41  ...  0.383   \n",
       "7   2024  PHI  28.4  47.0  35.0  49  33   3.05 -0.54   2.51  ...  0.373   \n",
       "8   2024  PHX  29.3  49.0  33.0  49  33   3.06  0.02   3.08  ...  0.378   \n",
       "9   2024  IND  25.3  47.0  35.0  48  34   3.05 -0.30   2.75  ...  0.380   \n",
       "10  2024  GSW  28.4  46.0  36.0  47  35   2.61  0.16   2.77  ...  0.425   \n",
       "11  2024  MIL  30.2  49.0  33.0  47  35   2.62 -0.18   2.44  ...  0.430   \n",
       "12  2024  CLE  26.2  48.0  34.0  47  35   2.41 -0.44   1.98  ...  0.422   \n",
       "13  2024  DAL  26.5  50.0  32.0  46  36   2.21  0.09   2.30  ...  0.441   \n",
       "14  2024  ORL  24.0  47.0  35.0  46  36   2.02 -0.55   1.48  ...  0.369   \n",
       "15  2024  MIA  28.0  46.0  36.0  46  36   1.76 -0.66   1.10  ...  0.394   \n",
       "16  2024  SAC  26.4  46.0  36.0  45  37   1.74  0.55   2.29  ...  0.432   \n",
       "17  2024  HOU  25.1  41.0  41.0  44  38   1.12  0.12   1.24  ...  0.397   \n",
       "18  2024  LAL  28.0  47.0  35.0  42  40   0.60  0.48   1.07  ...  0.358   \n",
       "19  2024  CHI  28.1  39.0  43.0  37  45  -1.44 -0.33  -1.77  ...  0.358   \n",
       "20  2024  ATL  26.2  36.0  46.0  36  46  -2.18 -0.19  -2.38  ...  0.408   \n",
       "21  2024  BKN  26.1  32.0  50.0  34  48  -2.89 -0.13  -3.02  ...  0.412   \n",
       "22  2024  UTA  25.1  31.0  51.0  29  53  -4.89  0.68  -4.22  ...  0.406   \n",
       "23  2024  SAS  23.0  22.0  60.0  26  56  -6.49  0.69  -5.80  ...  0.401   \n",
       "24  2024  TOR  25.9  25.0  57.0  26  56  -6.44 -0.01  -6.45  ...  0.369   \n",
       "25  2024  MEM  24.4  27.0  55.0  24  58  -7.00  0.43  -6.57  ...  0.428   \n",
       "26  2024  DET  23.8  14.0  68.0  20  62  -9.11  0.05  -9.06  ...  0.360   \n",
       "27  2024  WAS  24.9  15.0  67.0  20  62  -9.29  0.00  -9.29  ...  0.389   \n",
       "28  2024  POR  24.1  21.0  61.0  20  62  -9.02  0.74  -8.29  ...  0.370   \n",
       "29  2024  CHA  25.1  21.0  61.0  18  64 -10.24  0.13 -10.12  ...  0.391   \n",
       "\n",
       "      TS%   eFG%  TOV%  ORB%  FT/FGA  eFG%.1  TOV%.1  DRB%  FT/FGA.1  \n",
       "0   0.609  0.578  10.8  24.9   0.180   0.523    10.8  76.3     0.145  \n",
       "1   0.608  0.573  11.4  21.1   0.198   0.530    13.6  73.8     0.202  \n",
       "2   0.594  0.559  13.0  23.2   0.209   0.515    12.9  76.9     0.197  \n",
       "3   0.589  0.562  11.5  25.5   0.170   0.526    11.2  75.6     0.195  \n",
       "4   0.574  0.540  11.9  29.4   0.192   0.543    12.3  76.1     0.176  \n",
       "5   0.591  0.558  11.8  24.4   0.202   0.541    12.9  76.9     0.186  \n",
       "6   0.599  0.561  12.0  24.4   0.211   0.541    11.7  74.8     0.183  \n",
       "7   0.574  0.532  10.7  24.8   0.218   0.537    13.1  74.3     0.215  \n",
       "8   0.603  0.565  13.4  25.0   0.219   0.536    11.3  75.6     0.178  \n",
       "9   0.606  0.578  11.3  23.8   0.173   0.556    12.1  74.1     0.228  \n",
       "10  0.586  0.557  12.5  27.5   0.171   0.539    11.5  76.1     0.195  \n",
       "11  0.601  0.568  11.5  21.8   0.209   0.539    10.6  77.2     0.189  \n",
       "12  0.586  0.557  12.4  23.2   0.179   0.535    12.3  76.9     0.190  \n",
       "13  0.592  0.562  11.2  22.2   0.190   0.548    12.1  75.2     0.184  \n",
       "14  0.577  0.541  13.3  25.3   0.218   0.543    13.8  78.1     0.206  \n",
       "15  0.578  0.538  11.7  21.8   0.210   0.543    12.7  78.1     0.174  \n",
       "16  0.582  0.556  11.6  24.5   0.171   0.555    12.5  78.4     0.213  \n",
       "17  0.565  0.529  11.2  25.1   0.199   0.533    12.2  76.0     0.219  \n",
       "18  0.601  0.566  12.5  19.9   0.216   0.550    11.7  76.2     0.153  \n",
       "19  0.568  0.534  11.0  25.1   0.187   0.556    12.7  76.4     0.195  \n",
       "20  0.576  0.539  11.6  27.1   0.200   0.572    12.4  75.2     0.192  \n",
       "21  0.561  0.531  11.8  25.2   0.177   0.543    11.4  76.0     0.193  \n",
       "22  0.579  0.539  13.6  28.1   0.209   0.567    10.9  75.2     0.182  \n",
       "23  0.563  0.532  13.2  22.9   0.172   0.555    11.7  76.4     0.174  \n",
       "24  0.566  0.535  12.4  24.2   0.182   0.566    12.2  73.9     0.172  \n",
       "25  0.543  0.509  13.4  23.8   0.182   0.551    13.5  74.8     0.195  \n",
       "26  0.562  0.526  13.5  23.9   0.193   0.558    11.1  77.3     0.221  \n",
       "27  0.567  0.538  12.2  20.0   0.169   0.562    12.0  72.5     0.201  \n",
       "28  0.539  0.503  13.4  27.5   0.181   0.558    12.8  74.0     0.216  \n",
       "29  0.560  0.529  12.6  21.1   0.167   0.572    12.3  74.5     0.188  \n",
       "\n",
       "[30 rows x 25 columns]"
      ]
     },
     "execution_count": 5,
     "metadata": {},
     "output_type": "execute_result"
    }
   ],
   "source": [
    "#clean the team data\n",
    "def clean_team_data(team_df):\n",
    "    \"\"\" Cleans a seasonal team dataframe\n",
    "    \n",
    "    Args:\n",
    "        team_df (df): The team dataframe we will be cleaning\n",
    "\n",
    "    Returns:\n",
    "        clean_df (df): the cleaned team dataframe\n",
    "    \"\"\"\n",
    "    # get rid of random columns\n",
    "    for series_name, series in team_df.items():\n",
    "        if \"Unnamed\" in series_name:\n",
    "            del team_df[series_name]\n",
    "\n",
    "    #remove unimportant data\n",
    "    clean_df = team_df.iloc[:-1,:-3]\n",
    "\n",
    "\n",
    "    #remove * in team names\n",
    "    clean_df['Team'] = clean_df['Team'].str.replace('*', '', regex=False)\n",
    "        \n",
    "\n",
    "    #Abbrieviate team names\n",
    "    team_abbreviations = {\n",
    "        'Atlanta Hawks': 'ATL',\n",
    "        'Boston Celtics': 'BOS',\n",
    "        'Brooklyn Nets': 'BKN',\n",
    "        'Charlotte Hornets': 'CHA',\n",
    "        'Chicago Bulls': 'CHI',\n",
    "        'Cleveland Cavaliers': 'CLE',\n",
    "        'Dallas Mavericks': 'DAL',\n",
    "        'Denver Nuggets': 'DEN',\n",
    "        'Detroit Pistons': 'DET',\n",
    "        'Golden State Warriors': 'GSW',\n",
    "        'Houston Rockets': 'HOU',\n",
    "        'Indiana Pacers': 'IND',\n",
    "        'Los Angeles Clippers': 'LAC',\n",
    "        'Los Angeles Lakers': 'LAL',\n",
    "        'Memphis Grizzlies': 'MEM',\n",
    "        'Miami Heat': 'MIA',\n",
    "        'Milwaukee Bucks': 'MIL',\n",
    "        'Minnesota Timberwolves': 'MIN',\n",
    "        'New Orleans Pelicans': 'NOP',\n",
    "        'New York Knicks': 'NYK',\n",
    "        'Oklahoma City Thunder': 'OKC',\n",
    "        'Orlando Magic': 'ORL',\n",
    "        'Philadelphia 76ers': 'PHI',\n",
    "        'Phoenix Suns': 'PHX',\n",
    "        'Portland Trail Blazers': 'POR',\n",
    "        'Sacramento Kings': 'SAC',\n",
    "        'San Antonio Spurs': 'SAS',\n",
    "        'Toronto Raptors': 'TOR',\n",
    "        'Utah Jazz': 'UTA',\n",
    "        'Washington Wizards': 'WAS'\n",
    "    }\n",
    "\n",
    "    clean_df['Team'] = clean_df['Team'].replace(team_abbreviations)\n",
    "\n",
    "    return clean_df\n",
    "\n",
    "clean_df = clean_team_data(team_df)\n",
    "clean_df\n"
   ]
  },
  {
   "cell_type": "code",
   "execution_count": 6,
   "metadata": {},
   "outputs": [
    {
     "data": {
      "text/html": [
       "<div>\n",
       "<style scoped>\n",
       "    .dataframe tbody tr th:only-of-type {\n",
       "        vertical-align: middle;\n",
       "    }\n",
       "\n",
       "    .dataframe tbody tr th {\n",
       "        vertical-align: top;\n",
       "    }\n",
       "\n",
       "    .dataframe thead th {\n",
       "        text-align: right;\n",
       "    }\n",
       "</style>\n",
       "<table border=\"1\" class=\"dataframe\">\n",
       "  <thead>\n",
       "    <tr style=\"text-align: right;\">\n",
       "      <th></th>\n",
       "      <th>Year</th>\n",
       "      <th>Team</th>\n",
       "      <th>Age</th>\n",
       "      <th>W</th>\n",
       "      <th>L</th>\n",
       "      <th>PW</th>\n",
       "      <th>PL</th>\n",
       "      <th>MOV</th>\n",
       "      <th>SOS</th>\n",
       "      <th>SRS</th>\n",
       "      <th>...</th>\n",
       "      <th>3PAr</th>\n",
       "      <th>TS%</th>\n",
       "      <th>eFG%</th>\n",
       "      <th>TOV%</th>\n",
       "      <th>ORB%</th>\n",
       "      <th>FT/FGA</th>\n",
       "      <th>eFG%.1</th>\n",
       "      <th>TOV%.1</th>\n",
       "      <th>DRB%</th>\n",
       "      <th>FT/FGA.1</th>\n",
       "    </tr>\n",
       "  </thead>\n",
       "  <tbody>\n",
       "    <tr>\n",
       "      <th>0</th>\n",
       "      <td>2024</td>\n",
       "      <td>BOS</td>\n",
       "      <td>28.2</td>\n",
       "      <td>64.0</td>\n",
       "      <td>18.0</td>\n",
       "      <td>66</td>\n",
       "      <td>16</td>\n",
       "      <td>11.34</td>\n",
       "      <td>-0.60</td>\n",
       "      <td>10.75</td>\n",
       "      <td>...</td>\n",
       "      <td>0.471</td>\n",
       "      <td>0.609</td>\n",
       "      <td>0.578</td>\n",
       "      <td>10.8</td>\n",
       "      <td>24.9</td>\n",
       "      <td>0.180</td>\n",
       "      <td>0.523</td>\n",
       "      <td>10.8</td>\n",
       "      <td>76.3</td>\n",
       "      <td>0.145</td>\n",
       "    </tr>\n",
       "    <tr>\n",
       "      <th>1</th>\n",
       "      <td>2024</td>\n",
       "      <td>OKC</td>\n",
       "      <td>23.4</td>\n",
       "      <td>57.0</td>\n",
       "      <td>25.0</td>\n",
       "      <td>58</td>\n",
       "      <td>24</td>\n",
       "      <td>7.41</td>\n",
       "      <td>-0.05</td>\n",
       "      <td>7.36</td>\n",
       "      <td>...</td>\n",
       "      <td>0.383</td>\n",
       "      <td>0.608</td>\n",
       "      <td>0.573</td>\n",
       "      <td>11.4</td>\n",
       "      <td>21.1</td>\n",
       "      <td>0.198</td>\n",
       "      <td>0.530</td>\n",
       "      <td>13.6</td>\n",
       "      <td>73.8</td>\n",
       "      <td>0.202</td>\n",
       "    </tr>\n",
       "    <tr>\n",
       "      <th>2</th>\n",
       "      <td>2024</td>\n",
       "      <td>MIN</td>\n",
       "      <td>27.2</td>\n",
       "      <td>56.0</td>\n",
       "      <td>26.0</td>\n",
       "      <td>57</td>\n",
       "      <td>25</td>\n",
       "      <td>6.45</td>\n",
       "      <td>-0.07</td>\n",
       "      <td>6.39</td>\n",
       "      <td>...</td>\n",
       "      <td>0.384</td>\n",
       "      <td>0.594</td>\n",
       "      <td>0.559</td>\n",
       "      <td>13.0</td>\n",
       "      <td>23.2</td>\n",
       "      <td>0.209</td>\n",
       "      <td>0.515</td>\n",
       "      <td>12.9</td>\n",
       "      <td>76.9</td>\n",
       "      <td>0.197</td>\n",
       "    </tr>\n",
       "    <tr>\n",
       "      <th>3</th>\n",
       "      <td>2024</td>\n",
       "      <td>DEN</td>\n",
       "      <td>27.1</td>\n",
       "      <td>57.0</td>\n",
       "      <td>25.0</td>\n",
       "      <td>54</td>\n",
       "      <td>28</td>\n",
       "      <td>5.26</td>\n",
       "      <td>-0.03</td>\n",
       "      <td>5.23</td>\n",
       "      <td>...</td>\n",
       "      <td>0.352</td>\n",
       "      <td>0.589</td>\n",
       "      <td>0.562</td>\n",
       "      <td>11.5</td>\n",
       "      <td>25.5</td>\n",
       "      <td>0.170</td>\n",
       "      <td>0.526</td>\n",
       "      <td>11.2</td>\n",
       "      <td>75.6</td>\n",
       "      <td>0.195</td>\n",
       "    </tr>\n",
       "    <tr>\n",
       "      <th>4</th>\n",
       "      <td>2024</td>\n",
       "      <td>NYK</td>\n",
       "      <td>26.4</td>\n",
       "      <td>50.0</td>\n",
       "      <td>32.0</td>\n",
       "      <td>53</td>\n",
       "      <td>29</td>\n",
       "      <td>4.59</td>\n",
       "      <td>-0.23</td>\n",
       "      <td>4.36</td>\n",
       "      <td>...</td>\n",
       "      <td>0.404</td>\n",
       "      <td>0.574</td>\n",
       "      <td>0.540</td>\n",
       "      <td>11.9</td>\n",
       "      <td>29.4</td>\n",
       "      <td>0.192</td>\n",
       "      <td>0.543</td>\n",
       "      <td>12.3</td>\n",
       "      <td>76.1</td>\n",
       "      <td>0.176</td>\n",
       "    </tr>\n",
       "    <tr>\n",
       "      <th>...</th>\n",
       "      <td>...</td>\n",
       "      <td>...</td>\n",
       "      <td>...</td>\n",
       "      <td>...</td>\n",
       "      <td>...</td>\n",
       "      <td>...</td>\n",
       "      <td>...</td>\n",
       "      <td>...</td>\n",
       "      <td>...</td>\n",
       "      <td>...</td>\n",
       "      <td>...</td>\n",
       "      <td>...</td>\n",
       "      <td>...</td>\n",
       "      <td>...</td>\n",
       "      <td>...</td>\n",
       "      <td>...</td>\n",
       "      <td>...</td>\n",
       "      <td>...</td>\n",
       "      <td>...</td>\n",
       "      <td>...</td>\n",
       "      <td>...</td>\n",
       "    </tr>\n",
       "    <tr>\n",
       "      <th>25</th>\n",
       "      <td>2016</td>\n",
       "      <td>MIL</td>\n",
       "      <td>23.5</td>\n",
       "      <td>33.0</td>\n",
       "      <td>49.0</td>\n",
       "      <td>29</td>\n",
       "      <td>53</td>\n",
       "      <td>-4.18</td>\n",
       "      <td>0.20</td>\n",
       "      <td>-3.98</td>\n",
       "      <td>...</td>\n",
       "      <td>0.189</td>\n",
       "      <td>0.537</td>\n",
       "      <td>0.499</td>\n",
       "      <td>14.2</td>\n",
       "      <td>24.9</td>\n",
       "      <td>0.207</td>\n",
       "      <td>0.510</td>\n",
       "      <td>14.2</td>\n",
       "      <td>73.1</td>\n",
       "      <td>0.221</td>\n",
       "    </tr>\n",
       "    <tr>\n",
       "      <th>26</th>\n",
       "      <td>2016</td>\n",
       "      <td>PHX</td>\n",
       "      <td>26.0</td>\n",
       "      <td>23.0</td>\n",
       "      <td>59.0</td>\n",
       "      <td>24</td>\n",
       "      <td>58</td>\n",
       "      <td>-6.66</td>\n",
       "      <td>0.34</td>\n",
       "      <td>-6.32</td>\n",
       "      <td>...</td>\n",
       "      <td>0.302</td>\n",
       "      <td>0.526</td>\n",
       "      <td>0.487</td>\n",
       "      <td>15.2</td>\n",
       "      <td>25.4</td>\n",
       "      <td>0.204</td>\n",
       "      <td>0.523</td>\n",
       "      <td>13.5</td>\n",
       "      <td>77.1</td>\n",
       "      <td>0.237</td>\n",
       "    </tr>\n",
       "    <tr>\n",
       "      <th>27</th>\n",
       "      <td>2016</td>\n",
       "      <td>BKN</td>\n",
       "      <td>26.9</td>\n",
       "      <td>21.0</td>\n",
       "      <td>61.0</td>\n",
       "      <td>22</td>\n",
       "      <td>60</td>\n",
       "      <td>-7.35</td>\n",
       "      <td>0.24</td>\n",
       "      <td>-7.12</td>\n",
       "      <td>...</td>\n",
       "      <td>0.218</td>\n",
       "      <td>0.527</td>\n",
       "      <td>0.492</td>\n",
       "      <td>13.6</td>\n",
       "      <td>24.1</td>\n",
       "      <td>0.186</td>\n",
       "      <td>0.534</td>\n",
       "      <td>13.1</td>\n",
       "      <td>75.7</td>\n",
       "      <td>0.176</td>\n",
       "    </tr>\n",
       "    <tr>\n",
       "      <th>28</th>\n",
       "      <td>2016</td>\n",
       "      <td>LAL</td>\n",
       "      <td>26.5</td>\n",
       "      <td>17.0</td>\n",
       "      <td>65.0</td>\n",
       "      <td>17</td>\n",
       "      <td>65</td>\n",
       "      <td>-9.56</td>\n",
       "      <td>0.64</td>\n",
       "      <td>-8.92</td>\n",
       "      <td>...</td>\n",
       "      <td>0.290</td>\n",
       "      <td>0.509</td>\n",
       "      <td>0.460</td>\n",
       "      <td>12.5</td>\n",
       "      <td>23.1</td>\n",
       "      <td>0.228</td>\n",
       "      <td>0.523</td>\n",
       "      <td>11.6</td>\n",
       "      <td>74.7</td>\n",
       "      <td>0.202</td>\n",
       "    </tr>\n",
       "    <tr>\n",
       "      <th>29</th>\n",
       "      <td>2016</td>\n",
       "      <td>PHI</td>\n",
       "      <td>23.3</td>\n",
       "      <td>10.0</td>\n",
       "      <td>72.0</td>\n",
       "      <td>16</td>\n",
       "      <td>66</td>\n",
       "      <td>-10.23</td>\n",
       "      <td>0.31</td>\n",
       "      <td>-9.92</td>\n",
       "      <td>...</td>\n",
       "      <td>0.327</td>\n",
       "      <td>0.519</td>\n",
       "      <td>0.487</td>\n",
       "      <td>14.8</td>\n",
       "      <td>20.6</td>\n",
       "      <td>0.186</td>\n",
       "      <td>0.510</td>\n",
       "      <td>13.5</td>\n",
       "      <td>74.0</td>\n",
       "      <td>0.240</td>\n",
       "    </tr>\n",
       "  </tbody>\n",
       "</table>\n",
       "<p>270 rows × 25 columns</p>\n",
       "</div>"
      ],
      "text/plain": [
       "    Year Team   Age     W     L  PW  PL    MOV   SOS    SRS  ...   3PAr  \\\n",
       "0   2024  BOS  28.2  64.0  18.0  66  16  11.34 -0.60  10.75  ...  0.471   \n",
       "1   2024  OKC  23.4  57.0  25.0  58  24   7.41 -0.05   7.36  ...  0.383   \n",
       "2   2024  MIN  27.2  56.0  26.0  57  25   6.45 -0.07   6.39  ...  0.384   \n",
       "3   2024  DEN  27.1  57.0  25.0  54  28   5.26 -0.03   5.23  ...  0.352   \n",
       "4   2024  NYK  26.4  50.0  32.0  53  29   4.59 -0.23   4.36  ...  0.404   \n",
       "..   ...  ...   ...   ...   ...  ..  ..    ...   ...    ...  ...    ...   \n",
       "25  2016  MIL  23.5  33.0  49.0  29  53  -4.18  0.20  -3.98  ...  0.189   \n",
       "26  2016  PHX  26.0  23.0  59.0  24  58  -6.66  0.34  -6.32  ...  0.302   \n",
       "27  2016  BKN  26.9  21.0  61.0  22  60  -7.35  0.24  -7.12  ...  0.218   \n",
       "28  2016  LAL  26.5  17.0  65.0  17  65  -9.56  0.64  -8.92  ...  0.290   \n",
       "29  2016  PHI  23.3  10.0  72.0  16  66 -10.23  0.31  -9.92  ...  0.327   \n",
       "\n",
       "      TS%   eFG%  TOV%  ORB%  FT/FGA  eFG%.1  TOV%.1  DRB%  FT/FGA.1  \n",
       "0   0.609  0.578  10.8  24.9   0.180   0.523    10.8  76.3     0.145  \n",
       "1   0.608  0.573  11.4  21.1   0.198   0.530    13.6  73.8     0.202  \n",
       "2   0.594  0.559  13.0  23.2   0.209   0.515    12.9  76.9     0.197  \n",
       "3   0.589  0.562  11.5  25.5   0.170   0.526    11.2  75.6     0.195  \n",
       "4   0.574  0.540  11.9  29.4   0.192   0.543    12.3  76.1     0.176  \n",
       "..    ...    ...   ...   ...     ...     ...     ...   ...       ...  \n",
       "25  0.537  0.499  14.2  24.9   0.207   0.510    14.2  73.1     0.221  \n",
       "26  0.526  0.487  15.2  25.4   0.204   0.523    13.5  77.1     0.237  \n",
       "27  0.527  0.492  13.6  24.1   0.186   0.534    13.1  75.7     0.176  \n",
       "28  0.509  0.460  12.5  23.1   0.228   0.523    11.6  74.7     0.202  \n",
       "29  0.519  0.487  14.8  20.6   0.186   0.510    13.5  74.0     0.240  \n",
       "\n",
       "[270 rows x 25 columns]"
      ]
     },
     "execution_count": 6,
     "metadata": {},
     "output_type": "execute_result"
    }
   ],
   "source": [
    "def all_time_data():\n",
    "    \"\"\" Gets team data for all years (1947-2024)\n",
    "\n",
    "    Returns:\n",
    "        historical_df (df): historical team data\n",
    "    \"\"\"\n",
    "    historical_df = pd.DataFrame()\n",
    "\n",
    "    for yr in range(2024,2015,-1):\n",
    "        year_df = clean_team_data(get_seasonal_team_data(yr))\n",
    "        historical_df = pd.concat([historical_df,year_df])\n",
    "\n",
    "    return historical_df\n",
    "\n",
    "df = all_time_data()\n",
    "df\n"
   ]
  },
  {
   "cell_type": "code",
   "execution_count": 7,
   "metadata": {},
   "outputs": [
    {
     "data": {
      "application/vnd.plotly.v1+json": {
       "config": {
        "plotlyServerURL": "https://plot.ly"
       },
       "data": [
        {
         "hovertemplate": "Player: %{text}<br>FG%: %{x}<br>Games Played: %{y}<extra></extra>",
         "marker": {
          "color": "blue",
          "size": 10
         },
         "mode": "markers",
         "name": "Players",
         "text": [
          "Joel Embiid",
          "Luka Dončić",
          "Giannis Antetokounmpo",
          "Shai Gilgeous-Alexander",
          "Jalen Brunson",
          "Devin Booker",
          "Kevin Durant",
          "Jayson Tatum",
          "De'Aaron Fox",
          "Donovan Mitchell",
          "Stephen Curry",
          "Nikola Jokić",
          "Anthony Edwards",
          "Tyrese Maxey",
          "LeBron James",
          "Trae Young",
          "Kyrie Irving",
          "Ja Morant",
          "Anthony Davis",
          "Damian Lillard",
          "DeMar DeRozan",
          "Julius Randle",
          "LaMelo Ball",
          "Desmond Bane",
          "Kawhi Leonard",
          "Lauri Markkanen",
          "Jaylen Brown",
          "Zion Williamson",
          "Cade Cunningham",
          "Paolo Banchero",
          "Paul George",
          "Anfernee Simons",
          "Jaren Jackson Jr.",
          "Dejounte Murray",
          "Cam Thomas",
          "Kyle Kuzma",
          "Karl-Anthony Towns",
          "Pascal Siakam",
          "Pascal Siakam",
          "Pascal Siakam",
          "Victor Wembanyama",
          "Jamal Murray",
          "Alperen Sengun",
          "Miles Bridges",
          "Jerami Grant",
          "Jimmy Butler",
          "Tyler Herro",
          "Brandon Ingram",
          "RJ Barrett",
          "RJ Barrett",
          "RJ Barrett",
          "Tyrese Haliburton",
          "Kristaps Porziņģis",
          "CJ McCollum",
          "Scottie Barnes",
          "Terry Rozier",
          "Terry Rozier",
          "Terry Rozier",
          "Franz Wagner",
          "Mikal Bridges",
          "Jalen Green",
          "Zach LaVine",
          "Devin Vassell",
          "Domantas Sabonis",
          "Bam Adebayo",
          "Coby White",
          "Jalen Williams",
          "Collin Sexton",
          "Bradley Beal",
          "Darius Garland",
          "D'Angelo Russell",
          "Nikola Vučević",
          "Klay Thompson",
          "Jordan Poole",
          "Fred VanVleet",
          "Brandon Miller",
          "Tobias Harris",
          "Jordan Clarkson",
          "Myles Turner",
          "Immanuel Quickley",
          "Immanuel Quickley",
          "Immanuel Quickley",
          "Bogdan Bogdanović",
          "Deandre Ayton",
          "Michael Porter Jr.",
          "James Harden",
          "Jarrett Allen",
          "Chet Holmgren",
          "Jonathan Kuminga",
          "Jalen Johnson",
          "Austin Reaves",
          "Shaedon Sharpe",
          "Malcolm Brogdon",
          "Keldon Johnson",
          "Evan Mobley",
          "De'Andre Hunter",
          "Donte DiVincenzo",
          "Jaden Ivey",
          "Malik Monk",
          "Kelly Oubre Jr.",
          "Bojan Bogdanović",
          "Bojan Bogdanović",
          "Bojan Bogdanović",
          "Keegan Murray",
          "Derrick White",
          "John Collins",
          "Khris Middleton",
          "Trey Murphy III",
          "OG Anunoby",
          "OG Anunoby",
          "OG Anunoby",
          "Deni Avdija",
          "GG Jackson II",
          "Bennedict Mathurin",
          "Marcus Smart",
          "Tim Hardaway Jr.",
          "Dennis Schröder",
          "Dennis Schröder",
          "Dennis Schröder",
          "Rudy Gobert",
          "Scoot Henderson",
          "Caris LeVert",
          "Aaron Gordon",
          "Norman Powell",
          "Jalen Duren",
          "Bobby Portis",
          "Saddiq Bey",
          "Jabari Smith Jr.",
          "Gary Trent Jr.",
          "Rui Hachimura",
          "Grayson Allen",
          "Naz Reid",
          "Cameron Johnson",
          "Corey Kispert",
          "Andrew Wiggins",
          "Keyonte George",
          "P.J. Washington",
          "P.J. Washington",
          "P.J. Washington",
          "Scotty Pippen Jr.",
          "Duncan Robinson",
          "Dillon Brooks",
          "Mark Williams",
          "Jalen Suggs",
          "Jrue Holiday",
          "Brook Lopez",
          "Josh Giddey",
          "Cam Whitmore",
          "Harrison Barnes",
          "Ayo Dosunmu",
          "Javonte Green",
          "Aaron Nesmith",
          "Max Strus",
          "Jonas Valančiūnas",
          "Buddy Hield",
          "Buddy Hield",
          "Buddy Hield",
          "Tyus Jones",
          "Jaime Jaquez Jr.",
          "Nic Claxton",
          "Marvin Bagley III",
          "Marvin Bagley III",
          "Marvin Bagley III",
          "Ivica Zubac",
          "Cole Anthony",
          "Jeremy Sochan",
          "Clint Capela",
          "Mike Conley",
          "Malik Beasley",
          "Brandon Clarke",
          "Zach Collins",
          "De'Anthony Melton",
          "Jakob Poeltl",
          "Russell Westbrook",
          "Daniel Gafford",
          "Daniel Gafford",
          "Daniel Gafford",
          "Wendell Carter Jr.",
          "Eric Gordon",
          "Herbert Jones",
          "Luke Kennard",
          "Luguentz Dort",
          "Jusuf Nurkić",
          "Isaiah Stewart",
          "Moritz Wagner",
          "Bruce Brown",
          "Bruce Brown",
          "Bruce Brown",
          "Jake LaRavia",
          "Santi Aldama",
          "Simone Fontecchio",
          "Simone Fontecchio",
          "Simone Fontecchio",
          "Spencer Dinwiddie",
          "Spencer Dinwiddie",
          "Spencer Dinwiddie",
          "Jaden McDaniels",
          "Alec Burks",
          "Alec Burks",
          "Alec Burks",
          "Dalano Banton",
          "Dalano Banton",
          "Dalano Banton",
          "Grant Williams",
          "Grant Williams",
          "Grant Williams",
          "Obi Toppin",
          "Kevin Huerter",
          "Reggie Jackson",
          "T.J. McConnell",
          "Onyeka Okongwu",
          "Kentavious Caldwell-Pope",
          "Alex Caruso",
          "Talen Horton-Tucker",
          "Tre Jones",
          "Caleb Martin",
          "Patrick Williams",
          "Vince Williams Jr.",
          "Josh Richardson",
          "Jalen Smith",
          "Gordon Hayward",
          "Gordon Hayward",
          "Gordon Hayward",
          "Kelly Olynyk",
          "Kelly Olynyk",
          "Kelly Olynyk",
          "Tari Eason",
          "Nick Richards",
          "Lonnie Walker IV",
          "Payton Pritchard",
          "Amen Thompson",
          "Josh Hart",
          "Georges Niang",
          "Isaac Okoro",
          "Tre Mann",
          "Tre Mann",
          "Tre Mann",
          "Malaki Branham",
          "Andrew Nembhard",
          "Chris Paul",
          "Brandin Podziemski",
          "Duop Reath",
          "Sam Hauser",
          "Taurean Prince",
          "Jabari Walker",
          "Dereck Lively II",
          "Kevin Love",
          "Terance Mann",
          "Ausar Thompson",
          "Draymond Green",
          "Al Horford",
          "Derrick Jones Jr.",
          "Gradey Dick",
          "Dorian Finney-Smith",
          "Tristan Vukcevic",
          "Bilal Coulibaly",
          "Andre Drummond",
          "Miles McBride",
          "Marcus Sasser",
          "Josh Green",
          "Isaiah Joe",
          "Ziaire Williams",
          "Kyle Lowry",
          "Kyle Lowry",
          "Kyle Lowry",
          "Walker Kessler",
          "Moses Moody",
          "Nickeil Alexander-Walker",
          "Sam Merrill",
          "Derrick Rose",
          "Dario Šarić",
          "Trayce Jackson-Davis",
          "Dante Exum",
          "Markelle Fultz",
          "Isaiah Hartenstein",
          "Jordan Hawkins",
          "Royce O'Neale",
          "Royce O'Neale",
          "Royce O'Neale",
          "RaiQuan Gray",
          "Nikola Jović",
          "Precious Achiuwa",
          "Precious Achiuwa",
          "Precious Achiuwa",
          "Toumani Camara",
          "Cody Martin",
          "Brice Sensabaugh",
          "Cameron Payne",
          "Cameron Payne",
          "Cameron Payne",
          "Christian Braun",
          "Jaden Hardy",
          "Taylor Hendricks",
          "Paul Reed",
          "Lamar Stevens",
          "Lamar Stevens",
          "Lamar Stevens",
          "Johnny Juzang",
          "Kevin Knox",
          "Trey Lyles",
          "Jose Alvarado",
          "Naji Marshall",
          "Landry Shamet",
          "James Wiseman",
          "Vasilije Micić",
          "Vasilije Micić",
          "Vasilije Micić",
          "Jordan Nwora",
          "Jordan Nwora",
          "Jordan Nwora",
          "Quentin Grimes",
          "Quentin Grimes",
          "Quentin Grimes",
          "Javon Freeman-Liberty",
          "Evan Fournier",
          "Evan Fournier",
          "Evan Fournier",
          "Gary Harris",
          "Killian Hayes",
          "Bones Hyland",
          "Mãozinha Pereira",
          "Trendon Watford",
          "Aaron Wiggins",
          "Christian Wood",
          "Trey Jemison",
          "Trey Jemison",
          "Trey Jemison",
          "Julian Champagnie",
          "Jonathan Isaac",
          "Cedi Osman",
          "Day'Ron Sharpe",
          "Cason Wallace",
          "Robert Williams",
          "Dāvis Bertāns",
          "Dāvis Bertāns",
          "Dāvis Bertāns",
          "Jahmi'us Ramsey",
          "Peyton Watson",
          "Amir Coffey",
          "Aaron Holiday",
          "Dennis Smith Jr.",
          "Chimezie Metu",
          "Chimezie Metu",
          "Chimezie Metu",
          "Jordan Goodwin",
          "Jordan Goodwin",
          "Jordan Goodwin",
          "David Roddy",
          "David Roddy",
          "David Roddy",
          "David Duke Jr.",
          "Jeff Green",
          "Isaiah Jackson",
          "Marcus Morris",
          "Marcus Morris",
          "Marcus Morris",
          "Kyle Anderson",
          "Chris Boucher",
          "Jared Butler",
          "Bruno Fernando",
          "Daniel Theis",
          "Daniel Theis",
          "Daniel Theis",
          "Jaylen Nowell",
          "Jaylen Nowell",
          "Jaylen Nowell",
          "Patrick Beverley",
          "Patrick Beverley",
          "Patrick Beverley",
          "Jae Crowder",
          "Keon Johnson",
          "Haywood Highsmith",
          "Vit Krejci",
          "Kris Murray",
          "Ben Simmons",
          "Zavier Simpson",
          "Tosan Evbuomwan",
          "Tosan Evbuomwan",
          "Tosan Evbuomwan",
          "Justin Champagnie",
          "Nick Smith Jr.",
          "Ochai Agbaji",
          "Ochai Agbaji",
          "Ochai Agbaji",
          "Noah Clowney",
          "Dyson Daniels",
          "Danilo Gallinari",
          "Danilo Gallinari",
          "Danilo Gallinari",
          "Danilo Gallinari",
          "Thomas Bryant",
          "Torrey Craig",
          "Larry Nance Jr.",
          "Pat Connaughton",
          "Craig Porter Jr.",
          "Mitchell Robinson",
          "Malachi Flynn",
          "Malachi Flynn",
          "Malachi Flynn",
          "Malachi Flynn",
          "Doug McDermott",
          "Doug McDermott",
          "Doug McDermott",
          "Dexter Dennis",
          "Gary Payton II",
          "Neemias Queta",
          "Ricky Council IV",
          "Kris Dunn",
          "Keon Ellis",
          "Cam Reddish",
          "Matt Ryan",
          "Matisse Thybulle",
          "Sasha Vezenkov",
          "Dean Wade",
          "Darius Bazley",
          "Darius Bazley",
          "Darius Bazley",
          "Xavier Tillman Sr.",
          "Xavier Tillman Sr.",
          "Xavier Tillman Sr.",
          "Nicolas Batum",
          "Nicolas Batum",
          "Nicolas Batum",
          "Luke Kornet",
          "Davion Mitchell",
          "Mason Plumlee",
          "Stanley Umude",
          "Aleksej Pokusevski",
          "Aleksej Pokusevski",
          "Aleksej Pokusevski",
          "Bol Bol",
          "Brandon Boston Jr.",
          "Jarred Vanderbilt",
          "Seth Curry",
          "Seth Curry",
          "Seth Curry",
          "Drew Eubanks",
          "Bryce McGowens",
          "Richaun Holmes",
          "Richaun Holmes",
          "Richaun Holmes",
          "Monte Morris",
          "Monte Morris",
          "Monte Morris",
          "Goga Bitadze",
          "Jevon Carter",
          "Devonte' Graham",
          "Isaiah Livers",
          "Kobi Simmons",
          "D.J. Wilson",
          "Jalen Wilson",
          "Jock Landale",
          "Garrison Mathews",
          "Jared Rhoden",
          "Kobe Bufkin",
          "DeJon Jarreau",
          "Eugene Omoruyi",
          "Kenrich Williams",
          "Kenneth Lofton Jr.",
          "Kenneth Lofton Jr.",
          "Kenneth Lofton Jr.",
          "Kenneth Lofton Jr.",
          "Anthony Black",
          "Josh Okogie",
          "Omer Yurtseven",
          "Shake Milton",
          "Shake Milton",
          "Shake Milton",
          "Shake Milton",
          "Delon Wright",
          "Delon Wright",
          "Delon Wright",
          "A.J. Green",
          "Kevon Looney",
          "Taze Moore",
          "Julian Strawther",
          "Bismack Biyombo",
          "Bismack Biyombo",
          "Bismack Biyombo",
          "Robert Covington",
          "Robert Covington",
          "Robert Covington",
          "Patrick Baldwin Jr.",
          "Mo Bamba",
          "Dominick Barlow",
          "MarJon Beauchamp",
          "Joe Ingles",
          "Maxi Kleber",
          "Jontay Porter",
          "Lester Quiñones",
          "Ben Sheppard",
          "Blake Wesley",
          "Jeff Dowtin",
          "Jaxson Hayes",
          "Caleb Houstan",
          "John Konchar",
          "Dru Smith",
          "Thaddeus Young",
          "Thaddeus Young",
          "Thaddeus Young",
          "Jacob Gilyard",
          "Jacob Gilyard",
          "Jacob Gilyard",
          "Armoni Brooks",
          "Troy Brown Jr.",
          "Troy Brown Jr.",
          "Troy Brown Jr.",
          "Max Christie",
          "Ashton Hagans",
          "Danuel House Jr.",
          "Skylar Mays",
          "Skylar Mays",
          "Skylar Mays",
          "Sandro Mamukelashvili",
          "Luka Šamanić",
          "Jae'Sean Tate",
          "Patty Mills",
          "Patty Mills",
          "Patty Mills",
          "Izaiah Brockington",
          "Ousmane Dieng",
          "Luka Garza",
          "Mouhamed Gueye",
          "Justin Holiday",
          "Matthew Hurt",
          "JaVale McGee",
          "Svi Mykhailiuk",
          "Rayan Rupert",
          "Adama Sanogo",
          "Jaylin Williams",
          "Jules Bernard",
          "Chris Duarte",
          "DeAndre Jordan",
          "Sidy Cissoko",
          "Anthony Gill",
          "KJ Martin",
          "KJ Martin",
          "KJ Martin",
          "Keita Bates-Diop",
          "Keita Bates-Diop",
          "Keita Bates-Diop",
          "Oshae Brissett",
          "Jamal Cain",
          "Drew Peterson",
          "T.J. Warren",
          "James Bouknight",
          "Collin Gillespie",
          "Gui Santos",
          "Jarace Walker",
          "Lindy Waters III",
          "Théo Maledon",
          "Théo Maledon",
          "Théo Maledon",
          "Onuralp Bitim",
          "Jordan McLaughlin",
          "Marques Bolden",
          "Marques Bolden",
          "Marques Bolden",
          "Ryan Rollins",
          "Ryan Rollins",
          "Ryan Rollins",
          "Yuta Watanabe",
          "Yuta Watanabe",
          "Yuta Watanabe",
          "Buddy Boeheim",
          "Moses Brown",
          "Wenyen Gabriel",
          "Nassir Little",
          "Jalen McDaniels",
          "Jaden Springer",
          "Jaden Springer",
          "Jaden Springer",
          "Charles Bassey",
          "Micah Potter",
          "Dwight Powell",
          "Terquavion Smith",
          "Garrett Temple",
          "Tristan Thompson",
          "Oscar Tshiebwe",
          "Kira Lewis Jr.",
          "Kira Lewis Jr.",
          "Kira Lewis Jr.",
          "Kira Lewis Jr.",
          "A.J. Lawson",
          "Boban Marjanović",
          "Zeke Nnaji",
          "Ish Smith",
          "JT Thor",
          "Brandon Williams",
          "Wesley Matthews",
          "Dalen Terry",
          "Gabe Vincent",
          "Mike Muscala",
          "Mike Muscala",
          "Mike Muscala",
          "Mike Muscala",
          "Johnny Davis",
          "Saben Lee",
          "Olivier-Maxence Prosper",
          "Trevelin Queen",
          "Jeremiah Robinson-Earl",
          "Jeenathan Williams",
          "D.J. Carton",
          "Henri Drell",
          "Orlando Robinson",
          "Emoni Bates",
          "Leaky Black",
          "Damian Jones",
          "Malik Williams",
          "Timmy Allen",
          "Moussa Diabaté",
          "Otto Porter Jr.",
          "Alex Fudge",
          "Alex Fudge",
          "Alex Fudge",
          "Dylan Windler",
          "Dylan Windler",
          "Dylan Windler",
          "Dylan Windler",
          "Greg Brown III",
          "Furkan Korkmaz",
          "Alex Len",
          "Markieff Morris",
          "Harry Giles",
          "Harry Giles",
          "Harry Giles",
          "AJ Griffin",
          "Mouhamadou Gueye",
          "Joe Harris",
          "Cory Joseph",
          "Xavier Moon",
          "Jamaree Bouyea",
          "Jamaree Bouyea",
          "Jamaree Bouyea",
          "Amari Bailey",
          "Isaiah Mobley",
          "Chuma Okeke",
          "Olivier Sarr",
          "Dereon Seabron",
          "Cole Swider",
          "Udoka Azubuike",
          "Reggie Bullock",
          "Trent Forrest",
          "Nate Hinton",
          "Andre Jackson Jr.",
          "Julian Phillips",
          "Ish Wainright",
          "Ish Wainright",
          "Ish Wainright",
          "Colby Jones",
          "Mamadi Diakite",
          "Mamadi Diakite",
          "Mamadi Diakite",
          "Kobe Brown",
          "JD Davison",
          "Jordan Ford",
          "Kevon Harris",
          "D'Moi Hodge",
          "Ty Jerome",
          "Markquis Nowell",
          "Jericho Sims",
          "Lindell Wigginton",
          "Isaiah Wong",
          "Justin Minaya",
          "Daishen Nix",
          "Cody Zeller",
          "Taj Gibson",
          "Taj Gibson",
          "Taj Gibson",
          "P.J. Tucker",
          "P.J. Tucker",
          "P.J. Tucker",
          "Kessler Edwards",
          "Leonard Miller",
          "Jason Preston",
          "Jordan Walsh",
          "Jalen Hood-Schifino",
          "Jett Howard",
          "Seth Lundy",
          "Jordan Miller",
          "Josh Minott",
          "Jalen Pickett",
          "Ibou Badji",
          "Colin Castleton",
          "Adam Flagler",
          "Dariq Whitehead",
          "Terry Taylor",
          "Jack White",
          "Kendall Brown",
          "Mason Jones",
          "Jerome Robinson",
          "Jermaine Samuels",
          "Jacob Toppin",
          "R.J. Hampton",
          "Nathan Mensah",
          "Isaiah Thomas",
          "TyTy Washington Jr.",
          "Jay Huff",
          "Keyontae Johnson",
          "Chris Livingston",
          "Braxton Key",
          "Robin Lopez",
          "Admiral Schofield",
          "Hunter Tyson",
          "Filip Petrušev",
          "Filip Petrušev",
          "Filip Petrušev",
          "Hamidou Diallo",
          "Frank Ntilikina",
          "Joshua Primo",
          "Thanasis Antetokounmpo",
          "James Johnson",
          "Charlie Brown Jr.",
          "DaQuan Jeffries",
          "Shaquille Harrison",
          "Quenton Jackson",
          "Wendell Moore Jr.",
          "Jalen Slawson",
          "Pat Spencer",
          "Alondes Williams",
          "Juan Toscano-Anderson",
          "Usman Garuba",
          "E.J. Liddell",
          "Pete Nance",
          "Maxwell Lewis",
          "Ryan Arcidiacono",
          "Malcolm Cazalon",
          "Jalen Crutcher",
          "Andrew Funk",
          "Kaiser Gates",
          "Danny Green",
          "Ron Harper Jr.",
          "Justin Jackson",
          "Dmytro Skapintsev",
          "Javonte Smart"
         ],
         "type": "scatter",
         "x": [
          0.529,
          0.487,
          0.611,
          0.535,
          0.479,
          0.492,
          0.523,
          0.471,
          0.465,
          0.462,
          0.45,
          0.583,
          0.461,
          0.45,
          0.54,
          0.43,
          0.497,
          0.471,
          0.556,
          0.424,
          0.48,
          0.472,
          0.433,
          0.464,
          0.525,
          0.48,
          0.499,
          0.57,
          0.449,
          0.455,
          0.471,
          0.43,
          0.444,
          0.459,
          0.442,
          0.463,
          0.504,
          0.536,
          0.522,
          0.549,
          0.465,
          0.481,
          0.537,
          0.462,
          0.451,
          0.499,
          0.441,
          0.492,
          0.495,
          0.423,
          0.553,
          0.477,
          0.516,
          0.459,
          0.475,
          0.443,
          0.459,
          0.423,
          0.482,
          0.436,
          0.423,
          0.452,
          0.472,
          0.594,
          0.521,
          0.447,
          0.54,
          0.487,
          0.513,
          0.446,
          0.456,
          0.484,
          0.432,
          0.413,
          0.416,
          0.44,
          0.487,
          0.413,
          0.524,
          0.434,
          0.454,
          0.422,
          0.428,
          0.57,
          0.484,
          0.428,
          0.634,
          0.53,
          0.529,
          0.511,
          0.486,
          0.406,
          0.44,
          0.454,
          0.58,
          0.459,
          0.443,
          0.429,
          0.443,
          0.441,
          0.454,
          0.468,
          0.43,
          0.454,
          0.461,
          0.532,
          0.493,
          0.443,
          0.489,
          0.489,
          0.488,
          0.506,
          0.428,
          0.446,
          0.43,
          0.402,
          0.435,
          0.442,
          0.424,
          0.661,
          0.385,
          0.421,
          0.556,
          0.486,
          0.619,
          0.508,
          0.416,
          0.454,
          0.426,
          0.537,
          0.499,
          0.477,
          0.446,
          0.486,
          0.453,
          0.391,
          0.436,
          0.446,
          0.421,
          0.493,
          0.45,
          0.428,
          0.649,
          0.471,
          0.48,
          0.485,
          0.475,
          0.454,
          0.474,
          0.501,
          0.6,
          0.496,
          0.418,
          0.559,
          0.436,
          0.443,
          0.426,
          0.489,
          0.489,
          0.629,
          0.586,
          0.591,
          0.581,
          0.649,
          0.435,
          0.438,
          0.571,
          0.457,
          0.443,
          0.559,
          0.484,
          0.386,
          0.656,
          0.454,
          0.725,
          0.69,
          0.78,
          0.525,
          0.443,
          0.498,
          0.448,
          0.438,
          0.51,
          0.487,
          0.601,
          0.478,
          0.475,
          0.481,
          0.389,
          0.435,
          0.46,
          0.45,
          0.479,
          0.392,
          0.391,
          0.397,
          0.489,
          0.369,
          0.394,
          0.307,
          0.404,
          0.373,
          0.408,
          0.456,
          0.413,
          0.503,
          0.573,
          0.443,
          0.431,
          0.556,
          0.611,
          0.46,
          0.468,
          0.396,
          0.505,
          0.431,
          0.443,
          0.446,
          0.444,
          0.592,
          0.464,
          0.468,
          0.453,
          0.555,
          0.562,
          0.548,
          0.466,
          0.691,
          0.423,
          0.468,
          0.536,
          0.434,
          0.449,
          0.49,
          0.459,
          0.5,
          0.453,
          0.432,
          0.498,
          0.441,
          0.454,
          0.461,
          0.446,
          0.442,
          0.46,
          0.747,
          0.44,
          0.515,
          0.483,
          0.497,
          0.511,
          0.483,
          0.425,
          0.421,
          0.433,
          0.435,
          0.556,
          0.452,
          0.428,
          0.479,
          0.458,
          0.397,
          0.432,
          0.426,
          0.444,
          0.654,
          0.462,
          0.439,
          0.402,
          0.461,
          0.466,
          0.702,
          0.533,
          0.472,
          0.644,
          0.382,
          0.397,
          0.388,
          0.411,
          0.588,
          0.452,
          0.501,
          0.459,
          0.525,
          0.45,
          0.381,
          0.39,
          0.432,
          0.455,
          0.413,
          0.46,
          0.407,
          0.45,
          0.54,
          0.45,
          0.467,
          0.446,
          0.464,
          0.462,
          0.445,
          0.412,
          0.463,
          0.431,
          0.613,
          0.43,
          0.407,
          0.437,
          0.462,
          0.451,
          0.465,
          0.372,
          0.395,
          0.214,
          0.444,
          0.357,
          0.2,
          0.373,
          0.441,
          0.413,
          0.386,
          0.514,
          0.527,
          0.562,
          0.466,
          0.551,
          null,
          0.551,
          0.408,
          0.51,
          0.479,
          0.571,
          0.491,
          0.654,
          0.393,
          0.385,
          0.394,
          0.439,
          0.465,
          0.472,
          0.446,
          0.435,
          0.504,
          0.508,
          0.5,
          0.369,
          0.389,
          0.349,
          0.403,
          0.402,
          0.435,
          0.556,
          0.456,
          0.665,
          0.439,
          0.439,
          0.441,
          0.46,
          0.507,
          0.488,
          0.583,
          0.532,
          0.25,
          0.536,
          0.436,
          0.4,
          0.522,
          0.417,
          0.432,
          0.391,
          0.422,
          0.381,
          0.465,
          0.49,
          0.396,
          0.581,
          0.315,
          0.507,
          0.267,
          0.571,
          0.41,
          0.391,
          0.411,
          0.426,
          0.391,
          0.538,
          0.447,
          0.437,
          0.435,
          0.545,
          0.378,
          0.577,
          0.43,
          0.573,
          0.435,
          0.509,
          0.575,
          0.418,
          0.409,
          0.391,
          0.43,
          0.433,
          0.442,
          0.406,
          0.526,
          0.563,
          0.644,
          0.482,
          0.47,
          0.461,
          0.389,
          0.434,
          0.397,
          0.44,
          0.414,
          0.6,
          0,
          0.621,
          0.434,
          0.408,
          0.515,
          0.453,
          0.375,
          0.456,
          0.7,
          0.452,
          0.569,
          0.44,
          0.405,
          0.25,
          0.429,
          0.616,
          0.404,
          0.518,
          0.392,
          0.372,
          0.441,
          0.601,
          0.439,
          0.558,
          0.559,
          0.557,
          0.405,
          0.364,
          0.417,
          0.603,
          0.378,
          0.352,
          0.345,
          0.429,
          0.667,
          0.425,
          0.515,
          0.456,
          0.5,
          0.37,
          0.34,
          0.485,
          0.468,
          0.462,
          0.378,
          0.167,
          0.6,
          0.466,
          0.417,
          0.538,
          0.405,
          0.4,
          0.423,
          0.444,
          0.394,
          0.393,
          0.394,
          0.423,
          0.597,
          0.421,
          0.369,
          0.565,
          0.563,
          0.583,
          0.439,
          0.333,
          0.449,
          0.381,
          0.49,
          0.496,
          0.488,
          0.436,
          0.432,
          0.385,
          0.397,
          0.393,
          0.474,
          0.556,
          0.72,
          0.388,
          0.423,
          0.455,
          0.602,
          0.621,
          0.524,
          0.4,
          0.417,
          0,
          0.326,
          0.372,
          0.441,
          0.296,
          0.427,
          0.408,
          0.448,
          0.396,
          0.384,
          0.476,
          0.471,
          0.38,
          0.472,
          0.351,
          0.373,
          0.338,
          0.4,
          0.422,
          0.48,
          0.348,
          0.454,
          0.353,
          0.598,
          0.416,
          0.335,
          0.519,
          0.417,
          0.453,
          0.381,
          0.624,
          0.485,
          0.469,
          0.536,
          0.4,
          0.544,
          0.434,
          0.427,
          0.5,
          0.444,
          0.43,
          0.667,
          0.439,
          0.439,
          0.464,
          0.509,
          0.409,
          0.471,
          0.286,
          0.288,
          0.25,
          0.381,
          0.483,
          0.68,
          null,
          0.68,
          0.519,
          0.52,
          0.5,
          0.353,
          0.361,
          0.316,
          0.31,
          0.508,
          0.364,
          0.46,
          0.344,
          0.399,
          0.39,
          0.433,
          0.725,
          0.475,
          0.679,
          0.391,
          0.372,
          0.608,
          0.5,
          0.37,
          0.308,
          null,
          0.45,
          0.446,
          0.529,
          0.463,
          0.418,
          0.437,
          0.37,
          0.351,
          0.439,
          0.306,
          0.359,
          0.367,
          0.341,
          0.364,
          0.403,
          0.364,
          0.385,
          0.368,
          0.474,
          0.54,
          0.375,
          0.4,
          0.5,
          0.306,
          0.481,
          0.597,
          0.265,
          0.261,
          0.526,
          0.424,
          0.4,
          0.167,
          0.556,
          0.5,
          0.5,
          0.444,
          0.526,
          0.455,
          0.395,
          0.617,
          0.338,
          0.46,
          0.5,
          0.167,
          0.29,
          0.289,
          0.359,
          0.359,
          0.326,
          0.357,
          0.238,
          0.714,
          0.333,
          0.417,
          0.357,
          0.579,
          0.308,
          0.395,
          0.696,
          0.415,
          0.378,
          0.423,
          0.5,
          0.416,
          0.292,
          0.333,
          0.167,
          0.394,
          0.667,
          0.8,
          0,
          0.411,
          0.417,
          0.571,
          0.667,
          0.333,
          0.5,
          0,
          0.691,
          0.4,
          0.333,
          0.297,
          0.375,
          0.419,
          0.405,
          0.304,
          0.571,
          0.36,
          0.4,
          0.356,
          0.415,
          0.65,
          0.316,
          0.4,
          0.222,
          0.333,
          0.235,
          0.556,
          0.472,
          0.429,
          0.636,
          0.563,
          0.143,
          0.2,
          0.513,
          0.125,
          0.533,
          0.25,
          0.333,
          0.643,
          0.556,
          0.286,
          0.429,
          0.3,
          0.3,
          0.6,
          0.313,
          0.5,
          0.412,
          0.368,
          0.385,
          0.4,
          0.5,
          null,
          0.5,
          0.5,
          0.111,
          0.333,
          0.533,
          0.3,
          0.2,
          0.353,
          0.5,
          0,
          0.5,
          0.667,
          0.5,
          0.25,
          0.25,
          0.167,
          0.167,
          0.167,
          0.19,
          0,
          null,
          0,
          0,
          0,
          0,
          null,
          null,
          0,
          null
         ],
         "y": [
          39,
          70,
          73,
          75,
          77,
          68,
          75,
          74,
          74,
          55,
          74,
          79,
          79,
          70,
          71,
          54,
          58,
          9,
          76,
          73,
          79,
          46,
          22,
          42,
          68,
          55,
          70,
          70,
          62,
          80,
          74,
          46,
          66,
          78,
          66,
          70,
          62,
          80,
          39,
          41,
          71,
          59,
          63,
          69,
          54,
          60,
          42,
          64,
          58,
          26,
          32,
          69,
          57,
          66,
          60,
          61,
          30,
          31,
          72,
          82,
          82,
          25,
          68,
          82,
          71,
          79,
          71,
          78,
          53,
          57,
          76,
          76,
          77,
          78,
          73,
          74,
          70,
          55,
          77,
          68,
          30,
          38,
          79,
          55,
          81,
          72,
          77,
          82,
          74,
          56,
          82,
          32,
          39,
          69,
          50,
          57,
          81,
          77,
          72,
          68,
          57,
          28,
          29,
          77,
          73,
          68,
          55,
          57,
          50,
          27,
          23,
          75,
          48,
          59,
          20,
          79,
          80,
          51,
          29,
          76,
          62,
          68,
          73,
          76,
          61,
          82,
          63,
          76,
          71,
          68,
          75,
          81,
          58,
          80,
          71,
          75,
          73,
          44,
          29,
          21,
          68,
          72,
          19,
          75,
          69,
          79,
          80,
          47,
          82,
          76,
          9,
          72,
          70,
          82,
          84,
          52,
          32,
          66,
          75,
          71,
          50,
          26,
          24,
          68,
          81,
          74,
          73,
          76,
          79,
          6,
          69,
          38,
          50,
          68,
          74,
          45,
          29,
          55,
          68,
          76,
          39,
          79,
          76,
          46,
          80,
          67,
          33,
          34,
          35,
          61,
          66,
          50,
          16,
          76,
          48,
          28,
          72,
          66,
          43,
          23,
          54,
          24,
          30,
          76,
          47,
          29,
          82,
          64,
          82,
          71,
          55,
          76,
          71,
          51,
          77,
          64,
          43,
          52,
          43,
          61,
          51,
          25,
          26,
          78,
          50,
          28,
          22,
          67,
          58,
          82,
          62,
          81,
          82,
          69,
          41,
          13,
          28,
          75,
          68,
          58,
          74,
          68,
          79,
          78,
          72,
          55,
          55,
          75,
          63,
          55,
          65,
          76,
          60,
          68,
          10,
          63,
          79,
          68,
          71,
          57,
          78,
          51,
          60,
          37,
          23,
          64,
          66,
          82,
          61,
          24,
          64,
          68,
          55,
          43,
          75,
          67,
          79,
          49,
          30,
          3,
          46,
          74,
          25,
          49,
          70,
          28,
          32,
          78,
          47,
          31,
          82,
          73,
          40,
          82,
          38,
          19,
          19,
          20,
          31,
          58,
          56,
          66,
          46,
          63,
          60,
          30,
          30,
          52,
          18,
          34,
          51,
          45,
          6,
          22,
          32,
          3,
          29,
          54,
          42,
          37,
          7,
          63,
          78,
          50,
          25,
          2,
          23,
          74,
          58,
          72,
          61,
          82,
          6,
          43,
          15,
          28,
          7,
          80,
          70,
          78,
          56,
          51,
          37,
          14,
          57,
          40,
          17,
          65,
          48,
          17,
          4,
          78,
          59,
          49,
          37,
          12,
          79,
          50,
          40,
          45,
          60,
          1,
          59,
          13,
          9,
          4,
          73,
          47,
          26,
          50,
          5,
          66,
          22,
          62,
          15,
          7,
          17,
          4,
          13,
          15,
          51,
          78,
          51,
          27,
          23,
          61,
          49,
          26,
          6,
          17,
          38,
          53,
          61,
          76,
          51,
          31,
          69,
          31,
          14,
          24,
          64,
          46,
          18,
          4,
          44,
          28,
          32,
          66,
          57,
          48,
          28,
          65,
          42,
          54,
          9,
          3,
          6,
          54,
          34,
          20,
          60,
          3,
          57,
          63,
          72,
          46,
          24,
          28,
          10,
          18,
          43,
          32,
          29,
          44,
          36,
          8,
          75,
          59,
          40,
          23,
          17,
          33,
          6,
          27,
          62,
          72,
          23,
          23,
          4,
          2,
          43,
          56,
          66,
          17,
          17,
          9,
          43,
          69,
          21,
          15,
          2,
          4,
          69,
          60,
          48,
          48,
          38,
          4,
          6,
          47,
          33,
          14,
          56,
          74,
          4,
          50,
          40,
          30,
          10,
          29,
          3,
          26,
          38,
          57,
          33,
          48,
          68,
          43,
          26,
          37,
          57,
          61,
          12,
          70,
          59,
          55,
          9,
          33,
          23,
          10,
          41,
          37,
          4,
          10,
          59,
          37,
          22,
          67,
          19,
          34,
          38,
          21,
          17,
          46,
          43,
          65,
          32,
          19,
          13,
          1,
          33,
          25,
          6,
          58,
          8,
          46,
          41,
          39,
          9,
          69,
          19,
          59,
          36,
          12,
          50,
          60,
          2,
          58,
          53,
          39,
          14,
          55,
          26,
          3,
          11,
          14,
          24,
          23,
          33,
          38,
          17,
          13,
          4,
          23,
          56,
          11,
          2,
          9,
          13,
          10,
          3,
          34,
          29,
          5,
          10,
          22,
          5,
          45,
          50,
          49,
          32,
          17,
          19,
          16,
          63,
          16,
          27,
          49,
          8,
          28,
          15,
          1,
          12,
          42,
          14,
          58,
          43,
          63,
          17,
          36,
          59,
          11,
          53,
          24,
          13,
          16,
          50,
          24,
          40,
          14,
          39,
          22,
          4,
          4,
          36,
          15,
          26,
          39,
          7,
          5,
          11,
          15,
          6,
          4,
          2,
          17,
          3,
          8,
          6,
          6,
          35,
          48,
          26,
          23,
          16,
          7,
          20,
          11,
          16,
          26,
          14,
          9,
          6,
          3,
          10,
          10,
          47,
          15,
          6,
          18,
          16,
          44,
          38,
          15,
          57,
          40,
          11,
          7,
          4,
          30,
          6,
          3,
          3,
          44,
          8,
          6,
          2,
          7,
          2,
          1,
          45,
          3,
          1,
          34,
          15,
          43,
          20,
          16,
          4,
          31,
          3,
          28,
          54,
          17,
          7,
          9,
          21,
          18,
          9,
          8,
          32,
          27,
          22,
          16,
          2,
          2,
          31,
          4,
          15,
          5,
          22,
          14,
          9,
          8,
          25,
          6,
          11,
          20,
          9,
          21,
          20,
          16,
          23,
          18,
          3,
          1,
          2,
          2,
          5,
          2,
          34,
          9,
          8,
          17,
          3,
          3,
          25,
          12,
          6,
          7,
          11,
          6,
          8,
          8,
          34,
          20,
          1,
          1,
          5,
          1,
          2,
          1,
          2,
          2,
          1
         ]
        },
        {
         "hovertemplate": "Team: %{text}<br>FG%: %{x}<br>Games Played: %{y}<extra></extra>",
         "marker": {
          "color": "red",
          "size": 12,
          "symbol": "diamond"
         },
         "mode": "markers",
         "name": "Teams",
         "text": [
          "BOS",
          "OKC",
          "MIN",
          "DEN",
          "NYK",
          "NOP",
          "LAC",
          "PHI",
          "PHX",
          "IND",
          "GSW",
          "MIL",
          "CLE",
          "DAL",
          "ORL",
          "MIA",
          "SAC",
          "HOU",
          "LAL",
          "CHI",
          "ATL",
          "BKN",
          "UTA",
          "SAS",
          "TOR",
          "MEM",
          "DET",
          "WAS",
          "POR",
          "CHA"
         ],
         "type": "scatter",
         "x": [
          0.578,
          0.573,
          0.559,
          0.562,
          0.54,
          0.558,
          0.561,
          0.532,
          0.565,
          0.578,
          0.557,
          0.568,
          0.557,
          0.562,
          0.541,
          0.538,
          0.556,
          0.529,
          0.566,
          0.534,
          0.539,
          0.531,
          0.539,
          0.532,
          0.535,
          0.509,
          0.526,
          0.538,
          0.503,
          0.529
         ],
         "y": [
          64,
          57,
          56,
          57,
          50,
          49,
          51,
          47,
          49,
          47,
          46,
          49,
          48,
          50,
          47,
          46,
          46,
          41,
          47,
          39,
          36,
          32,
          31,
          22,
          25,
          27,
          14,
          15,
          21,
          21
         ]
        }
       ],
       "layout": {
        "height": 600,
        "legend": {
         "title": {
          "text": "Data Type"
         }
        },
        "template": {
         "data": {
          "bar": [
           {
            "error_x": {
             "color": "#2a3f5f"
            },
            "error_y": {
             "color": "#2a3f5f"
            },
            "marker": {
             "line": {
              "color": "#E5ECF6",
              "width": 0.5
             },
             "pattern": {
              "fillmode": "overlay",
              "size": 10,
              "solidity": 0.2
             }
            },
            "type": "bar"
           }
          ],
          "barpolar": [
           {
            "marker": {
             "line": {
              "color": "#E5ECF6",
              "width": 0.5
             },
             "pattern": {
              "fillmode": "overlay",
              "size": 10,
              "solidity": 0.2
             }
            },
            "type": "barpolar"
           }
          ],
          "carpet": [
           {
            "aaxis": {
             "endlinecolor": "#2a3f5f",
             "gridcolor": "white",
             "linecolor": "white",
             "minorgridcolor": "white",
             "startlinecolor": "#2a3f5f"
            },
            "baxis": {
             "endlinecolor": "#2a3f5f",
             "gridcolor": "white",
             "linecolor": "white",
             "minorgridcolor": "white",
             "startlinecolor": "#2a3f5f"
            },
            "type": "carpet"
           }
          ],
          "choropleth": [
           {
            "colorbar": {
             "outlinewidth": 0,
             "ticks": ""
            },
            "type": "choropleth"
           }
          ],
          "contour": [
           {
            "colorbar": {
             "outlinewidth": 0,
             "ticks": ""
            },
            "colorscale": [
             [
              0,
              "#0d0887"
             ],
             [
              0.1111111111111111,
              "#46039f"
             ],
             [
              0.2222222222222222,
              "#7201a8"
             ],
             [
              0.3333333333333333,
              "#9c179e"
             ],
             [
              0.4444444444444444,
              "#bd3786"
             ],
             [
              0.5555555555555556,
              "#d8576b"
             ],
             [
              0.6666666666666666,
              "#ed7953"
             ],
             [
              0.7777777777777778,
              "#fb9f3a"
             ],
             [
              0.8888888888888888,
              "#fdca26"
             ],
             [
              1,
              "#f0f921"
             ]
            ],
            "type": "contour"
           }
          ],
          "contourcarpet": [
           {
            "colorbar": {
             "outlinewidth": 0,
             "ticks": ""
            },
            "type": "contourcarpet"
           }
          ],
          "heatmap": [
           {
            "colorbar": {
             "outlinewidth": 0,
             "ticks": ""
            },
            "colorscale": [
             [
              0,
              "#0d0887"
             ],
             [
              0.1111111111111111,
              "#46039f"
             ],
             [
              0.2222222222222222,
              "#7201a8"
             ],
             [
              0.3333333333333333,
              "#9c179e"
             ],
             [
              0.4444444444444444,
              "#bd3786"
             ],
             [
              0.5555555555555556,
              "#d8576b"
             ],
             [
              0.6666666666666666,
              "#ed7953"
             ],
             [
              0.7777777777777778,
              "#fb9f3a"
             ],
             [
              0.8888888888888888,
              "#fdca26"
             ],
             [
              1,
              "#f0f921"
             ]
            ],
            "type": "heatmap"
           }
          ],
          "heatmapgl": [
           {
            "colorbar": {
             "outlinewidth": 0,
             "ticks": ""
            },
            "colorscale": [
             [
              0,
              "#0d0887"
             ],
             [
              0.1111111111111111,
              "#46039f"
             ],
             [
              0.2222222222222222,
              "#7201a8"
             ],
             [
              0.3333333333333333,
              "#9c179e"
             ],
             [
              0.4444444444444444,
              "#bd3786"
             ],
             [
              0.5555555555555556,
              "#d8576b"
             ],
             [
              0.6666666666666666,
              "#ed7953"
             ],
             [
              0.7777777777777778,
              "#fb9f3a"
             ],
             [
              0.8888888888888888,
              "#fdca26"
             ],
             [
              1,
              "#f0f921"
             ]
            ],
            "type": "heatmapgl"
           }
          ],
          "histogram": [
           {
            "marker": {
             "pattern": {
              "fillmode": "overlay",
              "size": 10,
              "solidity": 0.2
             }
            },
            "type": "histogram"
           }
          ],
          "histogram2d": [
           {
            "colorbar": {
             "outlinewidth": 0,
             "ticks": ""
            },
            "colorscale": [
             [
              0,
              "#0d0887"
             ],
             [
              0.1111111111111111,
              "#46039f"
             ],
             [
              0.2222222222222222,
              "#7201a8"
             ],
             [
              0.3333333333333333,
              "#9c179e"
             ],
             [
              0.4444444444444444,
              "#bd3786"
             ],
             [
              0.5555555555555556,
              "#d8576b"
             ],
             [
              0.6666666666666666,
              "#ed7953"
             ],
             [
              0.7777777777777778,
              "#fb9f3a"
             ],
             [
              0.8888888888888888,
              "#fdca26"
             ],
             [
              1,
              "#f0f921"
             ]
            ],
            "type": "histogram2d"
           }
          ],
          "histogram2dcontour": [
           {
            "colorbar": {
             "outlinewidth": 0,
             "ticks": ""
            },
            "colorscale": [
             [
              0,
              "#0d0887"
             ],
             [
              0.1111111111111111,
              "#46039f"
             ],
             [
              0.2222222222222222,
              "#7201a8"
             ],
             [
              0.3333333333333333,
              "#9c179e"
             ],
             [
              0.4444444444444444,
              "#bd3786"
             ],
             [
              0.5555555555555556,
              "#d8576b"
             ],
             [
              0.6666666666666666,
              "#ed7953"
             ],
             [
              0.7777777777777778,
              "#fb9f3a"
             ],
             [
              0.8888888888888888,
              "#fdca26"
             ],
             [
              1,
              "#f0f921"
             ]
            ],
            "type": "histogram2dcontour"
           }
          ],
          "mesh3d": [
           {
            "colorbar": {
             "outlinewidth": 0,
             "ticks": ""
            },
            "type": "mesh3d"
           }
          ],
          "parcoords": [
           {
            "line": {
             "colorbar": {
              "outlinewidth": 0,
              "ticks": ""
             }
            },
            "type": "parcoords"
           }
          ],
          "pie": [
           {
            "automargin": true,
            "type": "pie"
           }
          ],
          "scatter": [
           {
            "fillpattern": {
             "fillmode": "overlay",
             "size": 10,
             "solidity": 0.2
            },
            "type": "scatter"
           }
          ],
          "scatter3d": [
           {
            "line": {
             "colorbar": {
              "outlinewidth": 0,
              "ticks": ""
             }
            },
            "marker": {
             "colorbar": {
              "outlinewidth": 0,
              "ticks": ""
             }
            },
            "type": "scatter3d"
           }
          ],
          "scattercarpet": [
           {
            "marker": {
             "colorbar": {
              "outlinewidth": 0,
              "ticks": ""
             }
            },
            "type": "scattercarpet"
           }
          ],
          "scattergeo": [
           {
            "marker": {
             "colorbar": {
              "outlinewidth": 0,
              "ticks": ""
             }
            },
            "type": "scattergeo"
           }
          ],
          "scattergl": [
           {
            "marker": {
             "colorbar": {
              "outlinewidth": 0,
              "ticks": ""
             }
            },
            "type": "scattergl"
           }
          ],
          "scattermapbox": [
           {
            "marker": {
             "colorbar": {
              "outlinewidth": 0,
              "ticks": ""
             }
            },
            "type": "scattermapbox"
           }
          ],
          "scatterpolar": [
           {
            "marker": {
             "colorbar": {
              "outlinewidth": 0,
              "ticks": ""
             }
            },
            "type": "scatterpolar"
           }
          ],
          "scatterpolargl": [
           {
            "marker": {
             "colorbar": {
              "outlinewidth": 0,
              "ticks": ""
             }
            },
            "type": "scatterpolargl"
           }
          ],
          "scatterternary": [
           {
            "marker": {
             "colorbar": {
              "outlinewidth": 0,
              "ticks": ""
             }
            },
            "type": "scatterternary"
           }
          ],
          "surface": [
           {
            "colorbar": {
             "outlinewidth": 0,
             "ticks": ""
            },
            "colorscale": [
             [
              0,
              "#0d0887"
             ],
             [
              0.1111111111111111,
              "#46039f"
             ],
             [
              0.2222222222222222,
              "#7201a8"
             ],
             [
              0.3333333333333333,
              "#9c179e"
             ],
             [
              0.4444444444444444,
              "#bd3786"
             ],
             [
              0.5555555555555556,
              "#d8576b"
             ],
             [
              0.6666666666666666,
              "#ed7953"
             ],
             [
              0.7777777777777778,
              "#fb9f3a"
             ],
             [
              0.8888888888888888,
              "#fdca26"
             ],
             [
              1,
              "#f0f921"
             ]
            ],
            "type": "surface"
           }
          ],
          "table": [
           {
            "cells": {
             "fill": {
              "color": "#EBF0F8"
             },
             "line": {
              "color": "white"
             }
            },
            "header": {
             "fill": {
              "color": "#C8D4E3"
             },
             "line": {
              "color": "white"
             }
            },
            "type": "table"
           }
          ]
         },
         "layout": {
          "annotationdefaults": {
           "arrowcolor": "#2a3f5f",
           "arrowhead": 0,
           "arrowwidth": 1
          },
          "autotypenumbers": "strict",
          "coloraxis": {
           "colorbar": {
            "outlinewidth": 0,
            "ticks": ""
           }
          },
          "colorscale": {
           "diverging": [
            [
             0,
             "#8e0152"
            ],
            [
             0.1,
             "#c51b7d"
            ],
            [
             0.2,
             "#de77ae"
            ],
            [
             0.3,
             "#f1b6da"
            ],
            [
             0.4,
             "#fde0ef"
            ],
            [
             0.5,
             "#f7f7f7"
            ],
            [
             0.6,
             "#e6f5d0"
            ],
            [
             0.7,
             "#b8e186"
            ],
            [
             0.8,
             "#7fbc41"
            ],
            [
             0.9,
             "#4d9221"
            ],
            [
             1,
             "#276419"
            ]
           ],
           "sequential": [
            [
             0,
             "#0d0887"
            ],
            [
             0.1111111111111111,
             "#46039f"
            ],
            [
             0.2222222222222222,
             "#7201a8"
            ],
            [
             0.3333333333333333,
             "#9c179e"
            ],
            [
             0.4444444444444444,
             "#bd3786"
            ],
            [
             0.5555555555555556,
             "#d8576b"
            ],
            [
             0.6666666666666666,
             "#ed7953"
            ],
            [
             0.7777777777777778,
             "#fb9f3a"
            ],
            [
             0.8888888888888888,
             "#fdca26"
            ],
            [
             1,
             "#f0f921"
            ]
           ],
           "sequentialminus": [
            [
             0,
             "#0d0887"
            ],
            [
             0.1111111111111111,
             "#46039f"
            ],
            [
             0.2222222222222222,
             "#7201a8"
            ],
            [
             0.3333333333333333,
             "#9c179e"
            ],
            [
             0.4444444444444444,
             "#bd3786"
            ],
            [
             0.5555555555555556,
             "#d8576b"
            ],
            [
             0.6666666666666666,
             "#ed7953"
            ],
            [
             0.7777777777777778,
             "#fb9f3a"
            ],
            [
             0.8888888888888888,
             "#fdca26"
            ],
            [
             1,
             "#f0f921"
            ]
           ]
          },
          "colorway": [
           "#636efa",
           "#EF553B",
           "#00cc96",
           "#ab63fa",
           "#FFA15A",
           "#19d3f3",
           "#FF6692",
           "#B6E880",
           "#FF97FF",
           "#FECB52"
          ],
          "font": {
           "color": "#2a3f5f"
          },
          "geo": {
           "bgcolor": "white",
           "lakecolor": "white",
           "landcolor": "#E5ECF6",
           "showlakes": true,
           "showland": true,
           "subunitcolor": "white"
          },
          "hoverlabel": {
           "align": "left"
          },
          "hovermode": "closest",
          "mapbox": {
           "style": "light"
          },
          "paper_bgcolor": "white",
          "plot_bgcolor": "#E5ECF6",
          "polar": {
           "angularaxis": {
            "gridcolor": "white",
            "linecolor": "white",
            "ticks": ""
           },
           "bgcolor": "#E5ECF6",
           "radialaxis": {
            "gridcolor": "white",
            "linecolor": "white",
            "ticks": ""
           }
          },
          "scene": {
           "xaxis": {
            "backgroundcolor": "#E5ECF6",
            "gridcolor": "white",
            "gridwidth": 2,
            "linecolor": "white",
            "showbackground": true,
            "ticks": "",
            "zerolinecolor": "white"
           },
           "yaxis": {
            "backgroundcolor": "#E5ECF6",
            "gridcolor": "white",
            "gridwidth": 2,
            "linecolor": "white",
            "showbackground": true,
            "ticks": "",
            "zerolinecolor": "white"
           },
           "zaxis": {
            "backgroundcolor": "#E5ECF6",
            "gridcolor": "white",
            "gridwidth": 2,
            "linecolor": "white",
            "showbackground": true,
            "ticks": "",
            "zerolinecolor": "white"
           }
          },
          "shapedefaults": {
           "line": {
            "color": "#2a3f5f"
           }
          },
          "ternary": {
           "aaxis": {
            "gridcolor": "white",
            "linecolor": "white",
            "ticks": ""
           },
           "baxis": {
            "gridcolor": "white",
            "linecolor": "white",
            "ticks": ""
           },
           "bgcolor": "#E5ECF6",
           "caxis": {
            "gridcolor": "white",
            "linecolor": "white",
            "ticks": ""
           }
          },
          "title": {
           "x": 0.05
          },
          "xaxis": {
           "automargin": true,
           "gridcolor": "white",
           "linecolor": "white",
           "ticks": "",
           "title": {
            "standoff": 15
           },
           "zerolinecolor": "white",
           "zerolinewidth": 2
          },
          "yaxis": {
           "automargin": true,
           "gridcolor": "white",
           "linecolor": "white",
           "ticks": "",
           "title": {
            "standoff": 15
           },
           "zerolinecolor": "white",
           "zerolinewidth": 2
          }
         }
        },
        "title": {
         "text": "FG% vs Games Played (Players and Teams)"
        },
        "width": 800,
        "xaxis": {
         "title": {
          "text": "Field Goal Percentage (FG%)"
         }
        },
        "yaxis": {
         "title": {
          "text": "Games Played (G)"
         }
        }
       }
      }
     },
     "metadata": {},
     "output_type": "display_data"
    }
   ],
   "source": [
    "## Graphs\n",
    "import plotly.express as px\n",
    "import plotly.graph_objects as go\n",
    "\n",
    "# Gets the FG% and Games played (G) and the player names\n",
    "fg_percentages_1 = clean_player_df['FG%']\n",
    "games_played_1 = clean_player_df['G']\n",
    "player_names_1 = clean_player_df['Player']\n",
    "\n",
    "# Gets the eFG% and number of Wins and team names\n",
    "fg_percentages_2 = clean_df['eFG%']\n",
    "games_played_2 = clean_df['W']\n",
    "team_names_2 = clean_df['Team']\n",
    "\n",
    "# Plots the player data\n",
    "fig = go.Figure()\n",
    "fig.add_trace(go.Scatter(\n",
    "    x=fg_percentages_1, \n",
    "    y=games_played_1, \n",
    "    mode='markers', \n",
    "    name='Players',\n",
    "    marker=dict(color='blue', size=10),\n",
    "    text=player_names_1,  # Hover data for player names\n",
    "    hovertemplate='Player: %{text}<br>FG%: %{x}<br>Games Played: %{y}<extra></extra>'\n",
    "))\n",
    "\n",
    "# Plots the team data\n",
    "fig.add_trace(go.Scatter(\n",
    "    x=fg_percentages_2, \n",
    "    y=games_played_2, \n",
    "    mode='markers', \n",
    "    name='Teams',\n",
    "    marker=dict(color='red', size=12, symbol='diamond'),\n",
    "    text=team_names_2,  # Hover data for team names\n",
    "    hovertemplate='Team: %{text}<br>FG%: %{x}<br>Games Played: %{y}<extra></extra>'\n",
    "))\n",
    "\n",
    "# Creates the layout\n",
    "fig.update_layout(\n",
    "    title='FG% vs Games Played (Players and Teams)',\n",
    "    xaxis_title='Field Goal Percentage (FG%)',\n",
    "    yaxis_title='Games Played (G)',\n",
    "    legend_title='Data Type',\n",
    "    height=600,\n",
    "    width=800\n",
    ")\n",
    "\n",
    "# Shows the plot\n",
    "fig.show()"
   ]
  },
  {
   "cell_type": "code",
   "execution_count": 8,
   "metadata": {},
   "outputs": [
    {
     "data": {
      "application/vnd.plotly.v1+json": {
       "config": {
        "plotlyServerURL": "https://plot.ly"
       },
       "data": [
        {
         "customdata": [
          [
           2024
          ],
          [
           2024
          ],
          [
           2024
          ],
          [
           2024
          ],
          [
           2024
          ],
          [
           2024
          ],
          [
           2024
          ],
          [
           2024
          ],
          [
           2024
          ],
          [
           2024
          ],
          [
           2024
          ],
          [
           2024
          ],
          [
           2024
          ],
          [
           2024
          ],
          [
           2024
          ],
          [
           2024
          ],
          [
           2024
          ],
          [
           2024
          ],
          [
           2024
          ],
          [
           2024
          ],
          [
           2024
          ],
          [
           2024
          ],
          [
           2024
          ],
          [
           2024
          ],
          [
           2024
          ],
          [
           2024
          ],
          [
           2024
          ],
          [
           2024
          ],
          [
           2024
          ],
          [
           2024
          ],
          [
           2023
          ],
          [
           2023
          ],
          [
           2023
          ],
          [
           2023
          ],
          [
           2023
          ],
          [
           2023
          ],
          [
           2023
          ],
          [
           2023
          ],
          [
           2023
          ],
          [
           2023
          ],
          [
           2023
          ],
          [
           2023
          ],
          [
           2023
          ],
          [
           2023
          ],
          [
           2023
          ],
          [
           2023
          ],
          [
           2023
          ],
          [
           2023
          ],
          [
           2023
          ],
          [
           2023
          ],
          [
           2023
          ],
          [
           2023
          ],
          [
           2023
          ],
          [
           2023
          ],
          [
           2023
          ],
          [
           2023
          ],
          [
           2023
          ],
          [
           2023
          ],
          [
           2023
          ],
          [
           2023
          ],
          [
           2022
          ],
          [
           2022
          ],
          [
           2022
          ],
          [
           2022
          ],
          [
           2022
          ],
          [
           2022
          ],
          [
           2022
          ],
          [
           2022
          ],
          [
           2022
          ],
          [
           2022
          ],
          [
           2022
          ],
          [
           2022
          ],
          [
           2022
          ],
          [
           2022
          ],
          [
           2022
          ],
          [
           2022
          ],
          [
           2022
          ],
          [
           2022
          ],
          [
           2022
          ],
          [
           2022
          ],
          [
           2022
          ],
          [
           2022
          ],
          [
           2022
          ],
          [
           2022
          ],
          [
           2022
          ],
          [
           2022
          ],
          [
           2022
          ],
          [
           2022
          ],
          [
           2022
          ],
          [
           2022
          ],
          [
           2021
          ],
          [
           2021
          ],
          [
           2021
          ],
          [
           2021
          ],
          [
           2021
          ],
          [
           2021
          ],
          [
           2021
          ],
          [
           2021
          ],
          [
           2021
          ],
          [
           2021
          ],
          [
           2021
          ],
          [
           2021
          ],
          [
           2021
          ],
          [
           2021
          ],
          [
           2021
          ],
          [
           2021
          ],
          [
           2021
          ],
          [
           2021
          ],
          [
           2021
          ],
          [
           2021
          ],
          [
           2021
          ],
          [
           2021
          ],
          [
           2021
          ],
          [
           2021
          ],
          [
           2021
          ],
          [
           2021
          ],
          [
           2021
          ],
          [
           2021
          ],
          [
           2021
          ],
          [
           2021
          ],
          [
           2020
          ],
          [
           2020
          ],
          [
           2020
          ],
          [
           2020
          ],
          [
           2020
          ],
          [
           2020
          ],
          [
           2020
          ],
          [
           2020
          ],
          [
           2020
          ],
          [
           2020
          ],
          [
           2020
          ],
          [
           2020
          ],
          [
           2020
          ],
          [
           2020
          ],
          [
           2020
          ],
          [
           2020
          ],
          [
           2020
          ],
          [
           2020
          ],
          [
           2020
          ],
          [
           2020
          ],
          [
           2020
          ],
          [
           2020
          ],
          [
           2020
          ],
          [
           2020
          ],
          [
           2020
          ],
          [
           2020
          ],
          [
           2020
          ],
          [
           2020
          ],
          [
           2020
          ],
          [
           2020
          ],
          [
           2019
          ],
          [
           2019
          ],
          [
           2019
          ],
          [
           2019
          ],
          [
           2019
          ],
          [
           2019
          ],
          [
           2019
          ],
          [
           2019
          ],
          [
           2019
          ],
          [
           2019
          ],
          [
           2019
          ],
          [
           2019
          ],
          [
           2019
          ],
          [
           2019
          ],
          [
           2019
          ],
          [
           2019
          ],
          [
           2019
          ],
          [
           2019
          ],
          [
           2019
          ],
          [
           2019
          ],
          [
           2019
          ],
          [
           2019
          ],
          [
           2019
          ],
          [
           2019
          ],
          [
           2019
          ],
          [
           2019
          ],
          [
           2019
          ],
          [
           2019
          ],
          [
           2019
          ],
          [
           2019
          ],
          [
           2018
          ],
          [
           2018
          ],
          [
           2018
          ],
          [
           2018
          ],
          [
           2018
          ],
          [
           2018
          ],
          [
           2018
          ],
          [
           2018
          ],
          [
           2018
          ],
          [
           2018
          ],
          [
           2018
          ],
          [
           2018
          ],
          [
           2018
          ],
          [
           2018
          ],
          [
           2018
          ],
          [
           2018
          ],
          [
           2018
          ],
          [
           2018
          ],
          [
           2018
          ],
          [
           2018
          ],
          [
           2018
          ],
          [
           2018
          ],
          [
           2018
          ],
          [
           2018
          ],
          [
           2018
          ],
          [
           2018
          ],
          [
           2018
          ],
          [
           2018
          ],
          [
           2018
          ],
          [
           2018
          ],
          [
           2017
          ],
          [
           2017
          ],
          [
           2017
          ],
          [
           2017
          ],
          [
           2017
          ],
          [
           2017
          ],
          [
           2017
          ],
          [
           2017
          ],
          [
           2017
          ],
          [
           2017
          ],
          [
           2017
          ],
          [
           2017
          ],
          [
           2017
          ],
          [
           2017
          ],
          [
           2017
          ],
          [
           2017
          ],
          [
           2017
          ],
          [
           2017
          ],
          [
           2017
          ],
          [
           2017
          ],
          [
           2017
          ],
          [
           2017
          ],
          [
           2017
          ],
          [
           2017
          ],
          [
           2017
          ],
          [
           2017
          ],
          [
           2017
          ],
          [
           2017
          ],
          [
           2017
          ],
          [
           2017
          ],
          [
           2016
          ],
          [
           2016
          ],
          [
           2016
          ],
          [
           2016
          ],
          [
           2016
          ],
          [
           2016
          ],
          [
           2016
          ],
          [
           2016
          ],
          [
           2016
          ],
          [
           2016
          ],
          [
           2016
          ],
          [
           2016
          ],
          [
           2016
          ],
          [
           2016
          ],
          [
           2016
          ],
          [
           2016
          ],
          [
           2016
          ],
          [
           2016
          ],
          [
           2016
          ],
          [
           2016
          ],
          [
           2016
          ],
          [
           2016
          ],
          [
           2016
          ],
          [
           2016
          ],
          [
           2016
          ],
          [
           2016
          ],
          [
           2016
          ],
          [
           2016
          ],
          [
           2016
          ],
          [
           2016
          ]
         ],
         "hovertemplate": "<b>%{hovertext}</b><br><br>Year=%{marker.color}<extra></extra>",
         "hovertext": [
          "BOS",
          "OKC",
          "MIN",
          "DEN",
          "NYK",
          "NOP",
          "LAC",
          "PHI",
          "PHX",
          "IND",
          "GSW",
          "MIL",
          "CLE",
          "DAL",
          "ORL",
          "MIA",
          "SAC",
          "HOU",
          "LAL",
          "CHI",
          "ATL",
          "BKN",
          "UTA",
          "SAS",
          "TOR",
          "MEM",
          "DET",
          "WAS",
          "POR",
          "CHA",
          "BOS",
          "CLE",
          "PHI",
          "MEM",
          "MIL",
          "DEN",
          "NYK",
          "SAC",
          "PHX",
          "NOP",
          "GSW",
          "TOR",
          "CHI",
          "OKC",
          "BKN",
          "LAL",
          "LAC",
          "ATL",
          "DAL",
          "MIN",
          "MIA",
          "UTA",
          "WAS",
          "ORL",
          "IND",
          "POR",
          "CHA",
          "HOU",
          "DET",
          "SAS",
          "BOS",
          "PHX",
          "UTA",
          "MEM",
          "GSW",
          "MIA",
          "DAL",
          "MIL",
          "PHI",
          "MIN",
          "DEN",
          "TOR",
          "CLE",
          "ATL",
          "BKN",
          "CHA",
          "SAS",
          "LAC",
          "NYK",
          "CHI",
          "NOP",
          "LAL",
          "WAS",
          "IND",
          "SAC",
          "DET",
          "ORL",
          "OKC",
          "HOU",
          "POR",
          "UTA",
          "LAC",
          "PHX",
          "MIL",
          "PHI",
          "DEN",
          "BKN",
          "LAL",
          "DAL",
          "NYK",
          "ATL",
          "POR",
          "BOS",
          "GSW",
          "MEM",
          "MIA",
          "IND",
          "NOP",
          "TOR",
          "CHI",
          "SAS",
          "WAS",
          "CHA",
          "SAC",
          "DET",
          "MIN",
          "HOU",
          "CLE",
          "ORL",
          "OKC",
          "MIL",
          "BOS",
          "LAC",
          "TOR",
          "LAL",
          "DAL",
          "MIA",
          "HOU",
          "UTA",
          "PHI",
          "DEN",
          "IND",
          "OKC",
          "PHX",
          "BKN",
          "ORL",
          "SAS",
          "MEM",
          "POR",
          "NOP",
          "SAC",
          "CHI",
          "DET",
          "MIN",
          "WAS",
          "NYK",
          "CHA",
          "ATL",
          "CLE",
          "GSW",
          "MIL",
          "GSW",
          "TOR",
          "UTA",
          "HOU",
          "BOS",
          "POR",
          "DEN",
          "IND",
          "OKC",
          "PHI",
          "SAS",
          "LAC",
          "ORL",
          "BKN",
          "DET",
          "MIA",
          "SAC",
          "CHA",
          "NOP",
          "DAL",
          "MIN",
          "LAL",
          "MEM",
          "WAS",
          "ATL",
          "CHI",
          "NYK",
          "PHX",
          "CLE",
          "HOU",
          "TOR",
          "GSW",
          "UTA",
          "PHI",
          "BOS",
          "OKC",
          "SAS",
          "POR",
          "MIN",
          "DEN",
          "IND",
          "NOP",
          "CLE",
          "WAS",
          "MIA",
          "CHA",
          "LAC",
          "DET",
          "MIL",
          "LAL",
          "DAL",
          "NYK",
          "BKN",
          "ORL",
          "ATL",
          "MEM",
          "CHI",
          "SAC",
          "PHX",
          "GSW",
          "SAS",
          "HOU",
          "TOR",
          "LAC",
          "UTA",
          "CLE",
          "BOS",
          "WAS",
          "MIA",
          "OKC",
          "MEM",
          "DEN",
          "CHI",
          "CHA",
          "IND",
          "MIL",
          "POR",
          "ATL",
          "DET",
          "MIN",
          "NOP",
          "DAL",
          "NYK",
          "SAC",
          "PHX",
          "PHI",
          "BKN",
          "ORL",
          "LAL",
          "SAS",
          "GSW",
          "OKC",
          "CLE",
          "TOR",
          "LAC",
          "ATL",
          "BOS",
          "CHA",
          "UTA",
          "MIA",
          "IND",
          "POR",
          "DET",
          "HOU",
          "DAL",
          "WAS",
          "CHI",
          "ORL",
          "SAC",
          "MEM",
          "NYK",
          "DEN",
          "MIN",
          "NOP",
          "MIL",
          "PHX",
          "BKN",
          "LAL",
          "PHI"
         ],
         "legendgroup": "",
         "marker": {
          "color": [
           2024,
           2024,
           2024,
           2024,
           2024,
           2024,
           2024,
           2024,
           2024,
           2024,
           2024,
           2024,
           2024,
           2024,
           2024,
           2024,
           2024,
           2024,
           2024,
           2024,
           2024,
           2024,
           2024,
           2024,
           2024,
           2024,
           2024,
           2024,
           2024,
           2024,
           2023,
           2023,
           2023,
           2023,
           2023,
           2023,
           2023,
           2023,
           2023,
           2023,
           2023,
           2023,
           2023,
           2023,
           2023,
           2023,
           2023,
           2023,
           2023,
           2023,
           2023,
           2023,
           2023,
           2023,
           2023,
           2023,
           2023,
           2023,
           2023,
           2023,
           2022,
           2022,
           2022,
           2022,
           2022,
           2022,
           2022,
           2022,
           2022,
           2022,
           2022,
           2022,
           2022,
           2022,
           2022,
           2022,
           2022,
           2022,
           2022,
           2022,
           2022,
           2022,
           2022,
           2022,
           2022,
           2022,
           2022,
           2022,
           2022,
           2022,
           2021,
           2021,
           2021,
           2021,
           2021,
           2021,
           2021,
           2021,
           2021,
           2021,
           2021,
           2021,
           2021,
           2021,
           2021,
           2021,
           2021,
           2021,
           2021,
           2021,
           2021,
           2021,
           2021,
           2021,
           2021,
           2021,
           2021,
           2021,
           2021,
           2021,
           2020,
           2020,
           2020,
           2020,
           2020,
           2020,
           2020,
           2020,
           2020,
           2020,
           2020,
           2020,
           2020,
           2020,
           2020,
           2020,
           2020,
           2020,
           2020,
           2020,
           2020,
           2020,
           2020,
           2020,
           2020,
           2020,
           2020,
           2020,
           2020,
           2020,
           2019,
           2019,
           2019,
           2019,
           2019,
           2019,
           2019,
           2019,
           2019,
           2019,
           2019,
           2019,
           2019,
           2019,
           2019,
           2019,
           2019,
           2019,
           2019,
           2019,
           2019,
           2019,
           2019,
           2019,
           2019,
           2019,
           2019,
           2019,
           2019,
           2019,
           2018,
           2018,
           2018,
           2018,
           2018,
           2018,
           2018,
           2018,
           2018,
           2018,
           2018,
           2018,
           2018,
           2018,
           2018,
           2018,
           2018,
           2018,
           2018,
           2018,
           2018,
           2018,
           2018,
           2018,
           2018,
           2018,
           2018,
           2018,
           2018,
           2018,
           2017,
           2017,
           2017,
           2017,
           2017,
           2017,
           2017,
           2017,
           2017,
           2017,
           2017,
           2017,
           2017,
           2017,
           2017,
           2017,
           2017,
           2017,
           2017,
           2017,
           2017,
           2017,
           2017,
           2017,
           2017,
           2017,
           2017,
           2017,
           2017,
           2017,
           2016,
           2016,
           2016,
           2016,
           2016,
           2016,
           2016,
           2016,
           2016,
           2016,
           2016,
           2016,
           2016,
           2016,
           2016,
           2016,
           2016,
           2016,
           2016,
           2016,
           2016,
           2016,
           2016,
           2016,
           2016,
           2016,
           2016,
           2016,
           2016,
           2016
          ],
          "coloraxis": "coloraxis",
          "symbol": "circle"
         },
         "mode": "markers",
         "name": "",
         "orientation": "v",
         "showlegend": false,
         "type": "scatter",
         "x": [
          64,
          57,
          56,
          57,
          50,
          49,
          51,
          47,
          49,
          47,
          46,
          49,
          48,
          50,
          47,
          46,
          46,
          41,
          47,
          39,
          36,
          32,
          31,
          22,
          25,
          27,
          14,
          15,
          21,
          21,
          57,
          51,
          54,
          51,
          58,
          53,
          47,
          48,
          45,
          42,
          44,
          41,
          40,
          40,
          45,
          43,
          44,
          41,
          38,
          42,
          44,
          37,
          35,
          34,
          35,
          33,
          27,
          22,
          17,
          22,
          51,
          64,
          49,
          56,
          53,
          53,
          52,
          51,
          51,
          46,
          48,
          48,
          44,
          43,
          44,
          43,
          34,
          42,
          37,
          46,
          36,
          33,
          35,
          25,
          30,
          23,
          22,
          24,
          20,
          27,
          52,
          47,
          51,
          46,
          49,
          47,
          48,
          42,
          42,
          41,
          41,
          42,
          36,
          39,
          38,
          40,
          34,
          31,
          27,
          31,
          33,
          34,
          33,
          31,
          20,
          23,
          17,
          22,
          21,
          22,
          56,
          48,
          49,
          53,
          52,
          43,
          44,
          44,
          44,
          43,
          46,
          45,
          44,
          34,
          35,
          33,
          32,
          34,
          35,
          30,
          31,
          22,
          20,
          19,
          25,
          21,
          23,
          20,
          19,
          15,
          60,
          57,
          58,
          50,
          53,
          49,
          53,
          54,
          48,
          49,
          51,
          48,
          48,
          42,
          42,
          41,
          39,
          39,
          39,
          33,
          33,
          36,
          37,
          33,
          32,
          29,
          22,
          17,
          19,
          19,
          65,
          59,
          58,
          48,
          52,
          55,
          48,
          47,
          49,
          47,
          46,
          48,
          48,
          50,
          43,
          44,
          36,
          42,
          39,
          44,
          35,
          24,
          29,
          28,
          25,
          24,
          22,
          27,
          27,
          21,
          67,
          61,
          55,
          51,
          51,
          51,
          51,
          53,
          49,
          41,
          47,
          43,
          40,
          41,
          36,
          42,
          42,
          41,
          43,
          37,
          31,
          34,
          33,
          31,
          32,
          24,
          28,
          20,
          29,
          26,
          67,
          73,
          55,
          57,
          56,
          53,
          48,
          48,
          48,
          40,
          48,
          45,
          44,
          44,
          41,
          42,
          41,
          42,
          35,
          33,
          42,
          32,
          33,
          29,
          30,
          33,
          23,
          21,
          17,
          10
         ],
         "xaxis": "x",
         "y": [
          18,
          25,
          26,
          25,
          32,
          33,
          31,
          35,
          33,
          35,
          36,
          33,
          34,
          32,
          35,
          36,
          36,
          41,
          35,
          43,
          46,
          50,
          51,
          60,
          57,
          55,
          68,
          67,
          61,
          61,
          25,
          31,
          28,
          31,
          24,
          29,
          35,
          34,
          37,
          40,
          38,
          41,
          42,
          42,
          37,
          39,
          38,
          41,
          44,
          40,
          38,
          45,
          47,
          48,
          47,
          49,
          55,
          60,
          65,
          60,
          31,
          18,
          33,
          26,
          29,
          29,
          30,
          31,
          31,
          36,
          34,
          34,
          38,
          39,
          38,
          39,
          48,
          40,
          45,
          36,
          46,
          49,
          47,
          57,
          52,
          59,
          60,
          58,
          62,
          55,
          20,
          25,
          21,
          26,
          23,
          25,
          24,
          30,
          30,
          31,
          31,
          30,
          36,
          33,
          34,
          32,
          38,
          41,
          45,
          41,
          39,
          38,
          39,
          41,
          52,
          49,
          55,
          50,
          51,
          50,
          17,
          24,
          23,
          19,
          19,
          32,
          29,
          28,
          28,
          30,
          27,
          28,
          28,
          39,
          37,
          40,
          39,
          39,
          39,
          42,
          41,
          43,
          46,
          45,
          47,
          45,
          42,
          47,
          46,
          50,
          22,
          25,
          24,
          32,
          29,
          33,
          29,
          28,
          34,
          33,
          31,
          34,
          34,
          40,
          40,
          41,
          43,
          43,
          43,
          49,
          49,
          46,
          45,
          49,
          50,
          53,
          60,
          65,
          63,
          63,
          17,
          23,
          24,
          34,
          30,
          27,
          34,
          35,
          33,
          35,
          36,
          34,
          34,
          32,
          39,
          38,
          46,
          40,
          43,
          38,
          47,
          58,
          53,
          54,
          57,
          58,
          60,
          55,
          55,
          61,
          15,
          21,
          27,
          31,
          31,
          31,
          31,
          29,
          33,
          41,
          35,
          39,
          42,
          41,
          46,
          40,
          40,
          41,
          39,
          45,
          51,
          48,
          49,
          51,
          50,
          58,
          54,
          62,
          53,
          56,
          15,
          9,
          27,
          25,
          26,
          29,
          34,
          34,
          34,
          42,
          34,
          37,
          38,
          38,
          41,
          40,
          41,
          40,
          47,
          49,
          40,
          50,
          49,
          53,
          52,
          49,
          59,
          61,
          65,
          72
         ],
         "yaxis": "y"
        }
       ],
       "layout": {
        "coloraxis": {
         "colorbar": {
          "title": {
           "text": "Year"
          }
         },
         "colorscale": [
          [
           0,
           "#0d0887"
          ],
          [
           0.1111111111111111,
           "#46039f"
          ],
          [
           0.2222222222222222,
           "#7201a8"
          ],
          [
           0.3333333333333333,
           "#9c179e"
          ],
          [
           0.4444444444444444,
           "#bd3786"
          ],
          [
           0.5555555555555556,
           "#d8576b"
          ],
          [
           0.6666666666666666,
           "#ed7953"
          ],
          [
           0.7777777777777778,
           "#fb9f3a"
          ],
          [
           0.8888888888888888,
           "#fdca26"
          ],
          [
           1,
           "#f0f921"
          ]
         ]
        },
        "height": 600,
        "legend": {
         "title": {
          "text": "Season Year"
         },
         "tracegroupgap": 0
        },
        "template": {
         "data": {
          "bar": [
           {
            "error_x": {
             "color": "#2a3f5f"
            },
            "error_y": {
             "color": "#2a3f5f"
            },
            "marker": {
             "line": {
              "color": "#E5ECF6",
              "width": 0.5
             },
             "pattern": {
              "fillmode": "overlay",
              "size": 10,
              "solidity": 0.2
             }
            },
            "type": "bar"
           }
          ],
          "barpolar": [
           {
            "marker": {
             "line": {
              "color": "#E5ECF6",
              "width": 0.5
             },
             "pattern": {
              "fillmode": "overlay",
              "size": 10,
              "solidity": 0.2
             }
            },
            "type": "barpolar"
           }
          ],
          "carpet": [
           {
            "aaxis": {
             "endlinecolor": "#2a3f5f",
             "gridcolor": "white",
             "linecolor": "white",
             "minorgridcolor": "white",
             "startlinecolor": "#2a3f5f"
            },
            "baxis": {
             "endlinecolor": "#2a3f5f",
             "gridcolor": "white",
             "linecolor": "white",
             "minorgridcolor": "white",
             "startlinecolor": "#2a3f5f"
            },
            "type": "carpet"
           }
          ],
          "choropleth": [
           {
            "colorbar": {
             "outlinewidth": 0,
             "ticks": ""
            },
            "type": "choropleth"
           }
          ],
          "contour": [
           {
            "colorbar": {
             "outlinewidth": 0,
             "ticks": ""
            },
            "colorscale": [
             [
              0,
              "#0d0887"
             ],
             [
              0.1111111111111111,
              "#46039f"
             ],
             [
              0.2222222222222222,
              "#7201a8"
             ],
             [
              0.3333333333333333,
              "#9c179e"
             ],
             [
              0.4444444444444444,
              "#bd3786"
             ],
             [
              0.5555555555555556,
              "#d8576b"
             ],
             [
              0.6666666666666666,
              "#ed7953"
             ],
             [
              0.7777777777777778,
              "#fb9f3a"
             ],
             [
              0.8888888888888888,
              "#fdca26"
             ],
             [
              1,
              "#f0f921"
             ]
            ],
            "type": "contour"
           }
          ],
          "contourcarpet": [
           {
            "colorbar": {
             "outlinewidth": 0,
             "ticks": ""
            },
            "type": "contourcarpet"
           }
          ],
          "heatmap": [
           {
            "colorbar": {
             "outlinewidth": 0,
             "ticks": ""
            },
            "colorscale": [
             [
              0,
              "#0d0887"
             ],
             [
              0.1111111111111111,
              "#46039f"
             ],
             [
              0.2222222222222222,
              "#7201a8"
             ],
             [
              0.3333333333333333,
              "#9c179e"
             ],
             [
              0.4444444444444444,
              "#bd3786"
             ],
             [
              0.5555555555555556,
              "#d8576b"
             ],
             [
              0.6666666666666666,
              "#ed7953"
             ],
             [
              0.7777777777777778,
              "#fb9f3a"
             ],
             [
              0.8888888888888888,
              "#fdca26"
             ],
             [
              1,
              "#f0f921"
             ]
            ],
            "type": "heatmap"
           }
          ],
          "heatmapgl": [
           {
            "colorbar": {
             "outlinewidth": 0,
             "ticks": ""
            },
            "colorscale": [
             [
              0,
              "#0d0887"
             ],
             [
              0.1111111111111111,
              "#46039f"
             ],
             [
              0.2222222222222222,
              "#7201a8"
             ],
             [
              0.3333333333333333,
              "#9c179e"
             ],
             [
              0.4444444444444444,
              "#bd3786"
             ],
             [
              0.5555555555555556,
              "#d8576b"
             ],
             [
              0.6666666666666666,
              "#ed7953"
             ],
             [
              0.7777777777777778,
              "#fb9f3a"
             ],
             [
              0.8888888888888888,
              "#fdca26"
             ],
             [
              1,
              "#f0f921"
             ]
            ],
            "type": "heatmapgl"
           }
          ],
          "histogram": [
           {
            "marker": {
             "pattern": {
              "fillmode": "overlay",
              "size": 10,
              "solidity": 0.2
             }
            },
            "type": "histogram"
           }
          ],
          "histogram2d": [
           {
            "colorbar": {
             "outlinewidth": 0,
             "ticks": ""
            },
            "colorscale": [
             [
              0,
              "#0d0887"
             ],
             [
              0.1111111111111111,
              "#46039f"
             ],
             [
              0.2222222222222222,
              "#7201a8"
             ],
             [
              0.3333333333333333,
              "#9c179e"
             ],
             [
              0.4444444444444444,
              "#bd3786"
             ],
             [
              0.5555555555555556,
              "#d8576b"
             ],
             [
              0.6666666666666666,
              "#ed7953"
             ],
             [
              0.7777777777777778,
              "#fb9f3a"
             ],
             [
              0.8888888888888888,
              "#fdca26"
             ],
             [
              1,
              "#f0f921"
             ]
            ],
            "type": "histogram2d"
           }
          ],
          "histogram2dcontour": [
           {
            "colorbar": {
             "outlinewidth": 0,
             "ticks": ""
            },
            "colorscale": [
             [
              0,
              "#0d0887"
             ],
             [
              0.1111111111111111,
              "#46039f"
             ],
             [
              0.2222222222222222,
              "#7201a8"
             ],
             [
              0.3333333333333333,
              "#9c179e"
             ],
             [
              0.4444444444444444,
              "#bd3786"
             ],
             [
              0.5555555555555556,
              "#d8576b"
             ],
             [
              0.6666666666666666,
              "#ed7953"
             ],
             [
              0.7777777777777778,
              "#fb9f3a"
             ],
             [
              0.8888888888888888,
              "#fdca26"
             ],
             [
              1,
              "#f0f921"
             ]
            ],
            "type": "histogram2dcontour"
           }
          ],
          "mesh3d": [
           {
            "colorbar": {
             "outlinewidth": 0,
             "ticks": ""
            },
            "type": "mesh3d"
           }
          ],
          "parcoords": [
           {
            "line": {
             "colorbar": {
              "outlinewidth": 0,
              "ticks": ""
             }
            },
            "type": "parcoords"
           }
          ],
          "pie": [
           {
            "automargin": true,
            "type": "pie"
           }
          ],
          "scatter": [
           {
            "fillpattern": {
             "fillmode": "overlay",
             "size": 10,
             "solidity": 0.2
            },
            "type": "scatter"
           }
          ],
          "scatter3d": [
           {
            "line": {
             "colorbar": {
              "outlinewidth": 0,
              "ticks": ""
             }
            },
            "marker": {
             "colorbar": {
              "outlinewidth": 0,
              "ticks": ""
             }
            },
            "type": "scatter3d"
           }
          ],
          "scattercarpet": [
           {
            "marker": {
             "colorbar": {
              "outlinewidth": 0,
              "ticks": ""
             }
            },
            "type": "scattercarpet"
           }
          ],
          "scattergeo": [
           {
            "marker": {
             "colorbar": {
              "outlinewidth": 0,
              "ticks": ""
             }
            },
            "type": "scattergeo"
           }
          ],
          "scattergl": [
           {
            "marker": {
             "colorbar": {
              "outlinewidth": 0,
              "ticks": ""
             }
            },
            "type": "scattergl"
           }
          ],
          "scattermapbox": [
           {
            "marker": {
             "colorbar": {
              "outlinewidth": 0,
              "ticks": ""
             }
            },
            "type": "scattermapbox"
           }
          ],
          "scatterpolar": [
           {
            "marker": {
             "colorbar": {
              "outlinewidth": 0,
              "ticks": ""
             }
            },
            "type": "scatterpolar"
           }
          ],
          "scatterpolargl": [
           {
            "marker": {
             "colorbar": {
              "outlinewidth": 0,
              "ticks": ""
             }
            },
            "type": "scatterpolargl"
           }
          ],
          "scatterternary": [
           {
            "marker": {
             "colorbar": {
              "outlinewidth": 0,
              "ticks": ""
             }
            },
            "type": "scatterternary"
           }
          ],
          "surface": [
           {
            "colorbar": {
             "outlinewidth": 0,
             "ticks": ""
            },
            "colorscale": [
             [
              0,
              "#0d0887"
             ],
             [
              0.1111111111111111,
              "#46039f"
             ],
             [
              0.2222222222222222,
              "#7201a8"
             ],
             [
              0.3333333333333333,
              "#9c179e"
             ],
             [
              0.4444444444444444,
              "#bd3786"
             ],
             [
              0.5555555555555556,
              "#d8576b"
             ],
             [
              0.6666666666666666,
              "#ed7953"
             ],
             [
              0.7777777777777778,
              "#fb9f3a"
             ],
             [
              0.8888888888888888,
              "#fdca26"
             ],
             [
              1,
              "#f0f921"
             ]
            ],
            "type": "surface"
           }
          ],
          "table": [
           {
            "cells": {
             "fill": {
              "color": "#EBF0F8"
             },
             "line": {
              "color": "white"
             }
            },
            "header": {
             "fill": {
              "color": "#C8D4E3"
             },
             "line": {
              "color": "white"
             }
            },
            "type": "table"
           }
          ]
         },
         "layout": {
          "annotationdefaults": {
           "arrowcolor": "#2a3f5f",
           "arrowhead": 0,
           "arrowwidth": 1
          },
          "autotypenumbers": "strict",
          "coloraxis": {
           "colorbar": {
            "outlinewidth": 0,
            "ticks": ""
           }
          },
          "colorscale": {
           "diverging": [
            [
             0,
             "#8e0152"
            ],
            [
             0.1,
             "#c51b7d"
            ],
            [
             0.2,
             "#de77ae"
            ],
            [
             0.3,
             "#f1b6da"
            ],
            [
             0.4,
             "#fde0ef"
            ],
            [
             0.5,
             "#f7f7f7"
            ],
            [
             0.6,
             "#e6f5d0"
            ],
            [
             0.7,
             "#b8e186"
            ],
            [
             0.8,
             "#7fbc41"
            ],
            [
             0.9,
             "#4d9221"
            ],
            [
             1,
             "#276419"
            ]
           ],
           "sequential": [
            [
             0,
             "#0d0887"
            ],
            [
             0.1111111111111111,
             "#46039f"
            ],
            [
             0.2222222222222222,
             "#7201a8"
            ],
            [
             0.3333333333333333,
             "#9c179e"
            ],
            [
             0.4444444444444444,
             "#bd3786"
            ],
            [
             0.5555555555555556,
             "#d8576b"
            ],
            [
             0.6666666666666666,
             "#ed7953"
            ],
            [
             0.7777777777777778,
             "#fb9f3a"
            ],
            [
             0.8888888888888888,
             "#fdca26"
            ],
            [
             1,
             "#f0f921"
            ]
           ],
           "sequentialminus": [
            [
             0,
             "#0d0887"
            ],
            [
             0.1111111111111111,
             "#46039f"
            ],
            [
             0.2222222222222222,
             "#7201a8"
            ],
            [
             0.3333333333333333,
             "#9c179e"
            ],
            [
             0.4444444444444444,
             "#bd3786"
            ],
            [
             0.5555555555555556,
             "#d8576b"
            ],
            [
             0.6666666666666666,
             "#ed7953"
            ],
            [
             0.7777777777777778,
             "#fb9f3a"
            ],
            [
             0.8888888888888888,
             "#fdca26"
            ],
            [
             1,
             "#f0f921"
            ]
           ]
          },
          "colorway": [
           "#636efa",
           "#EF553B",
           "#00cc96",
           "#ab63fa",
           "#FFA15A",
           "#19d3f3",
           "#FF6692",
           "#B6E880",
           "#FF97FF",
           "#FECB52"
          ],
          "font": {
           "color": "#2a3f5f"
          },
          "geo": {
           "bgcolor": "white",
           "lakecolor": "white",
           "landcolor": "#E5ECF6",
           "showlakes": true,
           "showland": true,
           "subunitcolor": "white"
          },
          "hoverlabel": {
           "align": "left"
          },
          "hovermode": "closest",
          "mapbox": {
           "style": "light"
          },
          "paper_bgcolor": "white",
          "plot_bgcolor": "#E5ECF6",
          "polar": {
           "angularaxis": {
            "gridcolor": "white",
            "linecolor": "white",
            "ticks": ""
           },
           "bgcolor": "#E5ECF6",
           "radialaxis": {
            "gridcolor": "white",
            "linecolor": "white",
            "ticks": ""
           }
          },
          "scene": {
           "xaxis": {
            "backgroundcolor": "#E5ECF6",
            "gridcolor": "white",
            "gridwidth": 2,
            "linecolor": "white",
            "showbackground": true,
            "ticks": "",
            "zerolinecolor": "white"
           },
           "yaxis": {
            "backgroundcolor": "#E5ECF6",
            "gridcolor": "white",
            "gridwidth": 2,
            "linecolor": "white",
            "showbackground": true,
            "ticks": "",
            "zerolinecolor": "white"
           },
           "zaxis": {
            "backgroundcolor": "#E5ECF6",
            "gridcolor": "white",
            "gridwidth": 2,
            "linecolor": "white",
            "showbackground": true,
            "ticks": "",
            "zerolinecolor": "white"
           }
          },
          "shapedefaults": {
           "line": {
            "color": "#2a3f5f"
           }
          },
          "ternary": {
           "aaxis": {
            "gridcolor": "white",
            "linecolor": "white",
            "ticks": ""
           },
           "baxis": {
            "gridcolor": "white",
            "linecolor": "white",
            "ticks": ""
           },
           "bgcolor": "#E5ECF6",
           "caxis": {
            "gridcolor": "white",
            "linecolor": "white",
            "ticks": ""
           }
          },
          "title": {
           "x": 0.05
          },
          "xaxis": {
           "automargin": true,
           "gridcolor": "white",
           "linecolor": "white",
           "ticks": "",
           "title": {
            "standoff": 15
           },
           "zerolinecolor": "white",
           "zerolinewidth": 2
          },
          "yaxis": {
           "automargin": true,
           "gridcolor": "white",
           "linecolor": "white",
           "ticks": "",
           "title": {
            "standoff": 15
           },
           "zerolinecolor": "white",
           "zerolinewidth": 2
          }
         }
        },
        "title": {
         "text": "Total Wins vs Losses by Team and Year"
        },
        "width": 800,
        "xaxis": {
         "anchor": "y",
         "domain": [
          0,
          1
         ],
         "title": {
          "text": "Total Wins"
         }
        },
        "yaxis": {
         "anchor": "x",
         "domain": [
          0,
          1
         ],
         "title": {
          "text": "Total Losses"
         }
        }
       }
      }
     },
     "metadata": {},
     "output_type": "display_data"
    }
   ],
   "source": [
    "\n",
    "fig = px.scatter(\n",
    "    df, \n",
    "    x='W', \n",
    "    y='L', \n",
    "    color='Year',  # Different colors for each year\n",
    "    hover_name='Team',  # Hover data showing team names\n",
    "    hover_data={'Year': True, 'W': False, 'L': False},  # Include Year in hover, but hide W and L\n",
    "    title='Total Wins vs Losses by Team and Year',\n",
    "    labels={'W': 'Total Wins', 'L': 'Total Losses'}\n",
    ")\n",
    "\n",
    "\n",
    "fig.update_layout(\n",
    "    height=600,\n",
    "    width=800,\n",
    "    legend_title='Season Year'\n",
    ")\n",
    "\n",
    "\n",
    "fig.show()"
   ]
  },
  {
   "cell_type": "code",
   "execution_count": 9,
   "metadata": {},
   "outputs": [],
   "source": [
    "#Varaibles we are using to predict\n",
    "feat_list = ['ORtg', 'DRtg', 'TOV%']\n",
    "\n",
    "X = pd.DataFrame()\n",
    "for feat in df.columns:\n",
    "    if feat in feat_list:\n",
    "        X[f'{feat}'] = (df[feat] - df[feat].mean()) / df[feat].std()\n",
    "X = X.values\n",
    "\n",
    "#get y\n",
    "y = df['W']"
   ]
  },
  {
   "cell_type": "code",
   "execution_count": 10,
   "metadata": {},
   "outputs": [],
   "source": [
    "def add_bias_column(X):\n",
    "    \"\"\"\n",
    "    Args:\n",
    "        X (array): can be either 1-d or 2-d\n",
    "    \n",
    "    Returns:\n",
    "        Xnew (array): the same array, but 2-d with a column of 1's in the first spot\n",
    "    \"\"\"\n",
    "    \n",
    "    # If the array is 1-d\n",
    "    if len(X.shape) == 1:\n",
    "        Xnew = np.column_stack([np.ones(X.shape[0]), X])\n",
    "    \n",
    "    # If the array is 2-d\n",
    "    elif len(X.shape) == 2:\n",
    "        bias_col = np.ones((X.shape[0], 1))\n",
    "        Xnew = np.hstack([bias_col, X])\n",
    "        \n",
    "    else:\n",
    "        raise ValueError(\"Input array must be either 1-d or 2-d\")\n",
    "\n",
    "    return Xnew\n",
    "\n",
    "def line_of_best_fit(X,y):\n",
    "    \"\"\"Takes in all predictors values X and response values y, returning vector containing coefficients for the line of best Fit\n",
    "        Args: \n",
    "            X (array): 1-d or 2-d array of predictor values\n",
    "            y (array): 1-d array of all response values to X\n",
    "            \n",
    "        Returns:\n",
    "            coef (array): vector containing coefficients for line of best fit\"\"\"\n",
    "    X = add_bias_column(X)\n",
    "    XtXinv = np.linalg.inv(np.matmul(X.T, X))\n",
    "    coef = np.matmul(XtXinv, np.matmul(X.T, y))\n",
    "    return coef\n",
    "\n",
    "def linreg_predict(Xnew, ynew, m):\n",
    "    \"\"\"Gets predicted values, residuals, mse, and r^2 for a specific input of arrays\n",
    "    \n",
    "    Args:\n",
    "        Xnew (array): array with x values, not including bias terms\n",
    "        ynew (array): all response values to Xnew\n",
    "        m (array): coefficients from line of best fit\n",
    "        \n",
    "    Retuns:\n",
    "        linreg_dict (dictionary): dictionary containing ypreds, resids, mse, and r^2\"\"\"\n",
    "\n",
    "    #get ypreds\n",
    "    ypreds = np.matmul(add_bias_column(Xnew), m)\n",
    "\n",
    "    #get resids\n",
    "    resids = ynew - ypreds\n",
    "\n",
    "    #get mse\n",
    "    MSE = np.mean(resids ** 2)\n",
    "\n",
    "    #get r^2\n",
    "    r2 = r2_score(ynew, ypreds)\n",
    "\n",
    "    linreg_dict = {'ypreds': ypreds, 'resids': resids, 'mse': MSE, 'r2': r2}\n",
    "\n",
    "    return linreg_dict"
   ]
  },
  {
   "cell_type": "code",
   "execution_count": 11,
   "metadata": {},
   "outputs": [
    {
     "name": "stdout",
     "output_type": "stream",
     "text": [
      "MSE: 14.706841990817946\n",
      "r^2: 0.8958476288965742\n"
     ]
    }
   ],
   "source": [
    "#line of best fit values\n",
    "m = line_of_best_fit(X,y)\n",
    "\n",
    "#Linear regression values\n",
    "pred_values = linreg_predict(X,y, m)\n",
    "#predicted wins\n",
    "preds = pred_values['ypreds']\n",
    "#residuals\n",
    "resids = pred_values['resids']\n",
    "#MSE\n",
    "MSE = pred_values['mse']\n",
    "print(\"MSE: \" + str(MSE))\n",
    "#r2\n",
    "r2 = pred_values['r2']\n",
    "print(\"r^2: \" + str(r2))"
   ]
  },
  {
   "cell_type": "code",
   "execution_count": 12,
   "metadata": {},
   "outputs": [
    {
     "data": {
      "image/png": "[encoded data removed]",
      "text/plain": [
       "<Figure size 640x480 with 1 Axes>"
      ]
     },
     "metadata": {},
     "output_type": "display_data"
    }
   ],
   "source": [
    "# Residuals v index (independence)\n",
    "plt.scatter(range(len(X)), resids, alpha=0.5)\n",
    "plt.xlabel(\"index\")\n",
    "plt.ylabel(\"residuals\")\n",
    "plt.title(\"residual plot vs. index\")\n",
    "plt.show()"
   ]
  },
  {
   "cell_type": "code",
   "execution_count": 13,
   "metadata": {},
   "outputs": [
    {
     "data": {
      "image/png": "[encoded data removed]",
      "text/plain": [
       "<Figure size 640x480 with 1 Axes>"
      ]
     },
     "metadata": {},
     "output_type": "display_data"
    }
   ],
   "source": [
    "#cylinders vs. residuals (constant variance/linearity)\n",
    "plt.scatter(X[:,0], resids, alpha=0.5)\n",
    "plt.xlabel(\"ORtg\")\n",
    "plt.ylabel(\"Residuals\")\n",
    "plt.title(\"Residual plot vs. ORtg\")\n",
    "plt.show()"
   ]
  },
  {
   "cell_type": "code",
   "execution_count": 14,
   "metadata": {},
   "outputs": [
    {
     "data": {
      "image/png": "[encoded data removed]",
      "text/plain": [
       "<Figure size 640x480 with 1 Axes>"
      ]
     },
     "metadata": {},
     "output_type": "display_data"
    }
   ],
   "source": [
    "#cylinders vs. residuals (constant variance/linearity)\n",
    "plt.scatter(X[:,1], resids, alpha=0.5)\n",
    "plt.xlabel(\"DRtg\")\n",
    "plt.ylabel(\"Residuals\")\n",
    "plt.title(\"Residual plot vs. DRtg\")\n",
    "plt.show()"
   ]
  },
  {
   "cell_type": "code",
   "execution_count": 15,
   "metadata": {},
   "outputs": [
    {
     "data": {
      "image/png": "[encoded data removed]",
      "text/plain": [
       "<Figure size 640x480 with 1 Axes>"
      ]
     },
     "metadata": {},
     "output_type": "display_data"
    }
   ],
   "source": [
    "#cylinders vs. residuals (constant variance/linearity)\n",
    "plt.scatter(X[:,2], resids, alpha=0.5)\n",
    "plt.xlabel(\"TOV%\")\n",
    "plt.ylabel(\"Residuals\")\n",
    "plt.title(\"Residual plot vs. TOV%\")\n",
    "plt.show()"
   ]
  },
  {
   "cell_type": "code",
   "execution_count": 16,
   "metadata": {},
   "outputs": [
    {
     "data": {
      "image/png": "[encoded data removed]",
      "text/plain": [
       "<Figure size 640x480 with 1 Axes>"
      ]
     },
     "metadata": {},
     "output_type": "display_data"
    }
   ],
   "source": [
    "# histogram of residuals (normality)\n",
    "sns.histplot(resids, kde=False)\n",
    "plt.xlabel(\"residuals\")\n",
    "plt.title(\"histogram of residuals\")\n",
    "plt.show()"
   ]
  },
  {
   "cell_type": "markdown",
   "metadata": {},
   "source": [
    "Looking at our preliminary results, we see that there is clearly an accuracy within predicting the best and worst teams (most and least wins) recently in the NBA. For example, our ML model correctly predicted the 2024 Boston Celtics, who won the championship, to be the best team, and predicted the 2016 Philadelphia 76ers (who had a record of 10 wins to 72 losses) to be the worst team. Furthermore, our ML model generated an R^2 of 0.8958476288965742, showing that our ML model is quite accurate in predicting the actual data. Our R^2 shows that our model performs well in capturing the relationship between the input features (teams offensive rating, defensive rating, and turnover percentage) and the target variable (wins). Our ML model also generated an MSE of 14.706814990817946, which is pretty good as MSE is supposed to be as low as possible. This shows that there is a low variance in errors in our ML model. \n",
    "\n",
    " For ethical considerations, we have generally agreed that there aren’t any besides impact on a players life. In recent times, a common argument against data analytics in sports is that the data doesn’t fully capture all aspects of the sport. While the data can predict outcomes and certainly help with decisions regarding players, they miss out on emotions and family situations that could be occurring with the player. Something that is not really considered when seeing a player get traded or cut is the effect it has on his family and home life. Athletes settle down in the city their team resides in, and being traded forces them to move, making it hard on any children they have and their families. When a player is cut, they are essentially being fired, which has obvious effects on their life. The data we are trying to predict, if used to make these decisions, could potentially harm players' lives outside of basketball. However this is all assuming that action is taken using the data without any input from outside factors. In the world of sports, there aren’t any teams that purely base their decisions on data, and while they may be a big factor, teams still have other factors to consider. Some of these factors are players personalities, locker room impact and others. Overall, we believe that the model and our goal don’t have any ethical considerations outside of the one just mentioned. \n"
   ]
  },
  {
   "cell_type": "code",
   "execution_count": 20,
   "metadata": {},
   "outputs": [],
   "source": [
    "#df with only selected varaibles from player data\n",
    "class_df = clean_player_df[['PTS','TRB','G']]\n",
    "#class_df.insert(0, 'Bias', 1)\n",
    "X = class_df.to_numpy()\n",
    "#Y values (all star appearances)\n",
    "y = clean_player_df['AS'].to_numpy()"
   ]
  },
  {
   "cell_type": "code",
   "execution_count": 21,
   "metadata": {},
   "outputs": [
    {
     "name": "stdout",
     "output_type": "stream",
     "text": [
      "Accuracy: 0.9836956521739131\n"
     ]
    }
   ],
   "source": [
    "#Get training vs testing data\n",
    "X_train, X_test, y_train, y_test = train_test_split(X, y, test_size=0.5)\n",
    "\n",
    "#Using a random forest model from scikit \n",
    "rf = RandomForestClassifier()\n",
    "rf.fit(X_train, y_train)\n",
    "\n",
    "#Get the prediction values\n",
    "y_pred = rf.predict(X_test)\n",
    "\n",
    "#Compare these values to the test values, get accuracy score\n",
    "print(\"Accuracy:\", accuracy_score(y_test, y_pred))"
   ]
  },
  {
   "cell_type": "code",
   "execution_count": 22,
   "metadata": {},
   "outputs": [
    {
     "data": {
      "application/vnd.plotly.v1+json": {
       "config": {
        "plotlyServerURL": "https://plot.ly"
       },
       "data": [
        {
         "hovertemplate": "Results=Non all star predicted non all star<br>PTS=%{x}<br>G=%{y}<br>TRB=%{z}<extra></extra>",
         "legendgroup": "Non all star predicted non all star",
         "marker": {
          "color": "#636efa",
          "symbol": "circle"
         },
         "mode": "markers",
         "name": "Non all star predicted non all star",
         "scene": "scene",
         "showlegend": true,
         "type": "scatter3d",
         "x": [
          11.4,
          10.5,
          15.5,
          11.5,
          5,
          18,
          7.4,
          1.3,
          2.8,
          5.1,
          5.3,
          4.3,
          4.5,
          12,
          8.8,
          13.7,
          10,
          6.2,
          9,
          2.5,
          2.4,
          9.1,
          5.7,
          7.1,
          15.1,
          3.6,
          9.6,
          6.8,
          8.4,
          2,
          8,
          4,
          5.3,
          4.2,
          5.4,
          6.3,
          3.2,
          16.5,
          4.2,
          0.7,
          8.6,
          6.3,
          14,
          6.8,
          2.8,
          4.2,
          4.5,
          3.3,
          7,
          4,
          19.8,
          10.9,
          8.5,
          6,
          11.3,
          4.1,
          5.3,
          4.5,
          10.5,
          15.1,
          10.2,
          4.7,
          8.1,
          1.4,
          12.6,
          3.5,
          1,
          4.4,
          6.6,
          4,
          13.8,
          6.4,
          3.7,
          3.7,
          1.2,
          10,
          1.8,
          19.5,
          21,
          2,
          10.8,
          4,
          6.9,
          1.3,
          10.5,
          5.6,
          4.4,
          9.7,
          10.1,
          5.8,
          20.8,
          1,
          15.9,
          15.2,
          2.6,
          5.1,
          5.6,
          19.6,
          7.6,
          5,
          24,
          15.7,
          14.5,
          4.4,
          6.4,
          3.7,
          3.3,
          2.4,
          16.4,
          4.6,
          8.4,
          12.2,
          1.6,
          0.6,
          2.2,
          4.5,
          9.2,
          13.7,
          6,
          3,
          12.1,
          5.3,
          1.8,
          0.9,
          0.8,
          3.7,
          5.6,
          2.6,
          7.8,
          4.4,
          7.2,
          5.7,
          12.2,
          0.7,
          3.4,
          0.7,
          4.4,
          2.3,
          0.5,
          0.4,
          8.3,
          6.6,
          1.7,
          13.5,
          8,
          10.3,
          9.8,
          5,
          6.5,
          7.3,
          2.7,
          8.8,
          8.2,
          6.2,
          10.5,
          4.7,
          3.5,
          1.7,
          1.8,
          8.2,
          6.3,
          14.6,
          7.7,
          2.2,
          20.2,
          7.7,
          19.4,
          5.7,
          13,
          2.5,
          13.8,
          6.8,
          3.1,
          5.2,
          12.3,
          0,
          16,
          3.2,
          14.8,
          4.5,
          1.6,
          15,
          8.3,
          8.1,
          6.8,
          4,
          9.3,
          2.9,
          12.2,
          11.2,
          6.5,
          5.8,
          9.4,
          5.4,
          5.7,
          2.3,
          3.2,
          9.9,
          11.3,
          12.1,
          2.2,
          1.6,
          0,
          3.5,
          5,
          1.5,
          14.7,
          3.4,
          1,
          22.2,
          2.3,
          5,
          1.8,
          2.9,
          9.8,
          3.1,
          10.8,
          4.4,
          18,
          7.3,
          6.8,
          2.3,
          21.1,
          11.9,
          22.7,
          4.2,
          6.7,
          13.7,
          16.1,
          7.7,
          1.7,
          4,
          3.8,
          2.7,
          0,
          0.7,
          12.7,
          4.3,
          6.2,
          8,
          8.1,
          2.3,
          3.3,
          2.8,
          1,
          3.4,
          9.8,
          1.5,
          4.1,
          3.6,
          4.5,
          4.1,
          1.8,
          11.2,
          6.1,
          1,
          5.1,
          1.5,
          9.9,
          4.6,
          5.5,
          0,
          7.8,
          3.2,
          1.4,
          4.8,
          5.3,
          1.4,
          25.1,
          1.3,
          4.5,
          19.6,
          2.8,
          10.4,
          2.4,
          4.4,
          1.2,
          6.5,
          3.1,
          4,
          6.9,
          1.3,
          12.7,
          2.6,
          0.7,
          8.1,
          2.7,
          8.8,
          5,
          10.9,
          2.9,
          0.8,
          6.5,
          3,
          0,
          3.3,
          2.5,
          3,
          6,
          7.4,
          1.5,
          2.2,
          10.3,
          10,
          1.3,
          2,
          3.4,
          10.8,
          4.2,
          9,
          2.4,
          7.1,
          12.6,
          21.8,
          2.5,
          4.7,
          1.7,
          6.2,
          4,
          5,
          18.2,
          8.1,
          1,
          4.1,
          8,
          2.4,
          16.7,
          5,
          0,
          14.1,
          3.3,
          4.2,
          15.2,
          12.9,
          18.7,
          0,
          5.9,
          10.9,
          7.2,
          5.5,
          17.4,
          2.9,
          2.7,
          14.5,
          10.3,
          1.4,
          7.2,
          6.2,
          7.5,
          0,
          4.3,
          3.7,
          10.9,
          4.2,
          14.7
         ],
         "y": [
          76,
          14,
          81,
          73,
          40,
          76,
          49,
          6,
          36,
          44,
          63,
          9,
          48,
          52,
          63,
          76,
          77,
          73,
          8,
          35,
          26,
          68,
          53,
          63,
          27,
          14,
          82,
          4,
          48,
          6,
          23,
          24,
          24,
          37,
          42,
          21,
          17,
          77,
          18,
          3,
          76,
          60,
          62,
          61,
          4,
          59,
          56,
          16,
          52,
          41,
          61,
          46,
          60,
          26,
          79,
          33,
          9,
          47,
          66,
          68,
          64,
          6,
          47,
          22,
          48,
          23,
          2,
          43,
          56,
          3,
          4,
          49,
          11,
          3,
          21,
          43,
          43,
          25,
          69,
          1,
          30,
          9,
          63,
          25,
          76,
          31,
          33,
          58,
          51,
          12,
          42,
          2,
          82,
          77,
          15,
          31,
          76,
          82,
          49,
          2,
          79,
          69,
          20,
          40,
          50,
          55,
          16,
          23,
          31,
          48,
          63,
          70,
          28,
          11,
          38,
          39,
          68,
          63,
          7,
          40,
          84,
          60,
          6,
          34,
          17,
          53,
          51,
          15,
          75,
          26,
          29,
          9,
          76,
          25,
          22,
          6,
          57,
          10,
          6,
          8,
          71,
          78,
          31,
          75,
          6,
          82,
          22,
          4,
          78,
          40,
          3,
          55,
          78,
          50,
          72,
          69,
          13,
          17,
          15,
          37,
          59,
          29,
          79,
          44,
          28,
          25,
          82,
          49,
          75,
          48,
          82,
          25,
          36,
          28,
          80,
          2,
          56,
          14,
          57,
          6,
          27,
          30,
          68,
          60,
          28,
          6,
          31,
          39,
          82,
          69,
          59,
          23,
          81,
          51,
          61,
          15,
          58,
          61,
          6,
          33,
          40,
          32,
          1,
          56,
          2,
          4,
          50,
          23,
          3,
          70,
          9,
          23,
          10,
          15,
          51,
          59,
          35,
          37,
          57,
          45,
          6,
          24,
          63,
          28,
          62,
          13,
          37,
          71,
          74,
          3,
          54,
          46,
          12,
          15,
          4,
          12,
          19,
          59,
          47,
          64,
          50,
          10,
          8,
          19,
          4,
          11,
          78,
          16,
          65,
          33,
          4,
          9,
          34,
          29,
          15,
          5,
          59,
          22,
          43,
          60,
          28,
          2,
          67,
          28,
          5,
          43,
          46,
          15,
          9,
          11,
          50,
          82,
          4,
          29,
          14,
          48,
          10,
          23,
          11,
          1,
          37,
          4,
          28,
          5,
          7,
          64,
          19,
          28,
          23,
          80,
          15,
          8,
          57,
          3,
          3,
          30,
          26,
          50,
          34,
          78,
          31,
          14,
          54,
          17,
          8,
          3,
          5,
          67,
          34,
          79,
          11,
          66,
          43,
          32,
          6,
          38,
          6,
          5,
          20,
          72,
          53,
          30,
          3,
          10,
          82,
          20,
          55,
          43,
          2,
          23,
          49,
          22,
          73,
          21,
          78,
          1,
          15,
          79,
          31,
          44,
          73,
          14,
          39,
          25,
          76,
          14,
          38,
          13,
          4,
          2,
          55,
          58,
          76,
          67,
          75
         ],
         "z": [
          2.9,
          6,
          3.7,
          10.6,
          2.9,
          10.5,
          4.5,
          0,
          2.3,
          1.5,
          4.1,
          1.6,
          1.6,
          3.2,
          6.4,
          8.1,
          3.8,
          3.3,
          2,
          0.9,
          1.2,
          3.7,
          4.1,
          5.3,
          3.9,
          0.6,
          3.2,
          4.5,
          4.2,
          0.3,
          2.8,
          3.1,
          2.1,
          1.9,
          2.3,
          1.8,
          0.8,
          10.5,
          0.6,
          0.7,
          3.3,
          4.1,
          3.1,
          6.4,
          1,
          2.4,
          1.1,
          2.7,
          2.9,
          1.2,
          4,
          6.6,
          2.2,
          3.6,
          3.7,
          1.8,
          3.1,
          1.8,
          3.7,
          8.5,
          3.5,
          2,
          3.6,
          0.3,
          3.3,
          1.4,
          1.5,
          3.3,
          2.9,
          1,
          5,
          2.7,
          2,
          3,
          1,
          3.9,
          2.6,
          5.2,
          7.3,
          0,
          2.1,
          4,
          3.1,
          2.6,
          2.7,
          8.5,
          3.4,
          2.2,
          2.4,
          2.1,
          5.3,
          1,
          4.3,
          5.5,
          1,
          2.1,
          3.1,
          4.5,
          7.2,
          1,
          4.3,
          5.5,
          2.7,
          5.2,
          4.1,
          2.9,
          0.3,
          1.3,
          4.2,
          4.3,
          4.1,
          4.8,
          2.5,
          1.3,
          1.3,
          2.6,
          2.1,
          6.5,
          2.9,
          2,
          3.2,
          4.1,
          1,
          0.4,
          0.3,
          2.1,
          2.1,
          1.9,
          8.3,
          3.2,
          1.9,
          1.6,
          2.8,
          0.5,
          3.9,
          0.7,
          4.2,
          0.9,
          1.2,
          0.4,
          1.8,
          1.6,
          2.7,
          3.9,
          4.5,
          3.9,
          7,
          1.8,
          2.3,
          4.6,
          2.3,
          6.1,
          2.3,
          3.2,
          3.1,
          3,
          2.2,
          1.2,
          0.2,
          3.5,
          4.1,
          3.5,
          4.8,
          1.7,
          3.4,
          5.4,
          13.7,
          2.2,
          2.8,
          2.7,
          7.4,
          5.4,
          1.5,
          3.2,
          6.4,
          1,
          8.7,
          2.3,
          4.9,
          2,
          0.5,
          2.6,
          1.5,
          3.2,
          1.7,
          3.7,
          1.8,
          1.9,
          8.8,
          5.4,
          4,
          3.5,
          8.3,
          2.5,
          5,
          2.4,
          2.2,
          5.5,
          5.3,
          4.7,
          0.9,
          0.5,
          0,
          1.3,
          1.5,
          3,
          4.2,
          3.4,
          0.3,
          6.6,
          2.1,
          3.3,
          1.8,
          0.7,
          3.5,
          1.9,
          3.7,
          1.9,
          2.7,
          2,
          6.3,
          1.5,
          9.3,
          4.5,
          4.3,
          1.8,
          2.9,
          2.6,
          4.8,
          2.3,
          0.8,
          2.7,
          1.8,
          0.9,
          0.8,
          0.6,
          9.7,
          1.4,
          1.3,
          4.4,
          5.1,
          2.8,
          2,
          1.6,
          0.5,
          3.1,
          5.3,
          0.8,
          3,
          1.9,
          2,
          3.6,
          1.6,
          6.9,
          7.9,
          1.2,
          1.7,
          2.3,
          2.8,
          2.6,
          4.4,
          0,
          2.2,
          0.9,
          1,
          2,
          5.1,
          0.3,
          5.6,
          0.5,
          1.2,
          5.2,
          1,
          2,
          1.3,
          2.1,
          1,
          1.7,
          0.8,
          2,
          1.5,
          0.3,
          5.6,
          3.4,
          0.1,
          7.5,
          1.1,
          1.8,
          1.6,
          4.3,
          0.9,
          0.3,
          4.4,
          2.7,
          0.3,
          0.8,
          1.5,
          1.4,
          4.6,
          1.5,
          1.2,
          0.4,
          3.3,
          8,
          0.8,
          4.7,
          5,
          4.2,
          1.7,
          3.5,
          2.1,
          3.6,
          2.6,
          6.4,
          1.5,
          1.3,
          1.7,
          1.4,
          2.7,
          0.8,
          4.4,
          5.2,
          0.3,
          1.1,
          2,
          0.9,
          11.1,
          3,
          0,
          4.4,
          1.6,
          3.3,
          4.2,
          3.2,
          2.6,
          1,
          3.5,
          3.6,
          2.4,
          2.6,
          3.8,
          1.4,
          1.6,
          4.7,
          4.2,
          0.9,
          3.3,
          1.8,
          2.5,
          0.5,
          4.7,
          2.2,
          11,
          2.1,
          7.2
         ]
        },
        {
         "hovertemplate": "Results=Non all star predicted all star<br>PTS=%{x}<br>G=%{y}<br>TRB=%{z}<extra></extra>",
         "legendgroup": "Non all star predicted all star",
         "marker": {
          "color": "#EF553B",
          "symbol": "circle"
         },
         "mode": "markers",
         "name": "Non all star predicted all star",
         "scene": "scene",
         "showlegend": true,
         "type": "scatter3d",
         "x": [
          26.6,
          22.9
         ],
         "y": [
          74,
          70
         ],
         "z": [
          4.6,
          5.8
         ]
        },
        {
         "hovertemplate": "Results=All star predicted all star<br>PTS=%{x}<br>G=%{y}<br>TRB=%{z}<extra></extra>",
         "legendgroup": "All star predicted all star",
         "marker": {
          "color": "#00cc96",
          "symbol": "circle"
         },
         "mode": "markers",
         "name": "All star predicted all star",
         "scene": "scene",
         "showlegend": true,
         "type": "scatter3d",
         "x": [
          25.7,
          30.4,
          27.1,
          28.7,
          26.4,
          33.9,
          26.6
         ],
         "y": [
          71,
          73,
          68,
          77,
          74,
          70,
          55
         ],
         "z": [
          7.3,
          11.5,
          4.5,
          3.6,
          4.5,
          9.2,
          5.1
         ]
        },
        {
         "hovertemplate": "Results=All star predicted non all star<br>PTS=%{x}<br>G=%{y}<br>TRB=%{z}<extra></extra>",
         "legendgroup": "All star predicted non all star",
         "marker": {
          "color": "#ab63fa",
          "symbol": "circle"
         },
         "mode": "markers",
         "name": "All star predicted non all star",
         "scene": "scene",
         "showlegend": true,
         "type": "scatter3d",
         "x": [
          21.8,
          22.6,
          24.3,
          22.6
         ],
         "y": [
          62,
          80,
          73,
          74
         ],
         "z": [
          8.3,
          6.9,
          4.4,
          5.2
         ]
        }
       ],
       "layout": {
        "legend": {
         "title": {
          "text": "Results"
         },
         "tracegroupgap": 0
        },
        "scene": {
         "domain": {
          "x": [
           0,
           1
          ],
          "y": [
           0,
           1
          ]
         },
         "xaxis": {
          "title": {
           "text": "PTS"
          }
         },
         "yaxis": {
          "title": {
           "text": "G"
          }
         },
         "zaxis": {
          "title": {
           "text": "TRB"
          }
         }
        },
        "template": {
         "data": {
          "bar": [
           {
            "error_x": {
             "color": "#2a3f5f"
            },
            "error_y": {
             "color": "#2a3f5f"
            },
            "marker": {
             "line": {
              "color": "#E5ECF6",
              "width": 0.5
             },
             "pattern": {
              "fillmode": "overlay",
              "size": 10,
              "solidity": 0.2
             }
            },
            "type": "bar"
           }
          ],
          "barpolar": [
           {
            "marker": {
             "line": {
              "color": "#E5ECF6",
              "width": 0.5
             },
             "pattern": {
              "fillmode": "overlay",
              "size": 10,
              "solidity": 0.2
             }
            },
            "type": "barpolar"
           }
          ],
          "carpet": [
           {
            "aaxis": {
             "endlinecolor": "#2a3f5f",
             "gridcolor": "white",
             "linecolor": "white",
             "minorgridcolor": "white",
             "startlinecolor": "#2a3f5f"
            },
            "baxis": {
             "endlinecolor": "#2a3f5f",
             "gridcolor": "white",
             "linecolor": "white",
             "minorgridcolor": "white",
             "startlinecolor": "#2a3f5f"
            },
            "type": "carpet"
           }
          ],
          "choropleth": [
           {
            "colorbar": {
             "outlinewidth": 0,
             "ticks": ""
            },
            "type": "choropleth"
           }
          ],
          "contour": [
           {
            "colorbar": {
             "outlinewidth": 0,
             "ticks": ""
            },
            "colorscale": [
             [
              0,
              "#0d0887"
             ],
             [
              0.1111111111111111,
              "#46039f"
             ],
             [
              0.2222222222222222,
              "#7201a8"
             ],
             [
              0.3333333333333333,
              "#9c179e"
             ],
             [
              0.4444444444444444,
              "#bd3786"
             ],
             [
              0.5555555555555556,
              "#d8576b"
             ],
             [
              0.6666666666666666,
              "#ed7953"
             ],
             [
              0.7777777777777778,
              "#fb9f3a"
             ],
             [
              0.8888888888888888,
              "#fdca26"
             ],
             [
              1,
              "#f0f921"
             ]
            ],
            "type": "contour"
           }
          ],
          "contourcarpet": [
           {
            "colorbar": {
             "outlinewidth": 0,
             "ticks": ""
            },
            "type": "contourcarpet"
           }
          ],
          "heatmap": [
           {
            "colorbar": {
             "outlinewidth": 0,
             "ticks": ""
            },
            "colorscale": [
             [
              0,
              "#0d0887"
             ],
             [
              0.1111111111111111,
              "#46039f"
             ],
             [
              0.2222222222222222,
              "#7201a8"
             ],
             [
              0.3333333333333333,
              "#9c179e"
             ],
             [
              0.4444444444444444,
              "#bd3786"
             ],
             [
              0.5555555555555556,
              "#d8576b"
             ],
             [
              0.6666666666666666,
              "#ed7953"
             ],
             [
              0.7777777777777778,
              "#fb9f3a"
             ],
             [
              0.8888888888888888,
              "#fdca26"
             ],
             [
              1,
              "#f0f921"
             ]
            ],
            "type": "heatmap"
           }
          ],
          "heatmapgl": [
           {
            "colorbar": {
             "outlinewidth": 0,
             "ticks": ""
            },
            "colorscale": [
             [
              0,
              "#0d0887"
             ],
             [
              0.1111111111111111,
              "#46039f"
             ],
             [
              0.2222222222222222,
              "#7201a8"
             ],
             [
              0.3333333333333333,
              "#9c179e"
             ],
             [
              0.4444444444444444,
              "#bd3786"
             ],
             [
              0.5555555555555556,
              "#d8576b"
             ],
             [
              0.6666666666666666,
              "#ed7953"
             ],
             [
              0.7777777777777778,
              "#fb9f3a"
             ],
             [
              0.8888888888888888,
              "#fdca26"
             ],
             [
              1,
              "#f0f921"
             ]
            ],
            "type": "heatmapgl"
           }
          ],
          "histogram": [
           {
            "marker": {
             "pattern": {
              "fillmode": "overlay",
              "size": 10,
              "solidity": 0.2
             }
            },
            "type": "histogram"
           }
          ],
          "histogram2d": [
           {
            "colorbar": {
             "outlinewidth": 0,
             "ticks": ""
            },
            "colorscale": [
             [
              0,
              "#0d0887"
             ],
             [
              0.1111111111111111,
              "#46039f"
             ],
             [
              0.2222222222222222,
              "#7201a8"
             ],
             [
              0.3333333333333333,
              "#9c179e"
             ],
             [
              0.4444444444444444,
              "#bd3786"
             ],
             [
              0.5555555555555556,
              "#d8576b"
             ],
             [
              0.6666666666666666,
              "#ed7953"
             ],
             [
              0.7777777777777778,
              "#fb9f3a"
             ],
             [
              0.8888888888888888,
              "#fdca26"
             ],
             [
              1,
              "#f0f921"
             ]
            ],
            "type": "histogram2d"
           }
          ],
          "histogram2dcontour": [
           {
            "colorbar": {
             "outlinewidth": 0,
             "ticks": ""
            },
            "colorscale": [
             [
              0,
              "#0d0887"
             ],
             [
              0.1111111111111111,
              "#46039f"
             ],
             [
              0.2222222222222222,
              "#7201a8"
             ],
             [
              0.3333333333333333,
              "#9c179e"
             ],
             [
              0.4444444444444444,
              "#bd3786"
             ],
             [
              0.5555555555555556,
              "#d8576b"
             ],
             [
              0.6666666666666666,
              "#ed7953"
             ],
             [
              0.7777777777777778,
              "#fb9f3a"
             ],
             [
              0.8888888888888888,
              "#fdca26"
             ],
             [
              1,
              "#f0f921"
             ]
            ],
            "type": "histogram2dcontour"
           }
          ],
          "mesh3d": [
           {
            "colorbar": {
             "outlinewidth": 0,
             "ticks": ""
            },
            "type": "mesh3d"
           }
          ],
          "parcoords": [
           {
            "line": {
             "colorbar": {
              "outlinewidth": 0,
              "ticks": ""
             }
            },
            "type": "parcoords"
           }
          ],
          "pie": [
           {
            "automargin": true,
            "type": "pie"
           }
          ],
          "scatter": [
           {
            "fillpattern": {
             "fillmode": "overlay",
             "size": 10,
             "solidity": 0.2
            },
            "type": "scatter"
           }
          ],
          "scatter3d": [
           {
            "line": {
             "colorbar": {
              "outlinewidth": 0,
              "ticks": ""
             }
            },
            "marker": {
             "colorbar": {
              "outlinewidth": 0,
              "ticks": ""
             }
            },
            "type": "scatter3d"
           }
          ],
          "scattercarpet": [
           {
            "marker": {
             "colorbar": {
              "outlinewidth": 0,
              "ticks": ""
             }
            },
            "type": "scattercarpet"
           }
          ],
          "scattergeo": [
           {
            "marker": {
             "colorbar": {
              "outlinewidth": 0,
              "ticks": ""
             }
            },
            "type": "scattergeo"
           }
          ],
          "scattergl": [
           {
            "marker": {
             "colorbar": {
              "outlinewidth": 0,
              "ticks": ""
             }
            },
            "type": "scattergl"
           }
          ],
          "scattermapbox": [
           {
            "marker": {
             "colorbar": {
              "outlinewidth": 0,
              "ticks": ""
             }
            },
            "type": "scattermapbox"
           }
          ],
          "scatterpolar": [
           {
            "marker": {
             "colorbar": {
              "outlinewidth": 0,
              "ticks": ""
             }
            },
            "type": "scatterpolar"
           }
          ],
          "scatterpolargl": [
           {
            "marker": {
             "colorbar": {
              "outlinewidth": 0,
              "ticks": ""
             }
            },
            "type": "scatterpolargl"
           }
          ],
          "scatterternary": [
           {
            "marker": {
             "colorbar": {
              "outlinewidth": 0,
              "ticks": ""
             }
            },
            "type": "scatterternary"
           }
          ],
          "surface": [
           {
            "colorbar": {
             "outlinewidth": 0,
             "ticks": ""
            },
            "colorscale": [
             [
              0,
              "#0d0887"
             ],
             [
              0.1111111111111111,
              "#46039f"
             ],
             [
              0.2222222222222222,
              "#7201a8"
             ],
             [
              0.3333333333333333,
              "#9c179e"
             ],
             [
              0.4444444444444444,
              "#bd3786"
             ],
             [
              0.5555555555555556,
              "#d8576b"
             ],
             [
              0.6666666666666666,
              "#ed7953"
             ],
             [
              0.7777777777777778,
              "#fb9f3a"
             ],
             [
              0.8888888888888888,
              "#fdca26"
             ],
             [
              1,
              "#f0f921"
             ]
            ],
            "type": "surface"
           }
          ],
          "table": [
           {
            "cells": {
             "fill": {
              "color": "#EBF0F8"
             },
             "line": {
              "color": "white"
             }
            },
            "header": {
             "fill": {
              "color": "#C8D4E3"
             },
             "line": {
              "color": "white"
             }
            },
            "type": "table"
           }
          ]
         },
         "layout": {
          "annotationdefaults": {
           "arrowcolor": "#2a3f5f",
           "arrowhead": 0,
           "arrowwidth": 1
          },
          "autotypenumbers": "strict",
          "coloraxis": {
           "colorbar": {
            "outlinewidth": 0,
            "ticks": ""
           }
          },
          "colorscale": {
           "diverging": [
            [
             0,
             "#8e0152"
            ],
            [
             0.1,
             "#c51b7d"
            ],
            [
             0.2,
             "#de77ae"
            ],
            [
             0.3,
             "#f1b6da"
            ],
            [
             0.4,
             "#fde0ef"
            ],
            [
             0.5,
             "#f7f7f7"
            ],
            [
             0.6,
             "#e6f5d0"
            ],
            [
             0.7,
             "#b8e186"
            ],
            [
             0.8,
             "#7fbc41"
            ],
            [
             0.9,
             "#4d9221"
            ],
            [
             1,
             "#276419"
            ]
           ],
           "sequential": [
            [
             0,
             "#0d0887"
            ],
            [
             0.1111111111111111,
             "#46039f"
            ],
            [
             0.2222222222222222,
             "#7201a8"
            ],
            [
             0.3333333333333333,
             "#9c179e"
            ],
            [
             0.4444444444444444,
             "#bd3786"
            ],
            [
             0.5555555555555556,
             "#d8576b"
            ],
            [
             0.6666666666666666,
             "#ed7953"
            ],
            [
             0.7777777777777778,
             "#fb9f3a"
            ],
            [
             0.8888888888888888,
             "#fdca26"
            ],
            [
             1,
             "#f0f921"
            ]
           ],
           "sequentialminus": [
            [
             0,
             "#0d0887"
            ],
            [
             0.1111111111111111,
             "#46039f"
            ],
            [
             0.2222222222222222,
             "#7201a8"
            ],
            [
             0.3333333333333333,
             "#9c179e"
            ],
            [
             0.4444444444444444,
             "#bd3786"
            ],
            [
             0.5555555555555556,
             "#d8576b"
            ],
            [
             0.6666666666666666,
             "#ed7953"
            ],
            [
             0.7777777777777778,
             "#fb9f3a"
            ],
            [
             0.8888888888888888,
             "#fdca26"
            ],
            [
             1,
             "#f0f921"
            ]
           ]
          },
          "colorway": [
           "#636efa",
           "#EF553B",
           "#00cc96",
           "#ab63fa",
           "#FFA15A",
           "#19d3f3",
           "#FF6692",
           "#B6E880",
           "#FF97FF",
           "#FECB52"
          ],
          "font": {
           "color": "#2a3f5f"
          },
          "geo": {
           "bgcolor": "white",
           "lakecolor": "white",
           "landcolor": "#E5ECF6",
           "showlakes": true,
           "showland": true,
           "subunitcolor": "white"
          },
          "hoverlabel": {
           "align": "left"
          },
          "hovermode": "closest",
          "mapbox": {
           "style": "light"
          },
          "paper_bgcolor": "white",
          "plot_bgcolor": "#E5ECF6",
          "polar": {
           "angularaxis": {
            "gridcolor": "white",
            "linecolor": "white",
            "ticks": ""
           },
           "bgcolor": "#E5ECF6",
           "radialaxis": {
            "gridcolor": "white",
            "linecolor": "white",
            "ticks": ""
           }
          },
          "scene": {
           "xaxis": {
            "backgroundcolor": "#E5ECF6",
            "gridcolor": "white",
            "gridwidth": 2,
            "linecolor": "white",
            "showbackground": true,
            "ticks": "",
            "zerolinecolor": "white"
           },
           "yaxis": {
            "backgroundcolor": "#E5ECF6",
            "gridcolor": "white",
            "gridwidth": 2,
            "linecolor": "white",
            "showbackground": true,
            "ticks": "",
            "zerolinecolor": "white"
           },
           "zaxis": {
            "backgroundcolor": "#E5ECF6",
            "gridcolor": "white",
            "gridwidth": 2,
            "linecolor": "white",
            "showbackground": true,
            "ticks": "",
            "zerolinecolor": "white"
           }
          },
          "shapedefaults": {
           "line": {
            "color": "#2a3f5f"
           }
          },
          "ternary": {
           "aaxis": {
            "gridcolor": "white",
            "linecolor": "white",
            "ticks": ""
           },
           "baxis": {
            "gridcolor": "white",
            "linecolor": "white",
            "ticks": ""
           },
           "bgcolor": "#E5ECF6",
           "caxis": {
            "gridcolor": "white",
            "linecolor": "white",
            "ticks": ""
           }
          },
          "title": {
           "x": 0.05
          },
          "xaxis": {
           "automargin": true,
           "gridcolor": "white",
           "linecolor": "white",
           "ticks": "",
           "title": {
            "standoff": 15
           },
           "zerolinecolor": "white",
           "zerolinewidth": 2
          },
          "yaxis": {
           "automargin": true,
           "gridcolor": "white",
           "linecolor": "white",
           "ticks": "",
           "title": {
            "standoff": 15
           },
           "zerolinecolor": "white",
           "zerolinewidth": 2
          }
         }
        },
        "title": {
         "text": "RF All star Predictions using PTS, TRB, and G"
        }
       }
      }
     },
     "metadata": {},
     "output_type": "display_data"
    }
   ],
   "source": [
    "#Create new column, which lists whether the prediction matches or doesnt\n",
    "result = pd.Series()\n",
    "for i in range(len(y_test)):\n",
    "    if(y_test[i] == 1):\n",
    "        if(y_pred[i] == 1):\n",
    "            result[i] = 'All star predicted all star'\n",
    "        else:\n",
    "            result[i] = 'All star predicted non all star' \n",
    "    elif(y_pred[i] == 1):\n",
    "        result[i] = 'Non all star predicted all star'\n",
    "    else:\n",
    "        result[i] = 'Non all star predicted non all star'\n",
    "\n",
    "X_plot = pd.DataFrame({\n",
    "    'PTS': X_test[:,0],\n",
    "    'TRB': X_test[:,1],\n",
    "    'G': X_test[:,2],\n",
    "    'Results': result\n",
    "})\n",
    "\n",
    "plot = px.scatter_3d(X_plot, x = 'PTS',  \n",
    "                     y = 'G', \n",
    "                     z= 'TRB',\n",
    "                     color= 'Results',\n",
    "                     title= 'RF All star Predictions using PTS, TRB, and G') \n",
    "plot.show()"
   ]
  },
  {
   "cell_type": "markdown",
   "metadata": {},
   "source": [
    "Above is a 3d graph with Games, Points, and total rebounds as the axes. The color in this graph then represents the relationship between the all star value and predicted all star value. More specifically, there are four colors/relationships, as depicted in the legend on the right. "
   ]
  },
  {
   "cell_type": "markdown",
   "metadata": {},
   "source": [
    "Discussion for Model 2:\n",
    "We decided to use a random forest classifier from scikit-learn to model the relation between points, rebounds, games played, and All star. When considering our second question, I would say this model "
   ]
  }
 ],
 "metadata": {
  "kernelspec": {
   "display_name": "Python 3",
   "language": "python",
   "name": "python3"
  },
  "language_info": {
   "codemirror_mode": {
    "name": "ipython",
    "version": 3
   },
   "file_extension": ".py",
   "mimetype": "text/x-python",
   "name": "python",
   "nbconvert_exporter": "python",
   "pygments_lexer": "ipython3",
   "version": "3.9.6"
  }
 },
 "nbformat": 4,
 "nbformat_minor": 2
}
